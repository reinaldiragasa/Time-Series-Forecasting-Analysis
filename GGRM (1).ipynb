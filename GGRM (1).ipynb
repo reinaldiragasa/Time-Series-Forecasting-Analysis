{
 "cells": [
  {
   "cell_type": "markdown",
   "id": "4df4fadd-f096-4a61-a292-65663792f34b",
   "metadata": {},
   "source": [
    "# **GUDANG GARAM (GGRM) Stock Forecasting Business Plan**\n",
    "\n",
    "---\n",
    "\n",
    "## **Introduction**\n",
    "\n",
    "### **Company Background**  \n",
    "Clove Investments Indonesia is a trusted mutual fund investment company dedicated to providing tailored financial solutions for a diverse range of investors. With a strong focus on growth, stability, and expert management, the company delivers personalized guidance through a skilled team of financial advisors to achieve clients' unique investment goals.\n",
    "\n",
    "---\n",
    "\n",
    "## **Stakeholders**\n",
    "\n",
    "1. **Mutual Fund Manager:** Seeking innovative tools to enhance trading strategies for \"GGRM\" stock.\n",
    "2. **Investors:** Expecting maximized returns with robust risk management and clear performance insights.\n",
    "\n",
    "---\n",
    "\n",
    "## **Problem Statement**\n",
    "\n",
    "How can we develop a machine learning model capable of forecasting \"GGRM\" stock prices for the next year to:  \n",
    "- Enhance the mutual fund manager's ability to execute long and short strategies.  \n",
    "- Maximize returns through bi-directional trading.  \n",
    "- Maintain robust risk management.\n",
    "\n",
    "---\n",
    "\n",
    "## **Goals**\n",
    "\n",
    "- Minimize investment risk.  \n",
    "- Enhance investor confidence.  \n",
    "- Maximize returns by capitalizing on price movements."
   ]
  },
  {
   "cell_type": "code",
   "execution_count": 76,
   "id": "b065e267-4f58-4a5c-9e57-e61173885740",
   "metadata": {},
   "outputs": [],
   "source": [
    "import numpy as np\n",
    "import pandas as pd\n",
    "import matplotlib.pyplot as plt\n",
    "import seaborn as sns\n",
    "import category_encoders as ce\n",
    "import warnings\n",
    "warnings.filterwarnings(\"ignore\")\n",
    "\n",
    "# Forecasting\n",
    "import prophet\n",
    "from statsmodels.tsa.arima.model import ARIMA\n",
    "from statsmodels.graphics.tsaplots import plot_acf, plot_pacf\n",
    "from statsmodels.tsa.stattools import acf, pacf\n",
    "\n",
    "import math\n",
    "sns.set_style('whitegrid')\n",
    "plt.style.use(\"fivethirtyeight\")\n",
    "\n",
    "import keras\n",
    "from keras.models import Sequential\n",
    "from keras.callbacks import EarlyStopping\n",
    "from keras.layers import LSTM, Dense, Dropout, BatchNormalization\n",
    "\n",
    "from sklearn.preprocessing import MinMaxScaler\n",
    "from sklearn.model_selection import train_test_split\n",
    "from sklearn.metrics import mean_squared_error, mean_absolute_error"
   ]
  },
  {
   "cell_type": "markdown",
   "id": "71918c5c-95ef-4749-9a82-e95bc67d5884",
   "metadata": {},
   "source": [
    "`LSTM Model`"
   ]
  },
  {
   "cell_type": "code",
   "execution_count": 80,
   "id": "cd27ae22-80c4-4548-a697-170d520c77d9",
   "metadata": {},
   "outputs": [
    {
     "data": {
      "text/html": [
       "<div>\n",
       "<style scoped>\n",
       "    .dataframe tbody tr th:only-of-type {\n",
       "        vertical-align: middle;\n",
       "    }\n",
       "\n",
       "    .dataframe tbody tr th {\n",
       "        vertical-align: top;\n",
       "    }\n",
       "\n",
       "    .dataframe thead th {\n",
       "        text-align: right;\n",
       "    }\n",
       "</style>\n",
       "<table border=\"1\" class=\"dataframe\">\n",
       "  <thead>\n",
       "    <tr style=\"text-align: right;\">\n",
       "      <th></th>\n",
       "      <th>y</th>\n",
       "    </tr>\n",
       "    <tr>\n",
       "      <th>ds</th>\n",
       "      <th></th>\n",
       "    </tr>\n",
       "  </thead>\n",
       "  <tbody>\n",
       "    <tr>\n",
       "      <th>2021-02-05</th>\n",
       "      <td>32318.501953</td>\n",
       "    </tr>\n",
       "    <tr>\n",
       "      <th>2021-02-06</th>\n",
       "      <td>32318.501953</td>\n",
       "    </tr>\n",
       "    <tr>\n",
       "      <th>2021-02-07</th>\n",
       "      <td>32318.501953</td>\n",
       "    </tr>\n",
       "    <tr>\n",
       "      <th>2021-02-08</th>\n",
       "      <td>32256.154297</td>\n",
       "    </tr>\n",
       "    <tr>\n",
       "      <th>2021-02-09</th>\n",
       "      <td>32235.369141</td>\n",
       "    </tr>\n",
       "    <tr>\n",
       "      <th>...</th>\n",
       "      <td>...</td>\n",
       "    </tr>\n",
       "    <tr>\n",
       "      <th>2025-01-31</th>\n",
       "      <td>11250.000000</td>\n",
       "    </tr>\n",
       "    <tr>\n",
       "      <th>2025-02-01</th>\n",
       "      <td>11250.000000</td>\n",
       "    </tr>\n",
       "    <tr>\n",
       "      <th>2025-02-02</th>\n",
       "      <td>11250.000000</td>\n",
       "    </tr>\n",
       "    <tr>\n",
       "      <th>2025-02-03</th>\n",
       "      <td>10875.000000</td>\n",
       "    </tr>\n",
       "    <tr>\n",
       "      <th>2025-02-04</th>\n",
       "      <td>11125.000000</td>\n",
       "    </tr>\n",
       "  </tbody>\n",
       "</table>\n",
       "<p>1461 rows × 1 columns</p>\n",
       "</div>"
      ],
      "text/plain": [
       "                       y\n",
       "ds                      \n",
       "2021-02-05  32318.501953\n",
       "2021-02-06  32318.501953\n",
       "2021-02-07  32318.501953\n",
       "2021-02-08  32256.154297\n",
       "2021-02-09  32235.369141\n",
       "...                  ...\n",
       "2025-01-31  11250.000000\n",
       "2025-02-01  11250.000000\n",
       "2025-02-02  11250.000000\n",
       "2025-02-03  10875.000000\n",
       "2025-02-04  11125.000000\n",
       "\n",
       "[1461 rows x 1 columns]"
      ]
     },
     "execution_count": 80,
     "metadata": {},
     "output_type": "execute_result"
    }
   ],
   "source": [
    "df = pd.read_csv('cast.csv', parse_dates= True , index_col= \"ds\")\n",
    "df.drop(columns = ['Unnamed: 0'], inplace = True)\n",
    "df"
   ]
  },
  {
   "cell_type": "code",
   "execution_count": 82,
   "id": "ec89a9c6-9201-4c7e-9e0e-d718f47abdd0",
   "metadata": {},
   "outputs": [
    {
     "data": {
      "text/plain": [
       "(1461, 1)"
      ]
     },
     "execution_count": 82,
     "metadata": {},
     "output_type": "execute_result"
    }
   ],
   "source": [
    "dataset = df[\"y\"]\n",
    "dataset = pd.DataFrame(dataset)\n",
    "\n",
    "data = dataset.values\n",
    "\n",
    "data.shape"
   ]
  },
  {
   "cell_type": "code",
   "execution_count": 164,
   "id": "7d089170-f103-4500-9168-397e5b97f047",
   "metadata": {},
   "outputs": [
    {
     "data": {
      "text/html": [
       "<div>\n",
       "<style scoped>\n",
       "    .dataframe tbody tr th:only-of-type {\n",
       "        vertical-align: middle;\n",
       "    }\n",
       "\n",
       "    .dataframe tbody tr th {\n",
       "        vertical-align: top;\n",
       "    }\n",
       "\n",
       "    .dataframe thead th {\n",
       "        text-align: right;\n",
       "    }\n",
       "</style>\n",
       "<table border=\"1\" class=\"dataframe\">\n",
       "  <thead>\n",
       "    <tr style=\"text-align: right;\">\n",
       "      <th></th>\n",
       "      <th>y</th>\n",
       "    </tr>\n",
       "  </thead>\n",
       "  <tbody>\n",
       "    <tr>\n",
       "      <th>count</th>\n",
       "      <td>1461.000000</td>\n",
       "    </tr>\n",
       "    <tr>\n",
       "      <th>mean</th>\n",
       "      <td>23648.797527</td>\n",
       "    </tr>\n",
       "    <tr>\n",
       "      <th>std</th>\n",
       "      <td>5481.573748</td>\n",
       "    </tr>\n",
       "    <tr>\n",
       "      <th>min</th>\n",
       "      <td>10875.000000</td>\n",
       "    </tr>\n",
       "    <tr>\n",
       "      <th>25%</th>\n",
       "      <td>19750.000000</td>\n",
       "    </tr>\n",
       "    <tr>\n",
       "      <th>50%</th>\n",
       "      <td>24589.648438</td>\n",
       "    </tr>\n",
       "    <tr>\n",
       "      <th>75%</th>\n",
       "      <td>27864.843750</td>\n",
       "    </tr>\n",
       "    <tr>\n",
       "      <th>max</th>\n",
       "      <td>39281.007812</td>\n",
       "    </tr>\n",
       "  </tbody>\n",
       "</table>\n",
       "</div>"
      ],
      "text/plain": [
       "                  y\n",
       "count   1461.000000\n",
       "mean   23648.797527\n",
       "std     5481.573748\n",
       "min    10875.000000\n",
       "25%    19750.000000\n",
       "50%    24589.648438\n",
       "75%    27864.843750\n",
       "max    39281.007812"
      ]
     },
     "execution_count": 164,
     "metadata": {},
     "output_type": "execute_result"
    }
   ],
   "source": [
    "df.describe()"
   ]
  },
  {
   "cell_type": "markdown",
   "id": "6e6dc17d-318c-4ec1-ab1d-15cd24e107b4",
   "metadata": {},
   "source": [
    "### **Descriptive Statistics:**  \n",
    "- **Average Price:** Rp 23,648  \n",
    "- **Min Price:** Rp 10,875  \n",
    "- **Median:** Rp 24,589  \n",
    "- **Max Price:** Rp 39,281  \n",
    "\n",
    "---"
   ]
  },
  {
   "cell_type": "markdown",
   "id": "df780074-d90a-48d2-8c7e-03303b23ad8d",
   "metadata": {},
   "source": [
    "## **Data Preparation and Analysis**  \n",
    "\n",
    "- **Training Data:** February 5, 2021 – December 31, 2023  \n",
    "- **Validation Data:** January 1, 2024 – February 4, 2025\n",
    "\n",
    "---"
   ]
  },
  {
   "cell_type": "code",
   "execution_count": 84,
   "id": "2baa76ca-dce3-4bae-b426-d93efa0b5124",
   "metadata": {},
   "outputs": [],
   "source": [
    "from sklearn.preprocessing import MinMaxScaler\n",
    "scaler = MinMaxScaler(feature_range= (0, 1))\n",
    "scaled_data = scaler.fit_transform(np.array(data).reshape(-1, 1))"
   ]
  },
  {
   "cell_type": "code",
   "execution_count": 86,
   "id": "f1619f8a-41a8-46be-b36f-611b2aac2123",
   "metadata": {},
   "outputs": [
    {
     "name": "stdout",
     "output_type": "stream",
     "text": [
      "Train Size : 1095 Test Size : 366\n"
     ]
    }
   ],
   "source": [
    "train_size = int(len(data)*.75)\n",
    "test_size = len(data) - train_size\n",
    "\n",
    "print(\"Train Size :\",train_size,\"Test Size :\",test_size)\n",
    "\n",
    "train_data = scaled_data[ :train_size , 0:1 ]\n",
    "test_data = scaled_data[ train_size-60: , 0:1 ]"
   ]
  },
  {
   "cell_type": "code",
   "execution_count": 88,
   "id": "9fdcf8b7-0b26-47ba-9206-f004f93bc070",
   "metadata": {},
   "outputs": [],
   "source": [
    "x_train = []\n",
    "y_train = []\n",
    "\n",
    "for i in range(60, len(train_data)):\n",
    "    x_train.append(train_data[i-60:i, 0])\n",
    "    y_train.append(train_data[i, 0])"
   ]
  },
  {
   "cell_type": "code",
   "execution_count": 90,
   "id": "3e9b9d65-240c-4ec3-8185-85816ecb48f4",
   "metadata": {},
   "outputs": [],
   "source": [
    "x_train, y_train = np.array(x_train), np.array(y_train)"
   ]
  },
  {
   "cell_type": "code",
   "execution_count": 92,
   "id": "f4899af5-510f-4139-8ea8-4ad4d25e5f4e",
   "metadata": {},
   "outputs": [],
   "source": [
    "# Reshaping the input\n",
    "x_train = np.reshape(x_train, (x_train.shape[0], x_train.shape[1], 1))"
   ]
  },
  {
   "cell_type": "code",
   "execution_count": 94,
   "id": "aa3b1aaa-b084-4c21-9482-6e4b5ff3991d",
   "metadata": {},
   "outputs": [],
   "source": [
    "model = Sequential([\n",
    "    LSTM(50, return_sequences= True, input_shape= (x_train.shape[1], 1)),\n",
    "    LSTM(64, return_sequences= False),\n",
    "    Dense(32),\n",
    "    Dense(16),\n",
    "    Dense(1)\n",
    "])\n",
    "\n",
    "model.compile(optimizer='adam', loss='mse', metrics=['mean_absolute_error'])"
   ]
  },
  {
   "cell_type": "code",
   "execution_count": 96,
   "id": "6d2962ef-b727-49b0-b943-ed838f398605",
   "metadata": {},
   "outputs": [
    {
     "data": {
      "text/html": [
       "<pre style=\"white-space:pre;overflow-x:auto;line-height:normal;font-family:Menlo,'DejaVu Sans Mono',consolas,'Courier New',monospace\"><span style=\"font-weight: bold\">Model: \"sequential\"</span>\n",
       "</pre>\n"
      ],
      "text/plain": [
       "\u001b[1mModel: \"sequential\"\u001b[0m\n"
      ]
     },
     "metadata": {},
     "output_type": "display_data"
    },
    {
     "data": {
      "text/html": [
       "<pre style=\"white-space:pre;overflow-x:auto;line-height:normal;font-family:Menlo,'DejaVu Sans Mono',consolas,'Courier New',monospace\">┏━━━━━━━━━━━━━━━━━━━━━━━━━━━━━━━━━━━━━━┳━━━━━━━━━━━━━━━━━━━━━━━━━━━━━┳━━━━━━━━━━━━━━━━━┓\n",
       "┃<span style=\"font-weight: bold\"> Layer (type)                         </span>┃<span style=\"font-weight: bold\"> Output Shape                </span>┃<span style=\"font-weight: bold\">         Param # </span>┃\n",
       "┡━━━━━━━━━━━━━━━━━━━━━━━━━━━━━━━━━━━━━━╇━━━━━━━━━━━━━━━━━━━━━━━━━━━━━╇━━━━━━━━━━━━━━━━━┩\n",
       "│ lstm (<span style=\"color: #0087ff; text-decoration-color: #0087ff\">LSTM</span>)                          │ (<span style=\"color: #00d7ff; text-decoration-color: #00d7ff\">None</span>, <span style=\"color: #00af00; text-decoration-color: #00af00\">60</span>, <span style=\"color: #00af00; text-decoration-color: #00af00\">50</span>)              │          <span style=\"color: #00af00; text-decoration-color: #00af00\">10,400</span> │\n",
       "├──────────────────────────────────────┼─────────────────────────────┼─────────────────┤\n",
       "│ lstm_1 (<span style=\"color: #0087ff; text-decoration-color: #0087ff\">LSTM</span>)                        │ (<span style=\"color: #00d7ff; text-decoration-color: #00d7ff\">None</span>, <span style=\"color: #00af00; text-decoration-color: #00af00\">64</span>)                  │          <span style=\"color: #00af00; text-decoration-color: #00af00\">29,440</span> │\n",
       "├──────────────────────────────────────┼─────────────────────────────┼─────────────────┤\n",
       "│ dense (<span style=\"color: #0087ff; text-decoration-color: #0087ff\">Dense</span>)                        │ (<span style=\"color: #00d7ff; text-decoration-color: #00d7ff\">None</span>, <span style=\"color: #00af00; text-decoration-color: #00af00\">32</span>)                  │           <span style=\"color: #00af00; text-decoration-color: #00af00\">2,080</span> │\n",
       "├──────────────────────────────────────┼─────────────────────────────┼─────────────────┤\n",
       "│ dense_1 (<span style=\"color: #0087ff; text-decoration-color: #0087ff\">Dense</span>)                      │ (<span style=\"color: #00d7ff; text-decoration-color: #00d7ff\">None</span>, <span style=\"color: #00af00; text-decoration-color: #00af00\">16</span>)                  │             <span style=\"color: #00af00; text-decoration-color: #00af00\">528</span> │\n",
       "├──────────────────────────────────────┼─────────────────────────────┼─────────────────┤\n",
       "│ dense_2 (<span style=\"color: #0087ff; text-decoration-color: #0087ff\">Dense</span>)                      │ (<span style=\"color: #00d7ff; text-decoration-color: #00d7ff\">None</span>, <span style=\"color: #00af00; text-decoration-color: #00af00\">1</span>)                   │              <span style=\"color: #00af00; text-decoration-color: #00af00\">17</span> │\n",
       "└──────────────────────────────────────┴─────────────────────────────┴─────────────────┘\n",
       "</pre>\n"
      ],
      "text/plain": [
       "┏━━━━━━━━━━━━━━━━━━━━━━━━━━━━━━━━━━━━━━┳━━━━━━━━━━━━━━━━━━━━━━━━━━━━━┳━━━━━━━━━━━━━━━━━┓\n",
       "┃\u001b[1m \u001b[0m\u001b[1mLayer (type)                        \u001b[0m\u001b[1m \u001b[0m┃\u001b[1m \u001b[0m\u001b[1mOutput Shape               \u001b[0m\u001b[1m \u001b[0m┃\u001b[1m \u001b[0m\u001b[1m        Param #\u001b[0m\u001b[1m \u001b[0m┃\n",
       "┡━━━━━━━━━━━━━━━━━━━━━━━━━━━━━━━━━━━━━━╇━━━━━━━━━━━━━━━━━━━━━━━━━━━━━╇━━━━━━━━━━━━━━━━━┩\n",
       "│ lstm (\u001b[38;5;33mLSTM\u001b[0m)                          │ (\u001b[38;5;45mNone\u001b[0m, \u001b[38;5;34m60\u001b[0m, \u001b[38;5;34m50\u001b[0m)              │          \u001b[38;5;34m10,400\u001b[0m │\n",
       "├──────────────────────────────────────┼─────────────────────────────┼─────────────────┤\n",
       "│ lstm_1 (\u001b[38;5;33mLSTM\u001b[0m)                        │ (\u001b[38;5;45mNone\u001b[0m, \u001b[38;5;34m64\u001b[0m)                  │          \u001b[38;5;34m29,440\u001b[0m │\n",
       "├──────────────────────────────────────┼─────────────────────────────┼─────────────────┤\n",
       "│ dense (\u001b[38;5;33mDense\u001b[0m)                        │ (\u001b[38;5;45mNone\u001b[0m, \u001b[38;5;34m32\u001b[0m)                  │           \u001b[38;5;34m2,080\u001b[0m │\n",
       "├──────────────────────────────────────┼─────────────────────────────┼─────────────────┤\n",
       "│ dense_1 (\u001b[38;5;33mDense\u001b[0m)                      │ (\u001b[38;5;45mNone\u001b[0m, \u001b[38;5;34m16\u001b[0m)                  │             \u001b[38;5;34m528\u001b[0m │\n",
       "├──────────────────────────────────────┼─────────────────────────────┼─────────────────┤\n",
       "│ dense_2 (\u001b[38;5;33mDense\u001b[0m)                      │ (\u001b[38;5;45mNone\u001b[0m, \u001b[38;5;34m1\u001b[0m)                   │              \u001b[38;5;34m17\u001b[0m │\n",
       "└──────────────────────────────────────┴─────────────────────────────┴─────────────────┘\n"
      ]
     },
     "metadata": {},
     "output_type": "display_data"
    },
    {
     "data": {
      "text/html": [
       "<pre style=\"white-space:pre;overflow-x:auto;line-height:normal;font-family:Menlo,'DejaVu Sans Mono',consolas,'Courier New',monospace\"><span style=\"font-weight: bold\"> Total params: </span><span style=\"color: #00af00; text-decoration-color: #00af00\">42,465</span> (165.88 KB)\n",
       "</pre>\n"
      ],
      "text/plain": [
       "\u001b[1m Total params: \u001b[0m\u001b[38;5;34m42,465\u001b[0m (165.88 KB)\n"
      ]
     },
     "metadata": {},
     "output_type": "display_data"
    },
    {
     "data": {
      "text/html": [
       "<pre style=\"white-space:pre;overflow-x:auto;line-height:normal;font-family:Menlo,'DejaVu Sans Mono',consolas,'Courier New',monospace\"><span style=\"font-weight: bold\"> Trainable params: </span><span style=\"color: #00af00; text-decoration-color: #00af00\">42,465</span> (165.88 KB)\n",
       "</pre>\n"
      ],
      "text/plain": [
       "\u001b[1m Trainable params: \u001b[0m\u001b[38;5;34m42,465\u001b[0m (165.88 KB)\n"
      ]
     },
     "metadata": {},
     "output_type": "display_data"
    },
    {
     "data": {
      "text/html": [
       "<pre style=\"white-space:pre;overflow-x:auto;line-height:normal;font-family:Menlo,'DejaVu Sans Mono',consolas,'Courier New',monospace\"><span style=\"font-weight: bold\"> Non-trainable params: </span><span style=\"color: #00af00; text-decoration-color: #00af00\">0</span> (0.00 B)\n",
       "</pre>\n"
      ],
      "text/plain": [
       "\u001b[1m Non-trainable params: \u001b[0m\u001b[38;5;34m0\u001b[0m (0.00 B)\n"
      ]
     },
     "metadata": {},
     "output_type": "display_data"
    }
   ],
   "source": [
    "model.summary()"
   ]
  },
  {
   "cell_type": "code",
   "execution_count": 100,
   "id": "9fcf5331-e959-408c-b005-045cfea05b24",
   "metadata": {
    "scrolled": true
   },
   "outputs": [
    {
     "name": "stdout",
     "output_type": "stream",
     "text": [
      "Epoch 1/100\n",
      "\u001b[1m33/33\u001b[0m \u001b[32m━━━━━━━━━━━━━━━━━━━━\u001b[0m\u001b[37m\u001b[0m \u001b[1m1s\u001b[0m 19ms/step - loss: 0.0013 - mean_absolute_error: 0.0258    \n",
      "Epoch 2/100\n",
      "\u001b[1m33/33\u001b[0m \u001b[32m━━━━━━━━━━━━━━━━━━━━\u001b[0m\u001b[37m\u001b[0m \u001b[1m1s\u001b[0m 20ms/step - loss: 0.0011 - mean_absolute_error: 0.0216    \n",
      "Epoch 3/100\n",
      "\u001b[1m33/33\u001b[0m \u001b[32m━━━━━━━━━━━━━━━━━━━━\u001b[0m\u001b[37m\u001b[0m \u001b[1m1s\u001b[0m 20ms/step - loss: 0.0011 - mean_absolute_error: 0.0232\n",
      "Epoch 4/100\n",
      "\u001b[1m33/33\u001b[0m \u001b[32m━━━━━━━━━━━━━━━━━━━━\u001b[0m\u001b[37m\u001b[0m \u001b[1m1s\u001b[0m 20ms/step - loss: 0.0011 - mean_absolute_error: 0.0231    \n",
      "Epoch 5/100\n",
      "\u001b[1m33/33\u001b[0m \u001b[32m━━━━━━━━━━━━━━━━━━━━\u001b[0m\u001b[37m\u001b[0m \u001b[1m1s\u001b[0m 20ms/step - loss: 0.0011 - mean_absolute_error: 0.0225    \n",
      "Epoch 6/100\n",
      "\u001b[1m33/33\u001b[0m \u001b[32m━━━━━━━━━━━━━━━━━━━━\u001b[0m\u001b[37m\u001b[0m \u001b[1m1s\u001b[0m 19ms/step - loss: 9.7829e-04 - mean_absolute_error: 0.0215\n",
      "Epoch 7/100\n",
      "\u001b[1m33/33\u001b[0m \u001b[32m━━━━━━━━━━━━━━━━━━━━\u001b[0m\u001b[37m\u001b[0m \u001b[1m1s\u001b[0m 21ms/step - loss: 0.0012 - mean_absolute_error: 0.0250    \n",
      "Epoch 8/100\n",
      "\u001b[1m33/33\u001b[0m \u001b[32m━━━━━━━━━━━━━━━━━━━━\u001b[0m\u001b[37m\u001b[0m \u001b[1m1s\u001b[0m 20ms/step - loss: 9.5841e-04 - mean_absolute_error: 0.0213\n",
      "Epoch 9/100\n",
      "\u001b[1m33/33\u001b[0m \u001b[32m━━━━━━━━━━━━━━━━━━━━\u001b[0m\u001b[37m\u001b[0m \u001b[1m1s\u001b[0m 20ms/step - loss: 0.0010 - mean_absolute_error: 0.0223    \n",
      "Epoch 10/100\n",
      "\u001b[1m33/33\u001b[0m \u001b[32m━━━━━━━━━━━━━━━━━━━━\u001b[0m\u001b[37m\u001b[0m \u001b[1m1s\u001b[0m 20ms/step - loss: 0.0010 - mean_absolute_error: 0.0223    \n",
      "Epoch 11/100\n",
      "\u001b[1m33/33\u001b[0m \u001b[32m━━━━━━━━━━━━━━━━━━━━\u001b[0m\u001b[37m\u001b[0m \u001b[1m1s\u001b[0m 20ms/step - loss: 0.0012 - mean_absolute_error: 0.0247\n",
      "Epoch 12/100\n",
      "\u001b[1m33/33\u001b[0m \u001b[32m━━━━━━━━━━━━━━━━━━━━\u001b[0m\u001b[37m\u001b[0m \u001b[1m1s\u001b[0m 20ms/step - loss: 8.5992e-04 - mean_absolute_error: 0.0188\n",
      "Epoch 13/100\n",
      "\u001b[1m33/33\u001b[0m \u001b[32m━━━━━━━━━━━━━━━━━━━━\u001b[0m\u001b[37m\u001b[0m \u001b[1m1s\u001b[0m 20ms/step - loss: 8.6422e-04 - mean_absolute_error: 0.0200\n",
      "Epoch 14/100\n",
      "\u001b[1m33/33\u001b[0m \u001b[32m━━━━━━━━━━━━━━━━━━━━\u001b[0m\u001b[37m\u001b[0m \u001b[1m1s\u001b[0m 19ms/step - loss: 0.0011 - mean_absolute_error: 0.0247    \n",
      "Epoch 15/100\n",
      "\u001b[1m33/33\u001b[0m \u001b[32m━━━━━━━━━━━━━━━━━━━━\u001b[0m\u001b[37m\u001b[0m \u001b[1m1s\u001b[0m 19ms/step - loss: 9.0306e-04 - mean_absolute_error: 0.0191\n",
      "Epoch 16/100\n",
      "\u001b[1m33/33\u001b[0m \u001b[32m━━━━━━━━━━━━━━━━━━━━\u001b[0m\u001b[37m\u001b[0m \u001b[1m1s\u001b[0m 19ms/step - loss: 9.5166e-04 - mean_absolute_error: 0.0208\n",
      "Epoch 17/100\n",
      "\u001b[1m33/33\u001b[0m \u001b[32m━━━━━━━━━━━━━━━━━━━━\u001b[0m\u001b[37m\u001b[0m \u001b[1m1s\u001b[0m 20ms/step - loss: 7.5263e-04 - mean_absolute_error: 0.0180\n",
      "Epoch 18/100\n",
      "\u001b[1m33/33\u001b[0m \u001b[32m━━━━━━━━━━━━━━━━━━━━\u001b[0m\u001b[37m\u001b[0m \u001b[1m1s\u001b[0m 20ms/step - loss: 7.7564e-04 - mean_absolute_error: 0.0189\n",
      "Epoch 19/100\n",
      "\u001b[1m33/33\u001b[0m \u001b[32m━━━━━━━━━━━━━━━━━━━━\u001b[0m\u001b[37m\u001b[0m \u001b[1m1s\u001b[0m 21ms/step - loss: 8.1278e-04 - mean_absolute_error: 0.0191\n",
      "Epoch 20/100\n",
      "\u001b[1m33/33\u001b[0m \u001b[32m━━━━━━━━━━━━━━━━━━━━\u001b[0m\u001b[37m\u001b[0m \u001b[1m1s\u001b[0m 20ms/step - loss: 7.0764e-04 - mean_absolute_error: 0.0186\n",
      "Epoch 21/100\n",
      "\u001b[1m33/33\u001b[0m \u001b[32m━━━━━━━━━━━━━━━━━━━━\u001b[0m\u001b[37m\u001b[0m \u001b[1m1s\u001b[0m 20ms/step - loss: 7.7654e-04 - mean_absolute_error: 0.0203\n",
      "Epoch 22/100\n",
      "\u001b[1m33/33\u001b[0m \u001b[32m━━━━━━━━━━━━━━━━━━━━\u001b[0m\u001b[37m\u001b[0m \u001b[1m1s\u001b[0m 20ms/step - loss: 8.1314e-04 - mean_absolute_error: 0.0204\n",
      "Epoch 23/100\n",
      "\u001b[1m33/33\u001b[0m \u001b[32m━━━━━━━━━━━━━━━━━━━━\u001b[0m\u001b[37m\u001b[0m \u001b[1m1s\u001b[0m 19ms/step - loss: 7.6017e-04 - mean_absolute_error: 0.0182\n",
      "Epoch 24/100\n",
      "\u001b[1m33/33\u001b[0m \u001b[32m━━━━━━━━━━━━━━━━━━━━\u001b[0m\u001b[37m\u001b[0m \u001b[1m1s\u001b[0m 20ms/step - loss: 5.8984e-04 - mean_absolute_error: 0.0170\n",
      "Epoch 25/100\n",
      "\u001b[1m33/33\u001b[0m \u001b[32m━━━━━━━━━━━━━━━━━━━━\u001b[0m\u001b[37m\u001b[0m \u001b[1m1s\u001b[0m 20ms/step - loss: 7.2580e-04 - mean_absolute_error: 0.0200\n",
      "Epoch 26/100\n",
      "\u001b[1m33/33\u001b[0m \u001b[32m━━━━━━━━━━━━━━━━━━━━\u001b[0m\u001b[37m\u001b[0m \u001b[1m1s\u001b[0m 20ms/step - loss: 6.4746e-04 - mean_absolute_error: 0.0162\n",
      "Epoch 27/100\n",
      "\u001b[1m33/33\u001b[0m \u001b[32m━━━━━━━━━━━━━━━━━━━━\u001b[0m\u001b[37m\u001b[0m \u001b[1m1s\u001b[0m 20ms/step - loss: 6.3800e-04 - mean_absolute_error: 0.0168\n",
      "Epoch 28/100\n",
      "\u001b[1m33/33\u001b[0m \u001b[32m━━━━━━━━━━━━━━━━━━━━\u001b[0m\u001b[37m\u001b[0m \u001b[1m1s\u001b[0m 20ms/step - loss: 7.1979e-04 - mean_absolute_error: 0.0193\n",
      "Epoch 29/100\n",
      "\u001b[1m33/33\u001b[0m \u001b[32m━━━━━━━━━━━━━━━━━━━━\u001b[0m\u001b[37m\u001b[0m \u001b[1m1s\u001b[0m 20ms/step - loss: 6.7371e-04 - mean_absolute_error: 0.0166\n",
      "Epoch 30/100\n",
      "\u001b[1m33/33\u001b[0m \u001b[32m━━━━━━━━━━━━━━━━━━━━\u001b[0m\u001b[37m\u001b[0m \u001b[1m1s\u001b[0m 21ms/step - loss: 6.0175e-04 - mean_absolute_error: 0.0158\n",
      "Epoch 31/100\n",
      "\u001b[1m33/33\u001b[0m \u001b[32m━━━━━━━━━━━━━━━━━━━━\u001b[0m\u001b[37m\u001b[0m \u001b[1m1s\u001b[0m 20ms/step - loss: 6.5663e-04 - mean_absolute_error: 0.0182\n",
      "Epoch 32/100\n",
      "\u001b[1m33/33\u001b[0m \u001b[32m━━━━━━━━━━━━━━━━━━━━\u001b[0m\u001b[37m\u001b[0m \u001b[1m1s\u001b[0m 20ms/step - loss: 6.1282e-04 - mean_absolute_error: 0.0173\n",
      "Epoch 33/100\n",
      "\u001b[1m33/33\u001b[0m \u001b[32m━━━━━━━━━━━━━━━━━━━━\u001b[0m\u001b[37m\u001b[0m \u001b[1m1s\u001b[0m 19ms/step - loss: 6.0231e-04 - mean_absolute_error: 0.0155\n",
      "Epoch 34/100\n",
      "\u001b[1m33/33\u001b[0m \u001b[32m━━━━━━━━━━━━━━━━━━━━\u001b[0m\u001b[37m\u001b[0m \u001b[1m1s\u001b[0m 21ms/step - loss: 5.6138e-04 - mean_absolute_error: 0.0153\n",
      "Epoch 35/100\n",
      "\u001b[1m33/33\u001b[0m \u001b[32m━━━━━━━━━━━━━━━━━━━━\u001b[0m\u001b[37m\u001b[0m \u001b[1m1s\u001b[0m 20ms/step - loss: 5.2182e-04 - mean_absolute_error: 0.0149\n",
      "Epoch 36/100\n",
      "\u001b[1m33/33\u001b[0m \u001b[32m━━━━━━━━━━━━━━━━━━━━\u001b[0m\u001b[37m\u001b[0m \u001b[1m1s\u001b[0m 20ms/step - loss: 5.7770e-04 - mean_absolute_error: 0.0174\n",
      "Epoch 37/100\n",
      "\u001b[1m33/33\u001b[0m \u001b[32m━━━━━━━━━━━━━━━━━━━━\u001b[0m\u001b[37m\u001b[0m \u001b[1m1s\u001b[0m 20ms/step - loss: 5.9291e-04 - mean_absolute_error: 0.0166\n",
      "Epoch 38/100\n",
      "\u001b[1m33/33\u001b[0m \u001b[32m━━━━━━━━━━━━━━━━━━━━\u001b[0m\u001b[37m\u001b[0m \u001b[1m1s\u001b[0m 21ms/step - loss: 5.0456e-04 - mean_absolute_error: 0.0144\n",
      "Epoch 39/100\n",
      "\u001b[1m33/33\u001b[0m \u001b[32m━━━━━━━━━━━━━━━━━━━━\u001b[0m\u001b[37m\u001b[0m \u001b[1m1s\u001b[0m 21ms/step - loss: 5.5920e-04 - mean_absolute_error: 0.0155\n",
      "Epoch 40/100\n",
      "\u001b[1m33/33\u001b[0m \u001b[32m━━━━━━━━━━━━━━━━━━━━\u001b[0m\u001b[37m\u001b[0m \u001b[1m1s\u001b[0m 20ms/step - loss: 5.2098e-04 - mean_absolute_error: 0.0166\n",
      "Epoch 41/100\n",
      "\u001b[1m33/33\u001b[0m \u001b[32m━━━━━━━━━━━━━━━━━━━━\u001b[0m\u001b[37m\u001b[0m \u001b[1m1s\u001b[0m 19ms/step - loss: 5.6729e-04 - mean_absolute_error: 0.0161\n",
      "Epoch 42/100\n",
      "\u001b[1m33/33\u001b[0m \u001b[32m━━━━━━━━━━━━━━━━━━━━\u001b[0m\u001b[37m\u001b[0m \u001b[1m1s\u001b[0m 20ms/step - loss: 4.4527e-04 - mean_absolute_error: 0.0140\n",
      "Epoch 43/100\n",
      "\u001b[1m33/33\u001b[0m \u001b[32m━━━━━━━━━━━━━━━━━━━━\u001b[0m\u001b[37m\u001b[0m \u001b[1m1s\u001b[0m 20ms/step - loss: 4.2654e-04 - mean_absolute_error: 0.0132\n",
      "Epoch 44/100\n",
      "\u001b[1m33/33\u001b[0m \u001b[32m━━━━━━━━━━━━━━━━━━━━\u001b[0m\u001b[37m\u001b[0m \u001b[1m1s\u001b[0m 20ms/step - loss: 4.2138e-04 - mean_absolute_error: 0.0136\n",
      "Epoch 45/100\n",
      "\u001b[1m33/33\u001b[0m \u001b[32m━━━━━━━━━━━━━━━━━━━━\u001b[0m\u001b[37m\u001b[0m \u001b[1m1s\u001b[0m 20ms/step - loss: 4.5532e-04 - mean_absolute_error: 0.0148\n",
      "Epoch 46/100\n",
      "\u001b[1m33/33\u001b[0m \u001b[32m━━━━━━━━━━━━━━━━━━━━\u001b[0m\u001b[37m\u001b[0m \u001b[1m1s\u001b[0m 20ms/step - loss: 4.0105e-04 - mean_absolute_error: 0.0132\n",
      "Epoch 47/100\n",
      "\u001b[1m33/33\u001b[0m \u001b[32m━━━━━━━━━━━━━━━━━━━━\u001b[0m\u001b[37m\u001b[0m \u001b[1m1s\u001b[0m 21ms/step - loss: 4.5955e-04 - mean_absolute_error: 0.0138\n",
      "Epoch 48/100\n",
      "\u001b[1m33/33\u001b[0m \u001b[32m━━━━━━━━━━━━━━━━━━━━\u001b[0m\u001b[37m\u001b[0m \u001b[1m1s\u001b[0m 20ms/step - loss: 3.6378e-04 - mean_absolute_error: 0.0122\n",
      "Epoch 49/100\n",
      "\u001b[1m33/33\u001b[0m \u001b[32m━━━━━━━━━━━━━━━━━━━━\u001b[0m\u001b[37m\u001b[0m \u001b[1m1s\u001b[0m 20ms/step - loss: 4.9180e-04 - mean_absolute_error: 0.0153\n",
      "Epoch 50/100\n",
      "\u001b[1m33/33\u001b[0m \u001b[32m━━━━━━━━━━━━━━━━━━━━\u001b[0m\u001b[37m\u001b[0m \u001b[1m1s\u001b[0m 20ms/step - loss: 4.3311e-04 - mean_absolute_error: 0.0144\n",
      "Epoch 51/100\n",
      "\u001b[1m33/33\u001b[0m \u001b[32m━━━━━━━━━━━━━━━━━━━━\u001b[0m\u001b[37m\u001b[0m \u001b[1m1s\u001b[0m 20ms/step - loss: 3.7857e-04 - mean_absolute_error: 0.0131\n",
      "Epoch 52/100\n",
      "\u001b[1m33/33\u001b[0m \u001b[32m━━━━━━━━━━━━━━━━━━━━\u001b[0m\u001b[37m\u001b[0m \u001b[1m1s\u001b[0m 20ms/step - loss: 4.9778e-04 - mean_absolute_error: 0.0168\n",
      "Epoch 53/100\n",
      "\u001b[1m33/33\u001b[0m \u001b[32m━━━━━━━━━━━━━━━━━━━━\u001b[0m\u001b[37m\u001b[0m \u001b[1m1s\u001b[0m 21ms/step - loss: 3.6902e-04 - mean_absolute_error: 0.0121\n",
      "Epoch 54/100\n",
      "\u001b[1m33/33\u001b[0m \u001b[32m━━━━━━━━━━━━━━━━━━━━\u001b[0m\u001b[37m\u001b[0m \u001b[1m1s\u001b[0m 20ms/step - loss: 3.6027e-04 - mean_absolute_error: 0.0122\n",
      "Epoch 55/100\n",
      "\u001b[1m33/33\u001b[0m \u001b[32m━━━━━━━━━━━━━━━━━━━━\u001b[0m\u001b[37m\u001b[0m \u001b[1m1s\u001b[0m 19ms/step - loss: 3.1049e-04 - mean_absolute_error: 0.0107\n",
      "Epoch 56/100\n",
      "\u001b[1m33/33\u001b[0m \u001b[32m━━━━━━━━━━━━━━━━━━━━\u001b[0m\u001b[37m\u001b[0m \u001b[1m1s\u001b[0m 19ms/step - loss: 3.0298e-04 - mean_absolute_error: 0.0118\n",
      "Epoch 57/100\n",
      "\u001b[1m33/33\u001b[0m \u001b[32m━━━━━━━━━━━━━━━━━━━━\u001b[0m\u001b[37m\u001b[0m \u001b[1m1s\u001b[0m 20ms/step - loss: 3.1592e-04 - mean_absolute_error: 0.0110\n",
      "Epoch 58/100\n",
      "\u001b[1m33/33\u001b[0m \u001b[32m━━━━━━━━━━━━━━━━━━━━\u001b[0m\u001b[37m\u001b[0m \u001b[1m1s\u001b[0m 20ms/step - loss: 3.2846e-04 - mean_absolute_error: 0.0121\n",
      "Epoch 59/100\n",
      "\u001b[1m33/33\u001b[0m \u001b[32m━━━━━━━━━━━━━━━━━━━━\u001b[0m\u001b[37m\u001b[0m \u001b[1m1s\u001b[0m 21ms/step - loss: 4.5819e-04 - mean_absolute_error: 0.0166\n",
      "Epoch 60/100\n",
      "\u001b[1m33/33\u001b[0m \u001b[32m━━━━━━━━━━━━━━━━━━━━\u001b[0m\u001b[37m\u001b[0m \u001b[1m1s\u001b[0m 20ms/step - loss: 2.9514e-04 - mean_absolute_error: 0.0115\n",
      "Epoch 61/100\n",
      "\u001b[1m33/33\u001b[0m \u001b[32m━━━━━━━━━━━━━━━━━━━━\u001b[0m\u001b[37m\u001b[0m \u001b[1m1s\u001b[0m 19ms/step - loss: 3.1671e-04 - mean_absolute_error: 0.0117\n",
      "Epoch 62/100\n",
      "\u001b[1m33/33\u001b[0m \u001b[32m━━━━━━━━━━━━━━━━━━━━\u001b[0m\u001b[37m\u001b[0m \u001b[1m1s\u001b[0m 22ms/step - loss: 3.3456e-04 - mean_absolute_error: 0.0125\n",
      "Epoch 63/100\n",
      "\u001b[1m33/33\u001b[0m \u001b[32m━━━━━━━━━━━━━━━━━━━━\u001b[0m\u001b[37m\u001b[0m \u001b[1m1s\u001b[0m 20ms/step - loss: 3.5484e-04 - mean_absolute_error: 0.0129\n",
      "Epoch 64/100\n",
      "\u001b[1m33/33\u001b[0m \u001b[32m━━━━━━━━━━━━━━━━━━━━\u001b[0m\u001b[37m\u001b[0m \u001b[1m1s\u001b[0m 20ms/step - loss: 3.0556e-04 - mean_absolute_error: 0.0109\n",
      "Epoch 65/100\n",
      "\u001b[1m33/33\u001b[0m \u001b[32m━━━━━━━━━━━━━━━━━━━━\u001b[0m\u001b[37m\u001b[0m \u001b[1m1s\u001b[0m 20ms/step - loss: 2.6852e-04 - mean_absolute_error: 0.0107\n",
      "Epoch 66/100\n",
      "\u001b[1m33/33\u001b[0m \u001b[32m━━━━━━━━━━━━━━━━━━━━\u001b[0m\u001b[37m\u001b[0m \u001b[1m1s\u001b[0m 21ms/step - loss: 2.6349e-04 - mean_absolute_error: 0.0108\n",
      "Epoch 67/100\n",
      "\u001b[1m33/33\u001b[0m \u001b[32m━━━━━━━━━━━━━━━━━━━━\u001b[0m\u001b[37m\u001b[0m \u001b[1m1s\u001b[0m 19ms/step - loss: 2.8480e-04 - mean_absolute_error: 0.0107\n",
      "Epoch 68/100\n",
      "\u001b[1m33/33\u001b[0m \u001b[32m━━━━━━━━━━━━━━━━━━━━\u001b[0m\u001b[37m\u001b[0m \u001b[1m1s\u001b[0m 20ms/step - loss: 3.2241e-04 - mean_absolute_error: 0.0119\n",
      "Epoch 69/100\n",
      "\u001b[1m33/33\u001b[0m \u001b[32m━━━━━━━━━━━━━━━━━━━━\u001b[0m\u001b[37m\u001b[0m \u001b[1m1s\u001b[0m 20ms/step - loss: 3.2028e-04 - mean_absolute_error: 0.0113\n",
      "Epoch 70/100\n",
      "\u001b[1m33/33\u001b[0m \u001b[32m━━━━━━━━━━━━━━━━━━━━\u001b[0m\u001b[37m\u001b[0m \u001b[1m1s\u001b[0m 20ms/step - loss: 2.6557e-04 - mean_absolute_error: 0.0107\n",
      "Epoch 71/100\n",
      "\u001b[1m33/33\u001b[0m \u001b[32m━━━━━━━━━━━━━━━━━━━━\u001b[0m\u001b[37m\u001b[0m \u001b[1m1s\u001b[0m 20ms/step - loss: 2.5904e-04 - mean_absolute_error: 0.0103\n",
      "Epoch 72/100\n",
      "\u001b[1m33/33\u001b[0m \u001b[32m━━━━━━━━━━━━━━━━━━━━\u001b[0m\u001b[37m\u001b[0m \u001b[1m1s\u001b[0m 20ms/step - loss: 3.5356e-04 - mean_absolute_error: 0.0127\n",
      "Epoch 73/100\n",
      "\u001b[1m33/33\u001b[0m \u001b[32m━━━━━━━━━━━━━━━━━━━━\u001b[0m\u001b[37m\u001b[0m \u001b[1m1s\u001b[0m 20ms/step - loss: 3.7641e-04 - mean_absolute_error: 0.0128\n",
      "Epoch 74/100\n",
      "\u001b[1m33/33\u001b[0m \u001b[32m━━━━━━━━━━━━━━━━━━━━\u001b[0m\u001b[37m\u001b[0m \u001b[1m1s\u001b[0m 19ms/step - loss: 3.3396e-04 - mean_absolute_error: 0.0124\n",
      "Epoch 75/100\n",
      "\u001b[1m33/33\u001b[0m \u001b[32m━━━━━━━━━━━━━━━━━━━━\u001b[0m\u001b[37m\u001b[0m \u001b[1m1s\u001b[0m 20ms/step - loss: 2.7728e-04 - mean_absolute_error: 0.0101\n",
      "Epoch 76/100\n",
      "\u001b[1m33/33\u001b[0m \u001b[32m━━━━━━━━━━━━━━━━━━━━\u001b[0m\u001b[37m\u001b[0m \u001b[1m1s\u001b[0m 23ms/step - loss: 2.9223e-04 - mean_absolute_error: 0.0116\n",
      "Epoch 77/100\n",
      "\u001b[1m33/33\u001b[0m \u001b[32m━━━━━━━━━━━━━━━━━━━━\u001b[0m\u001b[37m\u001b[0m \u001b[1m1s\u001b[0m 20ms/step - loss: 3.1526e-04 - mean_absolute_error: 0.0119\n",
      "Epoch 78/100\n",
      "\u001b[1m33/33\u001b[0m \u001b[32m━━━━━━━━━━━━━━━━━━━━\u001b[0m\u001b[37m\u001b[0m \u001b[1m1s\u001b[0m 20ms/step - loss: 2.3744e-04 - mean_absolute_error: 0.0099\n",
      "Epoch 79/100\n",
      "\u001b[1m33/33\u001b[0m \u001b[32m━━━━━━━━━━━━━━━━━━━━\u001b[0m\u001b[37m\u001b[0m \u001b[1m1s\u001b[0m 20ms/step - loss: 3.0698e-04 - mean_absolute_error: 0.0121\n",
      "Epoch 80/100\n",
      "\u001b[1m33/33\u001b[0m \u001b[32m━━━━━━━━━━━━━━━━━━━━\u001b[0m\u001b[37m\u001b[0m \u001b[1m1s\u001b[0m 20ms/step - loss: 2.6589e-04 - mean_absolute_error: 0.0110\n",
      "Epoch 81/100\n",
      "\u001b[1m33/33\u001b[0m \u001b[32m━━━━━━━━━━━━━━━━━━━━\u001b[0m\u001b[37m\u001b[0m \u001b[1m1s\u001b[0m 20ms/step - loss: 2.9955e-04 - mean_absolute_error: 0.0118\n",
      "Epoch 82/100\n",
      "\u001b[1m33/33\u001b[0m \u001b[32m━━━━━━━━━━━━━━━━━━━━\u001b[0m\u001b[37m\u001b[0m \u001b[1m1s\u001b[0m 20ms/step - loss: 3.0964e-04 - mean_absolute_error: 0.0120\n",
      "Epoch 83/100\n",
      "\u001b[1m33/33\u001b[0m \u001b[32m━━━━━━━━━━━━━━━━━━━━\u001b[0m\u001b[37m\u001b[0m \u001b[1m1s\u001b[0m 21ms/step - loss: 2.4519e-04 - mean_absolute_error: 0.0098\n",
      "Epoch 84/100\n",
      "\u001b[1m33/33\u001b[0m \u001b[32m━━━━━━━━━━━━━━━━━━━━\u001b[0m\u001b[37m\u001b[0m \u001b[1m1s\u001b[0m 20ms/step - loss: 2.9330e-04 - mean_absolute_error: 0.0111\n",
      "Epoch 85/100\n",
      "\u001b[1m33/33\u001b[0m \u001b[32m━━━━━━━━━━━━━━━━━━━━\u001b[0m\u001b[37m\u001b[0m \u001b[1m1s\u001b[0m 20ms/step - loss: 4.7744e-04 - mean_absolute_error: 0.0159\n"
     ]
    }
   ],
   "source": [
    "# Fitting the LSTM to the Training set\n",
    "callbacks = [EarlyStopping(monitor= 'loss', patience= 10 , restore_best_weights= True)]\n",
    "history = model.fit(x_train, y_train, epochs= 100, batch_size= 32 , callbacks= callbacks )"
   ]
  },
  {
   "cell_type": "code",
   "execution_count": 101,
   "id": "64e9c414-0814-4cea-9106-72aceda5ce9a",
   "metadata": {},
   "outputs": [
    {
     "data": {
      "image/png": "[encoded data removed]",
      "text/plain": [
       "<Figure size 640x480 with 1 Axes>"
      ]
     },
     "metadata": {},
     "output_type": "display_data"
    }
   ],
   "source": [
    "plt.plot(history.history[\"loss\"])\n",
    "plt.plot(history.history[\"mean_absolute_error\"])\n",
    "plt.legend(['Mean Squared Error','Mean Absolute Error'])\n",
    "plt.title(\"Losses\")\n",
    "plt.xlabel(\"epochs\")\n",
    "plt.ylabel(\"loss\")\n",
    "plt.show()"
   ]
  },
  {
   "cell_type": "code",
   "execution_count": 102,
   "id": "09c3f70f-23fa-4e13-848a-9068d9b1377a",
   "metadata": {},
   "outputs": [],
   "source": [
    "x_test = []\n",
    "y_test = []\n",
    "\n",
    "for i in range(60, len(test_data)):\n",
    "    x_test.append(test_data[i-60:i, 0])\n",
    "    y_test.append(test_data[i, 0])\n",
    "x_test, y_test = np.array(x_test), np.array(y_test)\n",
    "x_test = np.reshape(x_test, (x_test.shape[0], x_test.shape[1], 1))"
   ]
  },
  {
   "cell_type": "code",
   "execution_count": 103,
   "id": "b15168e7-55fb-45d4-9ddb-e0cfd9de15fe",
   "metadata": {},
   "outputs": [
    {
     "name": "stdout",
     "output_type": "stream",
     "text": [
      "\u001b[1m12/12\u001b[0m \u001b[32m━━━━━━━━━━━━━━━━━━━━\u001b[0m\u001b[37m\u001b[0m \u001b[1m0s\u001b[0m 25ms/step \n"
     ]
    },
    {
     "data": {
      "text/plain": [
       "(366, 1)"
      ]
     },
     "execution_count": 103,
     "metadata": {},
     "output_type": "execute_result"
    }
   ],
   "source": [
    "#inverse y_test scaling\n",
    "predictions = model.predict(x_test)\n",
    "\n",
    "#inverse predictions scaling\n",
    "predictions = scaler.inverse_transform(predictions)\n",
    "predictions.shape"
   ]
  },
  {
   "cell_type": "code",
   "execution_count": 104,
   "id": "ac36847d-7d88-40cf-be1c-d7483e579a42",
   "metadata": {},
   "outputs": [
    {
     "data": {
      "text/plain": [
       "87.59"
      ]
     },
     "execution_count": 104,
     "metadata": {},
     "output_type": "execute_result"
    }
   ],
   "source": [
    "y_test = scaler.inverse_transform([y_test])\n",
    "\n",
    "RMSE = np.sqrt(np.mean(y_test - predictions )**2).round(2)\n",
    "RMSE"
   ]
  },
  {
   "cell_type": "code",
   "execution_count": 106,
   "id": "595a6645-a17a-42b7-acd3-2bfcf19543bc",
   "metadata": {},
   "outputs": [
    {
     "data": {
      "text/plain": [
       "<matplotlib.legend.Legend at 0x1902a2cbfb0>"
      ]
     },
     "execution_count": 106,
     "metadata": {},
     "output_type": "execute_result"
    },
    {
     "data": {
      "image/png": "[encoded data removed]",
      "text/plain": [
       "<Figure size 1600x600 with 1 Axes>"
      ]
     },
     "metadata": {},
     "output_type": "display_data"
    }
   ],
   "source": [
    "train = dataset.iloc[:train_size , 0:1]\n",
    "test = dataset.iloc[train_size: , 0:1]\n",
    "test['Predictions'] = predictions\n",
    "\n",
    "plt.figure(figsize= (16, 6))\n",
    "plt.title('GGRM Stock Price Prediction', fontsize= 18)\n",
    "plt.xlabel('Date', fontsize= 18)\n",
    "plt.ylabel('Close Price', fontsize= 18)\n",
    "plt.plot(train['y'], linewidth= 3)\n",
    "plt.plot(test['y'], linewidth= 3)\n",
    "plt.plot(test[\"Predictions\"], linewidth= 3)\n",
    "plt.legend(['Train', 'Test', 'Predictions'])"
   ]
  },
  {
   "cell_type": "code",
   "execution_count": 134,
   "id": "fff8ba6b-9e01-4f3c-98b5-58d971835505",
   "metadata": {},
   "outputs": [],
   "source": [
    "from datetime import timedelta"
   ]
  },
  {
   "cell_type": "code",
   "execution_count": 136,
   "id": "802624d2-6d1d-4a49-8927-16adc305fe57",
   "metadata": {},
   "outputs": [],
   "source": [
    "def insert_end(Xin, new_input):\n",
    "    timestep = 60\n",
    "    for i in range(timestep - 1):\n",
    "        Xin[:, i, :] = Xin[:, i+1, :]\n",
    "    Xin[:, timestep - 1, :] = new_input\n",
    "    return Xin"
   ]
  },
  {
   "cell_type": "code",
   "execution_count": 138,
   "id": "0d437719-e143-4b28-9767-f50e75f882b2",
   "metadata": {
    "scrolled": true
   },
   "outputs": [
    {
     "name": "stdout",
     "output_type": "stream",
     "text": [
      "\u001b[1m1/1\u001b[0m \u001b[32m━━━━━━━━━━━━━━━━━━━━\u001b[0m\u001b[37m\u001b[0m \u001b[1m0s\u001b[0m 26ms/step\n",
      "[0.776992]\n",
      "\u001b[1m1/1\u001b[0m \u001b[32m━━━━━━━━━━━━━━━━━━━━\u001b[0m\u001b[37m\u001b[0m \u001b[1m0s\u001b[0m 22ms/step\n",
      "[0.776992, 0.7780866]\n",
      "\u001b[1m1/1\u001b[0m \u001b[32m━━━━━━━━━━━━━━━━━━━━\u001b[0m\u001b[37m\u001b[0m \u001b[1m0s\u001b[0m 23ms/step\n",
      "[0.776992, 0.7780866, 0.7791641]\n",
      "\u001b[1m1/1\u001b[0m \u001b[32m━━━━━━━━━━━━━━━━━━━━\u001b[0m\u001b[37m\u001b[0m \u001b[1m0s\u001b[0m 23ms/step\n",
      "[0.776992, 0.7780866, 0.7791641, 0.78022486]\n",
      "\u001b[1m1/1\u001b[0m \u001b[32m━━━━━━━━━━━━━━━━━━━━\u001b[0m\u001b[37m\u001b[0m \u001b[1m0s\u001b[0m 25ms/step\n",
      "[0.776992, 0.7780866, 0.7791641, 0.78022486, 0.78126913]\n",
      "\u001b[1m1/1\u001b[0m \u001b[32m━━━━━━━━━━━━━━━━━━━━\u001b[0m\u001b[37m\u001b[0m \u001b[1m0s\u001b[0m 25ms/step\n",
      "[0.776992, 0.7780866, 0.7791641, 0.78022486, 0.78126913, 0.78229696]\n",
      "\u001b[1m1/1\u001b[0m \u001b[32m━━━━━━━━━━━━━━━━━━━━\u001b[0m\u001b[37m\u001b[0m \u001b[1m0s\u001b[0m 24ms/step\n",
      "[0.776992, 0.7780866, 0.7791641, 0.78022486, 0.78126913, 0.78229696, 0.7833086]\n",
      "\u001b[1m1/1\u001b[0m \u001b[32m━━━━━━━━━━━━━━━━━━━━\u001b[0m\u001b[37m\u001b[0m \u001b[1m0s\u001b[0m 22ms/step\n",
      "[0.776992, 0.7780866, 0.7791641, 0.78022486, 0.78126913, 0.78229696, 0.7833086, 0.7843044]\n",
      "\u001b[1m1/1\u001b[0m \u001b[32m━━━━━━━━━━━━━━━━━━━━\u001b[0m\u001b[37m\u001b[0m \u001b[1m0s\u001b[0m 23ms/step\n",
      "[0.776992, 0.7780866, 0.7791641, 0.78022486, 0.78126913, 0.78229696, 0.7833086, 0.7843044, 0.7852842]\n",
      "\u001b[1m1/1\u001b[0m \u001b[32m━━━━━━━━━━━━━━━━━━━━\u001b[0m\u001b[37m\u001b[0m \u001b[1m0s\u001b[0m 24ms/step\n",
      "[0.776992, 0.7780866, 0.7791641, 0.78022486, 0.78126913, 0.78229696, 0.7833086, 0.7843044, 0.7852842, 0.78624845]\n",
      "\u001b[1m1/1\u001b[0m \u001b[32m━━━━━━━━━━━━━━━━━━━━\u001b[0m\u001b[37m\u001b[0m \u001b[1m0s\u001b[0m 23ms/step\n",
      "[0.776992, 0.7780866, 0.7791641, 0.78022486, 0.78126913, 0.78229696, 0.7833086, 0.7843044, 0.7852842, 0.78624845, 0.7871971]\n",
      "\u001b[1m1/1\u001b[0m \u001b[32m━━━━━━━━━━━━━━━━━━━━\u001b[0m\u001b[37m\u001b[0m \u001b[1m0s\u001b[0m 23ms/step\n",
      "[0.776992, 0.7780866, 0.7791641, 0.78022486, 0.78126913, 0.78229696, 0.7833086, 0.7843044, 0.7852842, 0.78624845, 0.7871971, 0.7881306]\n",
      "\u001b[1m1/1\u001b[0m \u001b[32m━━━━━━━━━━━━━━━━━━━━\u001b[0m\u001b[37m\u001b[0m \u001b[1m0s\u001b[0m 24ms/step\n",
      "[0.776992, 0.7780866, 0.7791641, 0.78022486, 0.78126913, 0.78229696, 0.7833086, 0.7843044, 0.7852842, 0.78624845, 0.7871971, 0.7881306, 0.7890488]\n",
      "\u001b[1m1/1\u001b[0m \u001b[32m━━━━━━━━━━━━━━━━━━━━\u001b[0m\u001b[37m\u001b[0m \u001b[1m0s\u001b[0m 24ms/step\n",
      "[0.776992, 0.7780866, 0.7791641, 0.78022486, 0.78126913, 0.78229696, 0.7833086, 0.7843044, 0.7852842, 0.78624845, 0.7871971, 0.7881306, 0.7890488, 0.7899521]\n",
      "\u001b[1m1/1\u001b[0m \u001b[32m━━━━━━━━━━━━━━━━━━━━\u001b[0m\u001b[37m\u001b[0m \u001b[1m0s\u001b[0m 24ms/step\n",
      "[0.776992, 0.7780866, 0.7791641, 0.78022486, 0.78126913, 0.78229696, 0.7833086, 0.7843044, 0.7852842, 0.78624845, 0.7871971, 0.7881306, 0.7890488, 0.7899521, 0.79084074]\n",
      "\u001b[1m1/1\u001b[0m \u001b[32m━━━━━━━━━━━━━━━━━━━━\u001b[0m\u001b[37m\u001b[0m \u001b[1m0s\u001b[0m 24ms/step\n",
      "[0.776992, 0.7780866, 0.7791641, 0.78022486, 0.78126913, 0.78229696, 0.7833086, 0.7843044, 0.7852842, 0.78624845, 0.7871971, 0.7881306, 0.7890488, 0.7899521, 0.79084074, 0.79171485]\n",
      "\u001b[1m1/1\u001b[0m \u001b[32m━━━━━━━━━━━━━━━━━━━━\u001b[0m\u001b[37m\u001b[0m \u001b[1m0s\u001b[0m 23ms/step\n",
      "[0.776992, 0.7780866, 0.7791641, 0.78022486, 0.78126913, 0.78229696, 0.7833086, 0.7843044, 0.7852842, 0.78624845, 0.7871971, 0.7881306, 0.7890488, 0.7899521, 0.79084074, 0.79171485, 0.79257447]\n",
      "\u001b[1m1/1\u001b[0m \u001b[32m━━━━━━━━━━━━━━━━━━━━\u001b[0m\u001b[37m\u001b[0m \u001b[1m0s\u001b[0m 23ms/step\n",
      "[0.776992, 0.7780866, 0.7791641, 0.78022486, 0.78126913, 0.78229696, 0.7833086, 0.7843044, 0.7852842, 0.78624845, 0.7871971, 0.7881306, 0.7890488, 0.7899521, 0.79084074, 0.79171485, 0.79257447, 0.79341996]\n",
      "\u001b[1m1/1\u001b[0m \u001b[32m━━━━━━━━━━━━━━━━━━━━\u001b[0m\u001b[37m\u001b[0m \u001b[1m0s\u001b[0m 23ms/step\n",
      "[0.776992, 0.7780866, 0.7791641, 0.78022486, 0.78126913, 0.78229696, 0.7833086, 0.7843044, 0.7852842, 0.78624845, 0.7871971, 0.7881306, 0.7890488, 0.7899521, 0.79084074, 0.79171485, 0.79257447, 0.79341996, 0.7942514]\n",
      "\u001b[1m1/1\u001b[0m \u001b[32m━━━━━━━━━━━━━━━━━━━━\u001b[0m\u001b[37m\u001b[0m \u001b[1m0s\u001b[0m 24ms/step\n",
      "[0.776992, 0.7780866, 0.7791641, 0.78022486, 0.78126913, 0.78229696, 0.7833086, 0.7843044, 0.7852842, 0.78624845, 0.7871971, 0.7881306, 0.7890488, 0.7899521, 0.79084074, 0.79171485, 0.79257447, 0.79341996, 0.7942514, 0.7950691]\n",
      "\u001b[1m1/1\u001b[0m \u001b[32m━━━━━━━━━━━━━━━━━━━━\u001b[0m\u001b[37m\u001b[0m \u001b[1m0s\u001b[0m 23ms/step\n",
      "[0.776992, 0.7780866, 0.7791641, 0.78022486, 0.78126913, 0.78229696, 0.7833086, 0.7843044, 0.7852842, 0.78624845, 0.7871971, 0.7881306, 0.7890488, 0.7899521, 0.79084074, 0.79171485, 0.79257447, 0.79341996, 0.7942514, 0.7950691, 0.7958731]\n",
      "\u001b[1m1/1\u001b[0m \u001b[32m━━━━━━━━━━━━━━━━━━━━\u001b[0m\u001b[37m\u001b[0m \u001b[1m0s\u001b[0m 23ms/step\n",
      "[0.776992, 0.7780866, 0.7791641, 0.78022486, 0.78126913, 0.78229696, 0.7833086, 0.7843044, 0.7852842, 0.78624845, 0.7871971, 0.7881306, 0.7890488, 0.7899521, 0.79084074, 0.79171485, 0.79257447, 0.79341996, 0.7942514, 0.7950691, 0.7958731, 0.7966637]\n",
      "\u001b[1m1/1\u001b[0m \u001b[32m━━━━━━━━━━━━━━━━━━━━\u001b[0m\u001b[37m\u001b[0m \u001b[1m0s\u001b[0m 22ms/step\n",
      "[0.776992, 0.7780866, 0.7791641, 0.78022486, 0.78126913, 0.78229696, 0.7833086, 0.7843044, 0.7852842, 0.78624845, 0.7871971, 0.7881306, 0.7890488, 0.7899521, 0.79084074, 0.79171485, 0.79257447, 0.79341996, 0.7942514, 0.7950691, 0.7958731, 0.7966637, 0.7974409]\n",
      "\u001b[1m1/1\u001b[0m \u001b[32m━━━━━━━━━━━━━━━━━━━━\u001b[0m\u001b[37m\u001b[0m \u001b[1m0s\u001b[0m 31ms/step\n",
      "[0.776992, 0.7780866, 0.7791641, 0.78022486, 0.78126913, 0.78229696, 0.7833086, 0.7843044, 0.7852842, 0.78624845, 0.7871971, 0.7881306, 0.7890488, 0.7899521, 0.79084074, 0.79171485, 0.79257447, 0.79341996, 0.7942514, 0.7950691, 0.7958731, 0.7966637, 0.7974409, 0.7982051]\n",
      "\u001b[1m1/1\u001b[0m \u001b[32m━━━━━━━━━━━━━━━━━━━━\u001b[0m\u001b[37m\u001b[0m \u001b[1m0s\u001b[0m 32ms/step\n",
      "[0.776992, 0.7780866, 0.7791641, 0.78022486, 0.78126913, 0.78229696, 0.7833086, 0.7843044, 0.7852842, 0.78624845, 0.7871971, 0.7881306, 0.7890488, 0.7899521, 0.79084074, 0.79171485, 0.79257447, 0.79341996, 0.7942514, 0.7950691, 0.7958731, 0.7966637, 0.7974409, 0.7982051, 0.7989562]\n",
      "\u001b[1m1/1\u001b[0m \u001b[32m━━━━━━━━━━━━━━━━━━━━\u001b[0m\u001b[37m\u001b[0m \u001b[1m0s\u001b[0m 24ms/step\n",
      "[0.776992, 0.7780866, 0.7791641, 0.78022486, 0.78126913, 0.78229696, 0.7833086, 0.7843044, 0.7852842, 0.78624845, 0.7871971, 0.7881306, 0.7890488, 0.7899521, 0.79084074, 0.79171485, 0.79257447, 0.79341996, 0.7942514, 0.7950691, 0.7958731, 0.7966637, 0.7974409, 0.7982051, 0.7989562, 0.7996948]\n",
      "\u001b[1m1/1\u001b[0m \u001b[32m━━━━━━━━━━━━━━━━━━━━\u001b[0m\u001b[37m\u001b[0m \u001b[1m0s\u001b[0m 23ms/step\n",
      "[0.776992, 0.7780866, 0.7791641, 0.78022486, 0.78126913, 0.78229696, 0.7833086, 0.7843044, 0.7852842, 0.78624845, 0.7871971, 0.7881306, 0.7890488, 0.7899521, 0.79084074, 0.79171485, 0.79257447, 0.79341996, 0.7942514, 0.7950691, 0.7958731, 0.7966637, 0.7974409, 0.7982051, 0.7989562, 0.7996948, 0.8004207]\n",
      "\u001b[1m1/1\u001b[0m \u001b[32m━━━━━━━━━━━━━━━━━━━━\u001b[0m\u001b[37m\u001b[0m \u001b[1m0s\u001b[0m 25ms/step\n",
      "[0.776992, 0.7780866, 0.7791641, 0.78022486, 0.78126913, 0.78229696, 0.7833086, 0.7843044, 0.7852842, 0.78624845, 0.7871971, 0.7881306, 0.7890488, 0.7899521, 0.79084074, 0.79171485, 0.79257447, 0.79341996, 0.7942514, 0.7950691, 0.7958731, 0.7966637, 0.7974409, 0.7982051, 0.7989562, 0.7996948, 0.8004207, 0.80113435]\n",
      "\u001b[1m1/1\u001b[0m \u001b[32m━━━━━━━━━━━━━━━━━━━━\u001b[0m\u001b[37m\u001b[0m \u001b[1m0s\u001b[0m 56ms/step\n",
      "[0.776992, 0.7780866, 0.7791641, 0.78022486, 0.78126913, 0.78229696, 0.7833086, 0.7843044, 0.7852842, 0.78624845, 0.7871971, 0.7881306, 0.7890488, 0.7899521, 0.79084074, 0.79171485, 0.79257447, 0.79341996, 0.7942514, 0.7950691, 0.7958731, 0.7966637, 0.7974409, 0.7982051, 0.7989562, 0.7996948, 0.8004207, 0.80113435, 0.8018358]\n",
      "\u001b[1m1/1\u001b[0m \u001b[32m━━━━━━━━━━━━━━━━━━━━\u001b[0m\u001b[37m\u001b[0m \u001b[1m0s\u001b[0m 32ms/step\n",
      "[0.776992, 0.7780866, 0.7791641, 0.78022486, 0.78126913, 0.78229696, 0.7833086, 0.7843044, 0.7852842, 0.78624845, 0.7871971, 0.7881306, 0.7890488, 0.7899521, 0.79084074, 0.79171485, 0.79257447, 0.79341996, 0.7942514, 0.7950691, 0.7958731, 0.7966637, 0.7974409, 0.7982051, 0.7989562, 0.7996948, 0.8004207, 0.80113435, 0.8018358, 0.802525]\n"
     ]
    }
   ],
   "source": [
    "future = 30\n",
    "forcast = []\n",
    "Xin = x_test[-1 :, :, :]\n",
    "time = []\n",
    "for i in range(0, future):\n",
    "    out = model.predict(Xin, batch_size=5)\n",
    "    forcast.append(out[0, 0]) \n",
    "    print(forcast)\n",
    "    Xin = insert_end(Xin, out[0, 0]) \n",
    "    time.append(pd.to_datetime(df.index[-1]) + timedelta(days=i))"
   ]
  },
  {
   "cell_type": "code",
   "execution_count": 139,
   "id": "c7b26c4e-db96-4b7a-9159-d90986503fa6",
   "metadata": {},
   "outputs": [],
   "source": [
    "forcasted_output = np.asanyarray(forcast)   \n",
    "forcasted_output = forcasted_output.reshape(-1, 1) \n",
    "forcasted_output = scaler.inverse_transform(forcasted_output) "
   ]
  },
  {
   "cell_type": "code",
   "execution_count": 140,
   "id": "e3ae6e8c-53a9-4e97-ba18-815370aecd35",
   "metadata": {},
   "outputs": [],
   "source": [
    "forcasted_output = pd.DataFrame(forcasted_output)\n",
    "date = pd.DataFrame(time)\n",
    "df_result = pd.concat([date,forcasted_output], axis=1)\n",
    "df_result.columns = \"Date\", \"Forecasted\""
   ]
  },
  {
   "cell_type": "code",
   "execution_count": 144,
   "id": "243b71f4-a927-42fd-a995-2e1f7c028840",
   "metadata": {},
   "outputs": [
    {
     "data": {
      "text/plain": [
       "[<matplotlib.lines.Line2D at 0x1903202a330>]"
      ]
     },
     "execution_count": 144,
     "metadata": {},
     "output_type": "execute_result"
    },
    {
     "data": {
      "image/png": "[encoded data removed]",
      "text/plain": [
       "<Figure size 1600x800 with 1 Axes>"
      ]
     },
     "metadata": {},
     "output_type": "display_data"
    }
   ],
   "source": [
    "plt.figure(figsize=(16, 8))\n",
    "plt.title('Tesla Close Stock Price Forecasting For Next 30 Days')\n",
    "plt.xlabel('Date', fontsize=18)\n",
    "plt.ylabel('Close' ,fontsize=18)\n",
    "plt.plot(df['y'])\n",
    "plt.plot(df_result.set_index('Date')[['Forecasted']])"
   ]
  },
  {
   "cell_type": "code",
   "execution_count": 32,
   "id": "26645721-8622-4a44-9eda-a862fb33117a",
   "metadata": {},
   "outputs": [
    {
     "name": "stderr",
     "output_type": "stream",
     "text": [
      "02:30:18 - cmdstanpy - INFO - Chain [1] start processing\n",
      "02:30:18 - cmdstanpy - INFO - Chain [1] done processing\n",
      "02:30:18 - cmdstanpy - INFO - Chain [1] start processing\n",
      "02:30:18 - cmdstanpy - INFO - Chain [1] done processing\n"
     ]
    },
    {
     "name": "stdout",
     "output_type": "stream",
     "text": [
      "Params: (0.001, 0.01, 'additive', 25, 0.85, 8) | MAE: 3702.06, MAPE: 23.60%\n"
     ]
    },
    {
     "name": "stderr",
     "output_type": "stream",
     "text": [
      "02:30:19 - cmdstanpy - INFO - Chain [1] start processing\n",
      "02:30:19 - cmdstanpy - INFO - Chain [1] done processing\n"
     ]
    },
    {
     "name": "stdout",
     "output_type": "stream",
     "text": [
      "Params: (0.001, 0.01, 'additive', 25, 0.85, 12) | MAE: 3596.96, MAPE: 22.93%\n",
      "Params: (0.001, 0.01, 'additive', 25, 0.9, 8) | MAE: 3857.75, MAPE: 24.64%\n"
     ]
    },
    {
     "name": "stderr",
     "output_type": "stream",
     "text": [
      "02:30:19 - cmdstanpy - INFO - Chain [1] start processing\n",
      "02:30:19 - cmdstanpy - INFO - Chain [1] done processing\n",
      "02:30:19 - cmdstanpy - INFO - Chain [1] start processing\n",
      "02:30:19 - cmdstanpy - INFO - Chain [1] done processing\n"
     ]
    },
    {
     "name": "stdout",
     "output_type": "stream",
     "text": [
      "Params: (0.001, 0.01, 'additive', 25, 0.9, 12) | MAE: 3719.18, MAPE: 23.71%\n",
      "Params: (0.001, 0.01, 'additive', 30, 0.85, 8) | MAE: 3648.46, MAPE: 23.25%\n"
     ]
    },
    {
     "name": "stderr",
     "output_type": "stream",
     "text": [
      "02:30:19 - cmdstanpy - INFO - Chain [1] start processing\n",
      "02:30:19 - cmdstanpy - INFO - Chain [1] done processing\n",
      "02:30:19 - cmdstanpy - INFO - Chain [1] start processing\n",
      "02:30:19 - cmdstanpy - INFO - Chain [1] done processing\n"
     ]
    },
    {
     "name": "stdout",
     "output_type": "stream",
     "text": [
      "Params: (0.001, 0.01, 'additive', 30, 0.85, 12) | MAE: 3635.57, MAPE: 23.17%\n",
      "Params: (0.001, 0.01, 'additive', 30, 0.9, 8) | MAE: 3692.80, MAPE: 23.60%\n"
     ]
    },
    {
     "name": "stderr",
     "output_type": "stream",
     "text": [
      "02:30:20 - cmdstanpy - INFO - Chain [1] start processing\n",
      "02:30:20 - cmdstanpy - INFO - Chain [1] done processing\n",
      "02:30:20 - cmdstanpy - INFO - Chain [1] start processing\n",
      "02:30:20 - cmdstanpy - INFO - Chain [1] done processing\n"
     ]
    },
    {
     "name": "stdout",
     "output_type": "stream",
     "text": [
      "Params: (0.001, 0.01, 'additive', 30, 0.9, 12) | MAE: 3611.31, MAPE: 23.02%\n",
      "Params: (0.001, 0.01, 'additive', 35, 0.85, 8) | MAE: 3833.55, MAPE: 24.47%\n"
     ]
    },
    {
     "name": "stderr",
     "output_type": "stream",
     "text": [
      "02:30:20 - cmdstanpy - INFO - Chain [1] start processing\n",
      "02:30:20 - cmdstanpy - INFO - Chain [1] done processing\n",
      "02:30:20 - cmdstanpy - INFO - Chain [1] start processing\n",
      "02:30:20 - cmdstanpy - INFO - Chain [1] done processing\n"
     ]
    },
    {
     "name": "stdout",
     "output_type": "stream",
     "text": [
      "Params: (0.001, 0.01, 'additive', 35, 0.85, 12) | MAE: 3905.86, MAPE: 24.91%\n"
     ]
    },
    {
     "name": "stderr",
     "output_type": "stream",
     "text": [
      "02:30:21 - cmdstanpy - INFO - Chain [1] start processing\n",
      "02:30:21 - cmdstanpy - INFO - Chain [1] done processing\n"
     ]
    },
    {
     "name": "stdout",
     "output_type": "stream",
     "text": [
      "Params: (0.001, 0.01, 'additive', 35, 0.9, 8) | MAE: 3904.80, MAPE: 24.92%\n"
     ]
    },
    {
     "name": "stderr",
     "output_type": "stream",
     "text": [
      "02:30:21 - cmdstanpy - INFO - Chain [1] start processing\n",
      "02:30:21 - cmdstanpy - INFO - Chain [1] done processing\n"
     ]
    },
    {
     "name": "stdout",
     "output_type": "stream",
     "text": [
      "Params: (0.001, 0.01, 'additive', 35, 0.9, 12) | MAE: 3681.16, MAPE: 23.49%\n"
     ]
    },
    {
     "name": "stderr",
     "output_type": "stream",
     "text": [
      "02:30:21 - cmdstanpy - INFO - Chain [1] start processing\n",
      "02:30:21 - cmdstanpy - INFO - Chain [1] done processing\n"
     ]
    },
    {
     "name": "stdout",
     "output_type": "stream",
     "text": [
      "Params: (0.001, 0.01, 'multiplicative', 25, 0.85, 8) | MAE: 3678.12, MAPE: 23.89%\n"
     ]
    },
    {
     "name": "stderr",
     "output_type": "stream",
     "text": [
      "02:30:21 - cmdstanpy - INFO - Chain [1] start processing\n",
      "02:30:21 - cmdstanpy - INFO - Chain [1] done processing\n"
     ]
    },
    {
     "name": "stdout",
     "output_type": "stream",
     "text": [
      "Params: (0.001, 0.01, 'multiplicative', 25, 0.85, 12) | MAE: 3770.87, MAPE: 24.45%\n"
     ]
    },
    {
     "name": "stderr",
     "output_type": "stream",
     "text": [
      "02:30:21 - cmdstanpy - INFO - Chain [1] start processing\n",
      "02:30:21 - cmdstanpy - INFO - Chain [1] done processing\n"
     ]
    },
    {
     "name": "stdout",
     "output_type": "stream",
     "text": [
      "Params: (0.001, 0.01, 'multiplicative', 25, 0.9, 8) | MAE: 3744.05, MAPE: 24.29%\n"
     ]
    },
    {
     "name": "stderr",
     "output_type": "stream",
     "text": [
      "02:30:22 - cmdstanpy - INFO - Chain [1] start processing\n",
      "02:30:22 - cmdstanpy - INFO - Chain [1] done processing\n"
     ]
    },
    {
     "name": "stdout",
     "output_type": "stream",
     "text": [
      "Params: (0.001, 0.01, 'multiplicative', 25, 0.9, 12) | MAE: 3695.07, MAPE: 23.99%\n"
     ]
    },
    {
     "name": "stderr",
     "output_type": "stream",
     "text": [
      "02:30:22 - cmdstanpy - INFO - Chain [1] start processing\n",
      "02:30:22 - cmdstanpy - INFO - Chain [1] done processing\n"
     ]
    },
    {
     "name": "stdout",
     "output_type": "stream",
     "text": [
      "Params: (0.001, 0.01, 'multiplicative', 30, 0.85, 8) | MAE: 3554.06, MAPE: 23.13%\n"
     ]
    },
    {
     "name": "stderr",
     "output_type": "stream",
     "text": [
      "02:30:22 - cmdstanpy - INFO - Chain [1] start processing\n",
      "02:30:22 - cmdstanpy - INFO - Chain [1] done processing\n"
     ]
    },
    {
     "name": "stdout",
     "output_type": "stream",
     "text": [
      "Params: (0.001, 0.01, 'multiplicative', 30, 0.85, 12) | MAE: 3497.07, MAPE: 22.74%\n"
     ]
    },
    {
     "name": "stderr",
     "output_type": "stream",
     "text": [
      "02:30:22 - cmdstanpy - INFO - Chain [1] start processing\n",
      "02:30:22 - cmdstanpy - INFO - Chain [1] done processing\n"
     ]
    },
    {
     "name": "stdout",
     "output_type": "stream",
     "text": [
      "Params: (0.001, 0.01, 'multiplicative', 30, 0.9, 8) | MAE: 3920.98, MAPE: 25.42%\n"
     ]
    },
    {
     "name": "stderr",
     "output_type": "stream",
     "text": [
      "02:30:22 - cmdstanpy - INFO - Chain [1] start processing\n",
      "02:30:23 - cmdstanpy - INFO - Chain [1] done processing\n"
     ]
    },
    {
     "name": "stdout",
     "output_type": "stream",
     "text": [
      "Params: (0.001, 0.01, 'multiplicative', 30, 0.9, 12) | MAE: 3579.87, MAPE: 23.30%\n",
      "Params: (0.001, 0.01, 'multiplicative', 35, 0.85, 8) | MAE: 3702.86, MAPE: 24.09%\n"
     ]
    },
    {
     "name": "stderr",
     "output_type": "stream",
     "text": [
      "02:30:23 - cmdstanpy - INFO - Chain [1] start processing\n",
      "02:30:23 - cmdstanpy - INFO - Chain [1] done processing\n",
      "02:30:23 - cmdstanpy - INFO - Chain [1] start processing\n",
      "02:30:23 - cmdstanpy - INFO - Chain [1] done processing\n"
     ]
    },
    {
     "name": "stdout",
     "output_type": "stream",
     "text": [
      "Params: (0.001, 0.01, 'multiplicative', 35, 0.85, 12) | MAE: 3703.24, MAPE: 24.04%\n"
     ]
    },
    {
     "name": "stderr",
     "output_type": "stream",
     "text": [
      "02:30:23 - cmdstanpy - INFO - Chain [1] start processing\n",
      "02:30:23 - cmdstanpy - INFO - Chain [1] done processing\n"
     ]
    },
    {
     "name": "stdout",
     "output_type": "stream",
     "text": [
      "Params: (0.001, 0.01, 'multiplicative', 35, 0.9, 8) | MAE: 3597.39, MAPE: 23.39%\n"
     ]
    },
    {
     "name": "stderr",
     "output_type": "stream",
     "text": [
      "02:30:23 - cmdstanpy - INFO - Chain [1] start processing\n",
      "02:30:23 - cmdstanpy - INFO - Chain [1] done processing\n"
     ]
    },
    {
     "name": "stdout",
     "output_type": "stream",
     "text": [
      "Params: (0.001, 0.01, 'multiplicative', 35, 0.9, 12) | MAE: 3670.68, MAPE: 23.88%\n",
      "Params: (0.001, 0.1, 'additive', 25, 0.85, 8) | MAE: 3819.48, MAPE: 24.32%\n"
     ]
    },
    {
     "name": "stderr",
     "output_type": "stream",
     "text": [
      "02:30:24 - cmdstanpy - INFO - Chain [1] start processing\n",
      "02:30:24 - cmdstanpy - INFO - Chain [1] done processing\n",
      "02:30:24 - cmdstanpy - INFO - Chain [1] start processing\n",
      "02:30:24 - cmdstanpy - INFO - Chain [1] done processing\n"
     ]
    },
    {
     "name": "stdout",
     "output_type": "stream",
     "text": [
      "Params: (0.001, 0.1, 'additive', 25, 0.85, 12) | MAE: 3675.00, MAPE: 23.33%\n"
     ]
    },
    {
     "name": "stderr",
     "output_type": "stream",
     "text": [
      "02:30:24 - cmdstanpy - INFO - Chain [1] start processing\n",
      "02:30:24 - cmdstanpy - INFO - Chain [1] done processing\n"
     ]
    },
    {
     "name": "stdout",
     "output_type": "stream",
     "text": [
      "Params: (0.001, 0.1, 'additive', 25, 0.9, 8) | MAE: 3932.83, MAPE: 24.98%\n"
     ]
    },
    {
     "name": "stderr",
     "output_type": "stream",
     "text": [
      "02:30:24 - cmdstanpy - INFO - Chain [1] start processing\n",
      "02:30:24 - cmdstanpy - INFO - Chain [1] done processing\n"
     ]
    },
    {
     "name": "stdout",
     "output_type": "stream",
     "text": [
      "Params: (0.001, 0.1, 'additive', 25, 0.9, 12) | MAE: 3798.54, MAPE: 24.11%\n",
      "Params: (0.001, 0.1, 'additive', 30, 0.85, 8) | MAE: 3507.55, MAPE: 22.26%\n"
     ]
    },
    {
     "name": "stderr",
     "output_type": "stream",
     "text": [
      "02:30:24 - cmdstanpy - INFO - Chain [1] start processing\n",
      "02:30:24 - cmdstanpy - INFO - Chain [1] done processing\n",
      "02:30:25 - cmdstanpy - INFO - Chain [1] start processing\n",
      "02:30:25 - cmdstanpy - INFO - Chain [1] done processing\n"
     ]
    },
    {
     "name": "stdout",
     "output_type": "stream",
     "text": [
      "Params: (0.001, 0.1, 'additive', 30, 0.85, 12) | MAE: 3936.61, MAPE: 25.02%\n"
     ]
    },
    {
     "name": "stderr",
     "output_type": "stream",
     "text": [
      "02:30:25 - cmdstanpy - INFO - Chain [1] start processing\n",
      "02:30:25 - cmdstanpy - INFO - Chain [1] done processing\n"
     ]
    },
    {
     "name": "stdout",
     "output_type": "stream",
     "text": [
      "Params: (0.001, 0.1, 'additive', 30, 0.9, 8) | MAE: 3776.67, MAPE: 23.99%\n"
     ]
    },
    {
     "name": "stderr",
     "output_type": "stream",
     "text": [
      "02:30:25 - cmdstanpy - INFO - Chain [1] start processing\n",
      "02:30:25 - cmdstanpy - INFO - Chain [1] done processing\n"
     ]
    },
    {
     "name": "stdout",
     "output_type": "stream",
     "text": [
      "Params: (0.001, 0.1, 'additive', 30, 0.9, 12) | MAE: 3907.87, MAPE: 24.88%\n",
      "Params: (0.001, 0.1, 'additive', 35, 0.85, 8) | MAE: 3836.70, MAPE: 24.41%\n"
     ]
    },
    {
     "name": "stderr",
     "output_type": "stream",
     "text": [
      "02:30:25 - cmdstanpy - INFO - Chain [1] start processing\n",
      "02:30:25 - cmdstanpy - INFO - Chain [1] done processing\n",
      "02:30:25 - cmdstanpy - INFO - Chain [1] start processing\n",
      "02:30:26 - cmdstanpy - INFO - Chain [1] done processing\n"
     ]
    },
    {
     "name": "stdout",
     "output_type": "stream",
     "text": [
      "Params: (0.001, 0.1, 'additive', 35, 0.85, 12) | MAE: 3524.33, MAPE: 22.37%\n"
     ]
    },
    {
     "name": "stderr",
     "output_type": "stream",
     "text": [
      "02:30:26 - cmdstanpy - INFO - Chain [1] start processing\n",
      "02:30:26 - cmdstanpy - INFO - Chain [1] done processing\n"
     ]
    },
    {
     "name": "stdout",
     "output_type": "stream",
     "text": [
      "Params: (0.001, 0.1, 'additive', 35, 0.9, 8) | MAE: 3620.43, MAPE: 23.02%\n",
      "Params: (0.001, 0.1, 'additive', 35, 0.9, 12) | MAE: 3686.95, MAPE: 23.46%\n"
     ]
    },
    {
     "name": "stderr",
     "output_type": "stream",
     "text": [
      "02:30:26 - cmdstanpy - INFO - Chain [1] start processing\n",
      "02:30:26 - cmdstanpy - INFO - Chain [1] done processing\n",
      "02:30:26 - cmdstanpy - INFO - Chain [1] start processing\n",
      "02:30:26 - cmdstanpy - INFO - Chain [1] done processing\n"
     ]
    },
    {
     "name": "stdout",
     "output_type": "stream",
     "text": [
      "Params: (0.001, 0.1, 'multiplicative', 25, 0.85, 8) | MAE: 3571.74, MAPE: 23.17%\n"
     ]
    },
    {
     "name": "stderr",
     "output_type": "stream",
     "text": [
      "02:30:26 - cmdstanpy - INFO - Chain [1] start processing\n",
      "02:30:26 - cmdstanpy - INFO - Chain [1] done processing\n"
     ]
    },
    {
     "name": "stdout",
     "output_type": "stream",
     "text": [
      "Params: (0.001, 0.1, 'multiplicative', 25, 0.85, 12) | MAE: 3595.69, MAPE: 23.23%\n",
      "Params: (0.001, 0.1, 'multiplicative', 25, 0.9, 8) | MAE: 3685.92, MAPE: 23.79%\n"
     ]
    },
    {
     "name": "stderr",
     "output_type": "stream",
     "text": [
      "02:30:27 - cmdstanpy - INFO - Chain [1] start processing\n",
      "02:30:27 - cmdstanpy - INFO - Chain [1] done processing\n",
      "02:30:27 - cmdstanpy - INFO - Chain [1] start processing\n",
      "02:30:27 - cmdstanpy - INFO - Chain [1] done processing\n"
     ]
    },
    {
     "name": "stdout",
     "output_type": "stream",
     "text": [
      "Params: (0.001, 0.1, 'multiplicative', 25, 0.9, 12) | MAE: 3775.91, MAPE: 24.33%\n",
      "Params: (0.001, 0.1, 'multiplicative', 30, 0.85, 8) | MAE: 3531.90, MAPE: 22.86%\n"
     ]
    },
    {
     "name": "stderr",
     "output_type": "stream",
     "text": [
      "02:30:27 - cmdstanpy - INFO - Chain [1] start processing\n",
      "02:30:27 - cmdstanpy - INFO - Chain [1] done processing\n",
      "02:30:27 - cmdstanpy - INFO - Chain [1] start processing\n",
      "02:30:27 - cmdstanpy - INFO - Chain [1] done processing\n"
     ]
    },
    {
     "name": "stdout",
     "output_type": "stream",
     "text": [
      "Params: (0.001, 0.1, 'multiplicative', 30, 0.85, 12) | MAE: 3728.75, MAPE: 24.05%\n"
     ]
    },
    {
     "name": "stderr",
     "output_type": "stream",
     "text": [
      "02:30:27 - cmdstanpy - INFO - Chain [1] start processing\n",
      "02:30:28 - cmdstanpy - INFO - Chain [1] done processing\n"
     ]
    },
    {
     "name": "stdout",
     "output_type": "stream",
     "text": [
      "Params: (0.001, 0.1, 'multiplicative', 30, 0.9, 8) | MAE: 3748.93, MAPE: 24.19%\n"
     ]
    },
    {
     "name": "stderr",
     "output_type": "stream",
     "text": [
      "02:30:28 - cmdstanpy - INFO - Chain [1] start processing\n",
      "02:30:28 - cmdstanpy - INFO - Chain [1] done processing\n"
     ]
    },
    {
     "name": "stdout",
     "output_type": "stream",
     "text": [
      "Params: (0.001, 0.1, 'multiplicative', 30, 0.9, 12) | MAE: 3645.12, MAPE: 23.58%\n"
     ]
    },
    {
     "name": "stderr",
     "output_type": "stream",
     "text": [
      "02:30:28 - cmdstanpy - INFO - Chain [1] start processing\n",
      "02:30:28 - cmdstanpy - INFO - Chain [1] done processing\n"
     ]
    },
    {
     "name": "stdout",
     "output_type": "stream",
     "text": [
      "Params: (0.001, 0.1, 'multiplicative', 35, 0.85, 8) | MAE: 3803.35, MAPE: 24.46%\n"
     ]
    },
    {
     "name": "stderr",
     "output_type": "stream",
     "text": [
      "02:30:28 - cmdstanpy - INFO - Chain [1] start processing\n",
      "02:30:28 - cmdstanpy - INFO - Chain [1] done processing\n"
     ]
    },
    {
     "name": "stdout",
     "output_type": "stream",
     "text": [
      "Params: (0.001, 0.1, 'multiplicative', 35, 0.85, 12) | MAE: 3674.00, MAPE: 23.62%\n",
      "Params: (0.001, 0.1, 'multiplicative', 35, 0.9, 8) | MAE: 3594.68, MAPE: 23.17%\n"
     ]
    },
    {
     "name": "stderr",
     "output_type": "stream",
     "text": [
      "02:30:28 - cmdstanpy - INFO - Chain [1] start processing\n",
      "02:30:28 - cmdstanpy - INFO - Chain [1] done processing\n",
      "02:30:29 - cmdstanpy - INFO - Chain [1] start processing\n",
      "02:30:29 - cmdstanpy - INFO - Chain [1] done processing\n"
     ]
    },
    {
     "name": "stdout",
     "output_type": "stream",
     "text": [
      "Params: (0.001, 0.1, 'multiplicative', 35, 0.9, 12) | MAE: 3854.19, MAPE: 24.72%\n",
      "Params: (0.001, 1.0, 'additive', 25, 0.85, 8) | MAE: 3827.98, MAPE: 24.36%\n"
     ]
    },
    {
     "name": "stderr",
     "output_type": "stream",
     "text": [
      "02:30:29 - cmdstanpy - INFO - Chain [1] start processing\n",
      "02:30:29 - cmdstanpy - INFO - Chain [1] done processing\n",
      "02:30:29 - cmdstanpy - INFO - Chain [1] start processing\n",
      "02:30:29 - cmdstanpy - INFO - Chain [1] done processing\n"
     ]
    },
    {
     "name": "stdout",
     "output_type": "stream",
     "text": [
      "Params: (0.001, 1.0, 'additive', 25, 0.85, 12) | MAE: 3783.20, MAPE: 24.05%\n",
      "Params: (0.001, 1.0, 'additive', 25, 0.9, 8) | MAE: 3875.66, MAPE: 24.61%\n"
     ]
    },
    {
     "name": "stderr",
     "output_type": "stream",
     "text": [
      "02:30:29 - cmdstanpy - INFO - Chain [1] start processing\n",
      "02:30:29 - cmdstanpy - INFO - Chain [1] done processing\n",
      "02:30:29 - cmdstanpy - INFO - Chain [1] start processing\n",
      "02:30:29 - cmdstanpy - INFO - Chain [1] done processing\n"
     ]
    },
    {
     "name": "stdout",
     "output_type": "stream",
     "text": [
      "Params: (0.001, 1.0, 'additive', 25, 0.9, 12) | MAE: 3792.63, MAPE: 24.12%\n",
      "Params: (0.001, 1.0, 'additive', 30, 0.85, 8) | MAE: 3790.83, MAPE: 24.15%\n"
     ]
    },
    {
     "name": "stderr",
     "output_type": "stream",
     "text": [
      "02:30:30 - cmdstanpy - INFO - Chain [1] start processing\n",
      "02:30:30 - cmdstanpy - INFO - Chain [1] done processing\n",
      "02:30:30 - cmdstanpy - INFO - Chain [1] start processing\n",
      "02:30:30 - cmdstanpy - INFO - Chain [1] done processing\n"
     ]
    },
    {
     "name": "stdout",
     "output_type": "stream",
     "text": [
      "Params: (0.001, 1.0, 'additive', 30, 0.85, 12) | MAE: 3880.15, MAPE: 24.70%\n"
     ]
    },
    {
     "name": "stderr",
     "output_type": "stream",
     "text": [
      "02:30:30 - cmdstanpy - INFO - Chain [1] start processing\n",
      "02:30:30 - cmdstanpy - INFO - Chain [1] done processing\n"
     ]
    },
    {
     "name": "stdout",
     "output_type": "stream",
     "text": [
      "Params: (0.001, 1.0, 'additive', 30, 0.9, 8) | MAE: 3825.15, MAPE: 24.33%\n"
     ]
    },
    {
     "name": "stderr",
     "output_type": "stream",
     "text": [
      "02:30:30 - cmdstanpy - INFO - Chain [1] start processing\n",
      "02:30:30 - cmdstanpy - INFO - Chain [1] done processing\n"
     ]
    },
    {
     "name": "stdout",
     "output_type": "stream",
     "text": [
      "Params: (0.001, 1.0, 'additive', 30, 0.9, 12) | MAE: 3841.86, MAPE: 24.42%\n",
      "Params: (0.001, 1.0, 'additive', 35, 0.85, 8) | MAE: 3751.73, MAPE: 23.83%\n"
     ]
    },
    {
     "name": "stderr",
     "output_type": "stream",
     "text": [
      "02:30:30 - cmdstanpy - INFO - Chain [1] start processing\n",
      "02:30:30 - cmdstanpy - INFO - Chain [1] done processing\n",
      "02:30:31 - cmdstanpy - INFO - Chain [1] start processing\n",
      "02:30:31 - cmdstanpy - INFO - Chain [1] done processing\n"
     ]
    },
    {
     "name": "stdout",
     "output_type": "stream",
     "text": [
      "Params: (0.001, 1.0, 'additive', 35, 0.85, 12) | MAE: 3677.42, MAPE: 23.33%\n"
     ]
    },
    {
     "name": "stderr",
     "output_type": "stream",
     "text": [
      "02:30:31 - cmdstanpy - INFO - Chain [1] start processing\n",
      "02:30:31 - cmdstanpy - INFO - Chain [1] done processing\n"
     ]
    },
    {
     "name": "stdout",
     "output_type": "stream",
     "text": [
      "Params: (0.001, 1.0, 'additive', 35, 0.9, 8) | MAE: 3741.70, MAPE: 23.76%\n"
     ]
    },
    {
     "name": "stderr",
     "output_type": "stream",
     "text": [
      "02:30:31 - cmdstanpy - INFO - Chain [1] start processing\n",
      "02:30:31 - cmdstanpy - INFO - Chain [1] done processing\n"
     ]
    },
    {
     "name": "stdout",
     "output_type": "stream",
     "text": [
      "Params: (0.001, 1.0, 'additive', 35, 0.9, 12) | MAE: 3706.19, MAPE: 23.53%\n",
      "Params: (0.001, 1.0, 'multiplicative', 25, 0.85, 8) | MAE: 3586.95, MAPE: 23.18%\n"
     ]
    },
    {
     "name": "stderr",
     "output_type": "stream",
     "text": [
      "02:30:31 - cmdstanpy - INFO - Chain [1] start processing\n",
      "02:30:31 - cmdstanpy - INFO - Chain [1] done processing\n",
      "02:30:31 - cmdstanpy - INFO - Chain [1] start processing\n",
      "02:30:32 - cmdstanpy - INFO - Chain [1] done processing\n"
     ]
    },
    {
     "name": "stdout",
     "output_type": "stream",
     "text": [
      "Params: (0.001, 1.0, 'multiplicative', 25, 0.85, 12) | MAE: 3574.56, MAPE: 23.10%\n"
     ]
    },
    {
     "name": "stderr",
     "output_type": "stream",
     "text": [
      "02:30:32 - cmdstanpy - INFO - Chain [1] start processing\n",
      "02:30:32 - cmdstanpy - INFO - Chain [1] done processing\n"
     ]
    },
    {
     "name": "stdout",
     "output_type": "stream",
     "text": [
      "Params: (0.001, 1.0, 'multiplicative', 25, 0.9, 8) | MAE: 3758.82, MAPE: 24.21%\n",
      "Params: (0.001, 1.0, 'multiplicative', 25, 0.9, 12) | MAE: 3990.53, MAPE: 25.70%\n"
     ]
    },
    {
     "name": "stderr",
     "output_type": "stream",
     "text": [
      "02:30:32 - cmdstanpy - INFO - Chain [1] start processing\n",
      "02:30:32 - cmdstanpy - INFO - Chain [1] done processing\n",
      "02:30:32 - cmdstanpy - INFO - Chain [1] start processing\n",
      "02:30:32 - cmdstanpy - INFO - Chain [1] done processing\n"
     ]
    },
    {
     "name": "stdout",
     "output_type": "stream",
     "text": [
      "Params: (0.001, 1.0, 'multiplicative', 30, 0.85, 8) | MAE: 3628.07, MAPE: 23.43%\n"
     ]
    },
    {
     "name": "stderr",
     "output_type": "stream",
     "text": [
      "02:30:32 - cmdstanpy - INFO - Chain [1] start processing\n",
      "02:30:32 - cmdstanpy - INFO - Chain [1] done processing\n"
     ]
    },
    {
     "name": "stdout",
     "output_type": "stream",
     "text": [
      "Params: (0.001, 1.0, 'multiplicative', 30, 0.85, 12) | MAE: 3761.81, MAPE: 24.24%\n"
     ]
    },
    {
     "name": "stderr",
     "output_type": "stream",
     "text": [
      "02:30:33 - cmdstanpy - INFO - Chain [1] start processing\n",
      "02:30:33 - cmdstanpy - INFO - Chain [1] done processing\n"
     ]
    },
    {
     "name": "stdout",
     "output_type": "stream",
     "text": [
      "Params: (0.001, 1.0, 'multiplicative', 30, 0.9, 8) | MAE: 3852.36, MAPE: 24.81%\n",
      "Params: (0.001, 1.0, 'multiplicative', 30, 0.9, 12) | MAE: 3836.19, MAPE: 24.77%\n"
     ]
    },
    {
     "name": "stderr",
     "output_type": "stream",
     "text": [
      "02:30:33 - cmdstanpy - INFO - Chain [1] start processing\n",
      "02:30:33 - cmdstanpy - INFO - Chain [1] done processing\n",
      "02:30:33 - cmdstanpy - INFO - Chain [1] start processing\n",
      "02:30:33 - cmdstanpy - INFO - Chain [1] done processing\n"
     ]
    },
    {
     "name": "stdout",
     "output_type": "stream",
     "text": [
      "Params: (0.001, 1.0, 'multiplicative', 35, 0.85, 8) | MAE: 3725.70, MAPE: 24.00%\n",
      "Params: (0.001, 1.0, 'multiplicative', 35, 0.85, 12) | MAE: 3805.58, MAPE: 24.45%\n"
     ]
    },
    {
     "name": "stderr",
     "output_type": "stream",
     "text": [
      "02:30:33 - cmdstanpy - INFO - Chain [1] start processing\n",
      "02:30:33 - cmdstanpy - INFO - Chain [1] done processing\n",
      "02:30:33 - cmdstanpy - INFO - Chain [1] start processing\n",
      "02:30:33 - cmdstanpy - INFO - Chain [1] done processing\n"
     ]
    },
    {
     "name": "stdout",
     "output_type": "stream",
     "text": [
      "Params: (0.001, 1.0, 'multiplicative', 35, 0.9, 8) | MAE: 3787.42, MAPE: 24.38%\n"
     ]
    },
    {
     "name": "stderr",
     "output_type": "stream",
     "text": [
      "02:30:34 - cmdstanpy - INFO - Chain [1] start processing\n",
      "02:30:34 - cmdstanpy - INFO - Chain [1] done processing\n"
     ]
    },
    {
     "name": "stdout",
     "output_type": "stream",
     "text": [
      "Params: (0.001, 1.0, 'multiplicative', 35, 0.9, 12) | MAE: 3697.60, MAPE: 23.83%\n"
     ]
    },
    {
     "name": "stderr",
     "output_type": "stream",
     "text": [
      "02:30:34 - cmdstanpy - INFO - Chain [1] start processing\n",
      "02:30:34 - cmdstanpy - INFO - Chain [1] done processing\n"
     ]
    },
    {
     "name": "stdout",
     "output_type": "stream",
     "text": [
      "Params: (0.001, 10.0, 'additive', 25, 0.85, 8) | MAE: 3871.69, MAPE: 24.64%\n"
     ]
    },
    {
     "name": "stderr",
     "output_type": "stream",
     "text": [
      "02:30:34 - cmdstanpy - INFO - Chain [1] start processing\n",
      "02:30:34 - cmdstanpy - INFO - Chain [1] done processing\n"
     ]
    },
    {
     "name": "stdout",
     "output_type": "stream",
     "text": [
      "Params: (0.001, 10.0, 'additive', 25, 0.85, 12) | MAE: 3741.69, MAPE: 23.75%\n",
      "Params: (0.001, 10.0, 'additive', 25, 0.9, 8) | MAE: 3653.87, MAPE: 23.24%\n"
     ]
    },
    {
     "name": "stderr",
     "output_type": "stream",
     "text": [
      "02:30:34 - cmdstanpy - INFO - Chain [1] start processing\n",
      "02:30:34 - cmdstanpy - INFO - Chain [1] done processing\n",
      "02:30:34 - cmdstanpy - INFO - Chain [1] start processing\n",
      "02:30:35 - cmdstanpy - INFO - Chain [1] done processing\n"
     ]
    },
    {
     "name": "stdout",
     "output_type": "stream",
     "text": [
      "Params: (0.001, 10.0, 'additive', 25, 0.9, 12) | MAE: 3848.10, MAPE: 24.46%\n"
     ]
    },
    {
     "name": "stderr",
     "output_type": "stream",
     "text": [
      "02:30:35 - cmdstanpy - INFO - Chain [1] start processing\n",
      "02:30:35 - cmdstanpy - INFO - Chain [1] done processing\n"
     ]
    },
    {
     "name": "stdout",
     "output_type": "stream",
     "text": [
      "Params: (0.001, 10.0, 'additive', 30, 0.85, 8) | MAE: 4019.81, MAPE: 25.59%\n"
     ]
    },
    {
     "name": "stderr",
     "output_type": "stream",
     "text": [
      "02:30:35 - cmdstanpy - INFO - Chain [1] start processing\n",
      "02:30:35 - cmdstanpy - INFO - Chain [1] done processing\n"
     ]
    },
    {
     "name": "stdout",
     "output_type": "stream",
     "text": [
      "Params: (0.001, 10.0, 'additive', 30, 0.85, 12) | MAE: 3852.34, MAPE: 24.52%\n"
     ]
    },
    {
     "name": "stderr",
     "output_type": "stream",
     "text": [
      "02:30:35 - cmdstanpy - INFO - Chain [1] start processing\n",
      "02:30:35 - cmdstanpy - INFO - Chain [1] done processing\n"
     ]
    },
    {
     "name": "stdout",
     "output_type": "stream",
     "text": [
      "Params: (0.001, 10.0, 'additive', 30, 0.9, 8) | MAE: 3851.51, MAPE: 24.52%\n"
     ]
    },
    {
     "name": "stderr",
     "output_type": "stream",
     "text": [
      "02:30:35 - cmdstanpy - INFO - Chain [1] start processing\n",
      "02:30:35 - cmdstanpy - INFO - Chain [1] done processing\n"
     ]
    },
    {
     "name": "stdout",
     "output_type": "stream",
     "text": [
      "Params: (0.001, 10.0, 'additive', 30, 0.9, 12) | MAE: 3909.06, MAPE: 24.84%\n"
     ]
    },
    {
     "name": "stderr",
     "output_type": "stream",
     "text": [
      "02:30:36 - cmdstanpy - INFO - Chain [1] start processing\n",
      "02:30:36 - cmdstanpy - INFO - Chain [1] done processing\n"
     ]
    },
    {
     "name": "stdout",
     "output_type": "stream",
     "text": [
      "Params: (0.001, 10.0, 'additive', 35, 0.85, 8) | MAE: 3648.33, MAPE: 23.18%\n"
     ]
    },
    {
     "name": "stderr",
     "output_type": "stream",
     "text": [
      "02:30:36 - cmdstanpy - INFO - Chain [1] start processing\n",
      "02:30:36 - cmdstanpy - INFO - Chain [1] done processing\n"
     ]
    },
    {
     "name": "stdout",
     "output_type": "stream",
     "text": [
      "Params: (0.001, 10.0, 'additive', 35, 0.85, 12) | MAE: 3540.25, MAPE: 22.46%\n"
     ]
    },
    {
     "name": "stderr",
     "output_type": "stream",
     "text": [
      "02:30:36 - cmdstanpy - INFO - Chain [1] start processing\n",
      "02:30:36 - cmdstanpy - INFO - Chain [1] done processing\n"
     ]
    },
    {
     "name": "stdout",
     "output_type": "stream",
     "text": [
      "Params: (0.001, 10.0, 'additive', 35, 0.9, 8) | MAE: 3617.59, MAPE: 22.98%\n"
     ]
    },
    {
     "name": "stderr",
     "output_type": "stream",
     "text": [
      "02:30:36 - cmdstanpy - INFO - Chain [1] start processing\n",
      "02:30:36 - cmdstanpy - INFO - Chain [1] done processing\n"
     ]
    },
    {
     "name": "stdout",
     "output_type": "stream",
     "text": [
      "Params: (0.001, 10.0, 'additive', 35, 0.9, 12) | MAE: 3588.74, MAPE: 22.79%\n",
      "Params: (0.001, 10.0, 'multiplicative', 25, 0.85, 8) | MAE: 3559.91, MAPE: 23.01%\n"
     ]
    },
    {
     "name": "stderr",
     "output_type": "stream",
     "text": [
      "02:30:37 - cmdstanpy - INFO - Chain [1] start processing\n",
      "02:30:37 - cmdstanpy - INFO - Chain [1] done processing\n",
      "02:30:37 - cmdstanpy - INFO - Chain [1] start processing\n",
      "02:30:37 - cmdstanpy - INFO - Chain [1] done processing\n"
     ]
    },
    {
     "name": "stdout",
     "output_type": "stream",
     "text": [
      "Params: (0.001, 10.0, 'multiplicative', 25, 0.85, 12) | MAE: 3479.16, MAPE: 22.49%\n",
      "Params: (0.001, 10.0, 'multiplicative', 25, 0.9, 8) | MAE: 3908.83, MAPE: 25.16%\n"
     ]
    },
    {
     "name": "stderr",
     "output_type": "stream",
     "text": [
      "02:30:37 - cmdstanpy - INFO - Chain [1] start processing\n",
      "02:30:37 - cmdstanpy - INFO - Chain [1] done processing\n",
      "02:30:37 - cmdstanpy - INFO - Chain [1] start processing\n",
      "02:30:37 - cmdstanpy - INFO - Chain [1] done processing\n"
     ]
    },
    {
     "name": "stdout",
     "output_type": "stream",
     "text": [
      "Params: (0.001, 10.0, 'multiplicative', 25, 0.9, 12) | MAE: 3807.05, MAPE: 24.54%\n",
      "Params: (0.001, 10.0, 'multiplicative', 30, 0.85, 8) | MAE: 3646.54, MAPE: 23.55%\n"
     ]
    },
    {
     "name": "stderr",
     "output_type": "stream",
     "text": [
      "02:30:37 - cmdstanpy - INFO - Chain [1] start processing\n",
      "02:30:37 - cmdstanpy - INFO - Chain [1] done processing\n",
      "02:30:38 - cmdstanpy - INFO - Chain [1] start processing\n",
      "02:30:38 - cmdstanpy - INFO - Chain [1] done processing\n"
     ]
    },
    {
     "name": "stdout",
     "output_type": "stream",
     "text": [
      "Params: (0.001, 10.0, 'multiplicative', 30, 0.85, 12) | MAE: 3773.02, MAPE: 24.31%\n"
     ]
    },
    {
     "name": "stderr",
     "output_type": "stream",
     "text": [
      "02:30:38 - cmdstanpy - INFO - Chain [1] start processing\n",
      "02:30:38 - cmdstanpy - INFO - Chain [1] done processing\n"
     ]
    },
    {
     "name": "stdout",
     "output_type": "stream",
     "text": [
      "Params: (0.001, 10.0, 'multiplicative', 30, 0.9, 8) | MAE: 3809.15, MAPE: 24.59%\n"
     ]
    },
    {
     "name": "stderr",
     "output_type": "stream",
     "text": [
      "02:30:38 - cmdstanpy - INFO - Chain [1] start processing\n",
      "02:30:38 - cmdstanpy - INFO - Chain [1] done processing\n"
     ]
    },
    {
     "name": "stdout",
     "output_type": "stream",
     "text": [
      "Params: (0.001, 10.0, 'multiplicative', 30, 0.9, 12) | MAE: 3791.69, MAPE: 24.49%\n",
      "Params: (0.001, 10.0, 'multiplicative', 35, 0.85, 8) | MAE: 3550.23, MAPE: 22.92%\n"
     ]
    },
    {
     "name": "stderr",
     "output_type": "stream",
     "text": [
      "02:30:38 - cmdstanpy - INFO - Chain [1] start processing\n",
      "02:30:38 - cmdstanpy - INFO - Chain [1] done processing\n",
      "02:30:38 - cmdstanpy - INFO - Chain [1] start processing\n",
      "02:30:39 - cmdstanpy - INFO - Chain [1] done processing\n"
     ]
    },
    {
     "name": "stdout",
     "output_type": "stream",
     "text": [
      "Params: (0.001, 10.0, 'multiplicative', 35, 0.85, 12) | MAE: 3592.49, MAPE: 23.15%\n",
      "Params: (0.001, 10.0, 'multiplicative', 35, 0.9, 8) | MAE: 3797.48, MAPE: 24.46%\n"
     ]
    },
    {
     "name": "stderr",
     "output_type": "stream",
     "text": [
      "02:30:39 - cmdstanpy - INFO - Chain [1] start processing\n",
      "02:30:39 - cmdstanpy - INFO - Chain [1] done processing\n",
      "02:30:39 - cmdstanpy - INFO - Chain [1] start processing\n",
      "02:30:39 - cmdstanpy - INFO - Chain [1] done processing\n"
     ]
    },
    {
     "name": "stdout",
     "output_type": "stream",
     "text": [
      "Params: (0.001, 10.0, 'multiplicative', 35, 0.9, 12) | MAE: 3736.78, MAPE: 24.08%\n"
     ]
    },
    {
     "name": "stderr",
     "output_type": "stream",
     "text": [
      "02:30:39 - cmdstanpy - INFO - Chain [1] start processing\n",
      "02:30:39 - cmdstanpy - INFO - Chain [1] done processing\n"
     ]
    },
    {
     "name": "stdout",
     "output_type": "stream",
     "text": [
      "Params: (0.01, 0.01, 'additive', 25, 0.85, 8) | MAE: 7172.98, MAPE: 45.85%\n"
     ]
    },
    {
     "name": "stderr",
     "output_type": "stream",
     "text": [
      "02:30:39 - cmdstanpy - INFO - Chain [1] start processing\n",
      "02:30:39 - cmdstanpy - INFO - Chain [1] done processing\n"
     ]
    },
    {
     "name": "stdout",
     "output_type": "stream",
     "text": [
      "Params: (0.01, 0.01, 'additive', 25, 0.85, 12) | MAE: 7110.04, MAPE: 45.43%\n"
     ]
    },
    {
     "name": "stderr",
     "output_type": "stream",
     "text": [
      "02:30:40 - cmdstanpy - INFO - Chain [1] start processing\n",
      "02:30:40 - cmdstanpy - INFO - Chain [1] done processing\n"
     ]
    },
    {
     "name": "stdout",
     "output_type": "stream",
     "text": [
      "Params: (0.01, 0.01, 'additive', 25, 0.9, 8) | MAE: 7342.29, MAPE: 46.95%\n"
     ]
    },
    {
     "name": "stderr",
     "output_type": "stream",
     "text": [
      "02:30:40 - cmdstanpy - INFO - Chain [1] start processing\n",
      "02:30:40 - cmdstanpy - INFO - Chain [1] done processing\n"
     ]
    },
    {
     "name": "stdout",
     "output_type": "stream",
     "text": [
      "Params: (0.01, 0.01, 'additive', 25, 0.9, 12) | MAE: 6959.17, MAPE: 44.47%\n"
     ]
    },
    {
     "name": "stderr",
     "output_type": "stream",
     "text": [
      "02:30:40 - cmdstanpy - INFO - Chain [1] start processing\n"
     ]
    },
    {
     "name": "stdout",
     "output_type": "stream",
     "text": [
      "Params: (0.01, 0.01, 'additive', 30, 0.85, 8) | MAE: 7228.18, MAPE: 46.21%\n"
     ]
    },
    {
     "name": "stderr",
     "output_type": "stream",
     "text": [
      "02:30:40 - cmdstanpy - INFO - Chain [1] done processing\n",
      "02:30:40 - cmdstanpy - INFO - Chain [1] start processing\n",
      "02:30:41 - cmdstanpy - INFO - Chain [1] done processing\n"
     ]
    },
    {
     "name": "stdout",
     "output_type": "stream",
     "text": [
      "Params: (0.01, 0.01, 'additive', 30, 0.85, 12) | MAE: 7017.68, MAPE: 44.84%\n"
     ]
    },
    {
     "name": "stderr",
     "output_type": "stream",
     "text": [
      "02:30:41 - cmdstanpy - INFO - Chain [1] start processing\n",
      "02:30:41 - cmdstanpy - INFO - Chain [1] done processing\n"
     ]
    },
    {
     "name": "stdout",
     "output_type": "stream",
     "text": [
      "Params: (0.01, 0.01, 'additive', 30, 0.9, 8) | MAE: 7143.93, MAPE: 45.65%\n"
     ]
    },
    {
     "name": "stderr",
     "output_type": "stream",
     "text": [
      "02:30:41 - cmdstanpy - INFO - Chain [1] start processing\n",
      "02:30:41 - cmdstanpy - INFO - Chain [1] done processing\n"
     ]
    },
    {
     "name": "stdout",
     "output_type": "stream",
     "text": [
      "Params: (0.01, 0.01, 'additive', 30, 0.9, 12) | MAE: 6867.24, MAPE: 43.85%\n"
     ]
    },
    {
     "name": "stderr",
     "output_type": "stream",
     "text": [
      "02:30:41 - cmdstanpy - INFO - Chain [1] start processing\n",
      "02:30:41 - cmdstanpy - INFO - Chain [1] done processing\n"
     ]
    },
    {
     "name": "stdout",
     "output_type": "stream",
     "text": [
      "Params: (0.01, 0.01, 'additive', 35, 0.85, 8) | MAE: 7260.35, MAPE: 46.44%\n"
     ]
    },
    {
     "name": "stderr",
     "output_type": "stream",
     "text": [
      "02:30:41 - cmdstanpy - INFO - Chain [1] start processing\n",
      "02:30:42 - cmdstanpy - INFO - Chain [1] done processing\n"
     ]
    },
    {
     "name": "stdout",
     "output_type": "stream",
     "text": [
      "Params: (0.01, 0.01, 'additive', 35, 0.85, 12) | MAE: 7140.63, MAPE: 45.65%\n"
     ]
    },
    {
     "name": "stderr",
     "output_type": "stream",
     "text": [
      "02:30:42 - cmdstanpy - INFO - Chain [1] start processing\n"
     ]
    },
    {
     "name": "stdout",
     "output_type": "stream",
     "text": [
      "Params: (0.01, 0.01, 'additive', 35, 0.9, 8) | MAE: 6983.52, MAPE: 44.61%\n"
     ]
    },
    {
     "name": "stderr",
     "output_type": "stream",
     "text": [
      "02:30:42 - cmdstanpy - INFO - Chain [1] done processing\n",
      "02:30:42 - cmdstanpy - INFO - Chain [1] start processing\n",
      "02:30:42 - cmdstanpy - INFO - Chain [1] done processing\n"
     ]
    },
    {
     "name": "stdout",
     "output_type": "stream",
     "text": [
      "Params: (0.01, 0.01, 'additive', 35, 0.9, 12) | MAE: 6834.80, MAPE: 43.64%\n"
     ]
    },
    {
     "name": "stderr",
     "output_type": "stream",
     "text": [
      "02:30:42 - cmdstanpy - INFO - Chain [1] start processing\n",
      "02:30:42 - cmdstanpy - INFO - Chain [1] done processing\n"
     ]
    },
    {
     "name": "stdout",
     "output_type": "stream",
     "text": [
      "Params: (0.01, 0.01, 'multiplicative', 25, 0.85, 8) | MAE: 6365.44, MAPE: 40.84%\n"
     ]
    },
    {
     "name": "stderr",
     "output_type": "stream",
     "text": [
      "02:30:42 - cmdstanpy - INFO - Chain [1] start processing\n",
      "02:30:42 - cmdstanpy - INFO - Chain [1] done processing\n"
     ]
    },
    {
     "name": "stdout",
     "output_type": "stream",
     "text": [
      "Params: (0.01, 0.01, 'multiplicative', 25, 0.85, 12) | MAE: 6029.04, MAPE: 38.66%\n"
     ]
    },
    {
     "name": "stderr",
     "output_type": "stream",
     "text": [
      "02:30:43 - cmdstanpy - INFO - Chain [1] start processing\n",
      "02:30:43 - cmdstanpy - INFO - Chain [1] done processing\n"
     ]
    },
    {
     "name": "stdout",
     "output_type": "stream",
     "text": [
      "Params: (0.01, 0.01, 'multiplicative', 25, 0.9, 8) | MAE: 6067.46, MAPE: 38.89%\n"
     ]
    },
    {
     "name": "stderr",
     "output_type": "stream",
     "text": [
      "02:30:43 - cmdstanpy - INFO - Chain [1] start processing\n",
      "02:30:43 - cmdstanpy - INFO - Chain [1] done processing\n"
     ]
    },
    {
     "name": "stdout",
     "output_type": "stream",
     "text": [
      "Params: (0.01, 0.01, 'multiplicative', 25, 0.9, 12) | MAE: 6246.29, MAPE: 40.04%\n"
     ]
    },
    {
     "name": "stderr",
     "output_type": "stream",
     "text": [
      "02:30:43 - cmdstanpy - INFO - Chain [1] start processing\n"
     ]
    },
    {
     "name": "stdout",
     "output_type": "stream",
     "text": [
      "Params: (0.01, 0.01, 'multiplicative', 30, 0.85, 8) | MAE: 5670.50, MAPE: 36.34%\n"
     ]
    },
    {
     "name": "stderr",
     "output_type": "stream",
     "text": [
      "02:30:43 - cmdstanpy - INFO - Chain [1] done processing\n",
      "02:30:43 - cmdstanpy - INFO - Chain [1] start processing\n",
      "02:30:43 - cmdstanpy - INFO - Chain [1] done processing\n"
     ]
    },
    {
     "name": "stdout",
     "output_type": "stream",
     "text": [
      "Params: (0.01, 0.01, 'multiplicative', 30, 0.85, 12) | MAE: 5567.85, MAPE: 35.68%\n"
     ]
    },
    {
     "name": "stderr",
     "output_type": "stream",
     "text": [
      "02:30:44 - cmdstanpy - INFO - Chain [1] start processing\n",
      "02:30:44 - cmdstanpy - INFO - Chain [1] done processing\n"
     ]
    },
    {
     "name": "stdout",
     "output_type": "stream",
     "text": [
      "Params: (0.01, 0.01, 'multiplicative', 30, 0.9, 8) | MAE: 5714.03, MAPE: 36.61%\n"
     ]
    },
    {
     "name": "stderr",
     "output_type": "stream",
     "text": [
      "02:30:44 - cmdstanpy - INFO - Chain [1] start processing\n",
      "02:30:44 - cmdstanpy - INFO - Chain [1] done processing\n"
     ]
    },
    {
     "name": "stdout",
     "output_type": "stream",
     "text": [
      "Params: (0.01, 0.01, 'multiplicative', 30, 0.9, 12) | MAE: 5871.79, MAPE: 37.62%\n"
     ]
    },
    {
     "name": "stderr",
     "output_type": "stream",
     "text": [
      "02:30:44 - cmdstanpy - INFO - Chain [1] start processing\n",
      "02:30:44 - cmdstanpy - INFO - Chain [1] done processing\n"
     ]
    },
    {
     "name": "stdout",
     "output_type": "stream",
     "text": [
      "Params: (0.01, 0.01, 'multiplicative', 35, 0.85, 8) | MAE: 6052.72, MAPE: 38.82%\n"
     ]
    },
    {
     "name": "stderr",
     "output_type": "stream",
     "text": [
      "02:30:44 - cmdstanpy - INFO - Chain [1] start processing\n",
      "02:30:44 - cmdstanpy - INFO - Chain [1] done processing\n"
     ]
    },
    {
     "name": "stdout",
     "output_type": "stream",
     "text": [
      "Params: (0.01, 0.01, 'multiplicative', 35, 0.85, 12) | MAE: 5910.38, MAPE: 37.88%\n"
     ]
    },
    {
     "name": "stderr",
     "output_type": "stream",
     "text": [
      "02:30:45 - cmdstanpy - INFO - Chain [1] start processing\n",
      "02:30:45 - cmdstanpy - INFO - Chain [1] done processing\n"
     ]
    },
    {
     "name": "stdout",
     "output_type": "stream",
     "text": [
      "Params: (0.01, 0.01, 'multiplicative', 35, 0.9, 8) | MAE: 6090.67, MAPE: 39.04%\n"
     ]
    },
    {
     "name": "stderr",
     "output_type": "stream",
     "text": [
      "02:30:45 - cmdstanpy - INFO - Chain [1] start processing\n",
      "02:30:45 - cmdstanpy - INFO - Chain [1] done processing\n"
     ]
    },
    {
     "name": "stdout",
     "output_type": "stream",
     "text": [
      "Params: (0.01, 0.01, 'multiplicative', 35, 0.9, 12) | MAE: 5818.22, MAPE: 37.28%\n"
     ]
    },
    {
     "name": "stderr",
     "output_type": "stream",
     "text": [
      "02:30:45 - cmdstanpy - INFO - Chain [1] start processing\n",
      "02:30:45 - cmdstanpy - INFO - Chain [1] done processing\n"
     ]
    },
    {
     "name": "stdout",
     "output_type": "stream",
     "text": [
      "Params: (0.01, 0.1, 'additive', 25, 0.85, 8) | MAE: 7613.11, MAPE: 48.68%\n"
     ]
    },
    {
     "name": "stderr",
     "output_type": "stream",
     "text": [
      "02:30:45 - cmdstanpy - INFO - Chain [1] start processing\n",
      "02:30:45 - cmdstanpy - INFO - Chain [1] done processing\n"
     ]
    },
    {
     "name": "stdout",
     "output_type": "stream",
     "text": [
      "Params: (0.01, 0.1, 'additive', 25, 0.85, 12) | MAE: 7441.09, MAPE: 47.56%\n"
     ]
    },
    {
     "name": "stderr",
     "output_type": "stream",
     "text": [
      "02:30:46 - cmdstanpy - INFO - Chain [1] start processing\n",
      "02:30:46 - cmdstanpy - INFO - Chain [1] done processing\n"
     ]
    },
    {
     "name": "stdout",
     "output_type": "stream",
     "text": [
      "Params: (0.01, 0.1, 'additive', 25, 0.9, 8) | MAE: 7759.32, MAPE: 49.62%\n"
     ]
    },
    {
     "name": "stderr",
     "output_type": "stream",
     "text": [
      "02:30:46 - cmdstanpy - INFO - Chain [1] start processing\n",
      "02:30:46 - cmdstanpy - INFO - Chain [1] done processing\n"
     ]
    },
    {
     "name": "stdout",
     "output_type": "stream",
     "text": [
      "Params: (0.01, 0.1, 'additive', 25, 0.9, 12) | MAE: 7334.13, MAPE: 46.85%\n"
     ]
    },
    {
     "name": "stderr",
     "output_type": "stream",
     "text": [
      "02:30:46 - cmdstanpy - INFO - Chain [1] start processing\n",
      "02:30:46 - cmdstanpy - INFO - Chain [1] done processing\n"
     ]
    },
    {
     "name": "stdout",
     "output_type": "stream",
     "text": [
      "Params: (0.01, 0.1, 'additive', 30, 0.85, 8) | MAE: 7629.52, MAPE: 48.78%\n"
     ]
    },
    {
     "name": "stderr",
     "output_type": "stream",
     "text": [
      "02:30:46 - cmdstanpy - INFO - Chain [1] start processing\n",
      "02:30:47 - cmdstanpy - INFO - Chain [1] done processing\n"
     ]
    },
    {
     "name": "stdout",
     "output_type": "stream",
     "text": [
      "Params: (0.01, 0.1, 'additive', 30, 0.85, 12) | MAE: 7430.03, MAPE: 47.48%\n"
     ]
    },
    {
     "name": "stderr",
     "output_type": "stream",
     "text": [
      "02:30:47 - cmdstanpy - INFO - Chain [1] start processing\n",
      "02:30:47 - cmdstanpy - INFO - Chain [1] done processing\n"
     ]
    },
    {
     "name": "stdout",
     "output_type": "stream",
     "text": [
      "Params: (0.01, 0.1, 'additive', 30, 0.9, 8) | MAE: 7532.97, MAPE: 48.16%\n"
     ]
    },
    {
     "name": "stderr",
     "output_type": "stream",
     "text": [
      "02:30:47 - cmdstanpy - INFO - Chain [1] start processing\n",
      "02:30:47 - cmdstanpy - INFO - Chain [1] done processing\n"
     ]
    },
    {
     "name": "stdout",
     "output_type": "stream",
     "text": [
      "Params: (0.01, 0.1, 'additive', 30, 0.9, 12) | MAE: 7452.38, MAPE: 47.63%\n"
     ]
    },
    {
     "name": "stderr",
     "output_type": "stream",
     "text": [
      "02:30:47 - cmdstanpy - INFO - Chain [1] start processing\n",
      "02:30:47 - cmdstanpy - INFO - Chain [1] done processing\n"
     ]
    },
    {
     "name": "stdout",
     "output_type": "stream",
     "text": [
      "Params: (0.01, 0.1, 'additive', 35, 0.85, 8) | MAE: 7550.06, MAPE: 48.27%\n"
     ]
    },
    {
     "name": "stderr",
     "output_type": "stream",
     "text": [
      "02:30:47 - cmdstanpy - INFO - Chain [1] start processing\n",
      "02:30:48 - cmdstanpy - INFO - Chain [1] done processing\n"
     ]
    },
    {
     "name": "stdout",
     "output_type": "stream",
     "text": [
      "Params: (0.01, 0.1, 'additive', 35, 0.85, 12) | MAE: 7506.55, MAPE: 48.00%\n"
     ]
    },
    {
     "name": "stderr",
     "output_type": "stream",
     "text": [
      "02:30:48 - cmdstanpy - INFO - Chain [1] start processing\n",
      "02:30:48 - cmdstanpy - INFO - Chain [1] done processing\n"
     ]
    },
    {
     "name": "stdout",
     "output_type": "stream",
     "text": [
      "Params: (0.01, 0.1, 'additive', 35, 0.9, 8) | MAE: 7810.63, MAPE: 49.97%\n"
     ]
    },
    {
     "name": "stderr",
     "output_type": "stream",
     "text": [
      "02:30:48 - cmdstanpy - INFO - Chain [1] start processing\n",
      "02:30:48 - cmdstanpy - INFO - Chain [1] done processing\n"
     ]
    },
    {
     "name": "stdout",
     "output_type": "stream",
     "text": [
      "Params: (0.01, 0.1, 'additive', 35, 0.9, 12) | MAE: 7084.35, MAPE: 45.23%\n"
     ]
    },
    {
     "name": "stderr",
     "output_type": "stream",
     "text": [
      "02:30:48 - cmdstanpy - INFO - Chain [1] start processing\n",
      "02:30:48 - cmdstanpy - INFO - Chain [1] done processing\n"
     ]
    },
    {
     "name": "stdout",
     "output_type": "stream",
     "text": [
      "Params: (0.01, 0.1, 'multiplicative', 25, 0.85, 8) | MAE: 6781.49, MAPE: 43.45%\n"
     ]
    },
    {
     "name": "stderr",
     "output_type": "stream",
     "text": [
      "02:30:48 - cmdstanpy - INFO - Chain [1] start processing\n",
      "02:30:49 - cmdstanpy - INFO - Chain [1] done processing\n"
     ]
    },
    {
     "name": "stdout",
     "output_type": "stream",
     "text": [
      "Params: (0.01, 0.1, 'multiplicative', 25, 0.85, 12) | MAE: 6772.56, MAPE: 43.38%\n"
     ]
    },
    {
     "name": "stderr",
     "output_type": "stream",
     "text": [
      "02:30:49 - cmdstanpy - INFO - Chain [1] start processing\n"
     ]
    },
    {
     "name": "stdout",
     "output_type": "stream",
     "text": [
      "Params: (0.01, 0.1, 'multiplicative', 25, 0.9, 8) | MAE: 7063.87, MAPE: 45.27%\n"
     ]
    },
    {
     "name": "stderr",
     "output_type": "stream",
     "text": [
      "02:30:49 - cmdstanpy - INFO - Chain [1] done processing\n",
      "02:30:49 - cmdstanpy - INFO - Chain [1] start processing\n",
      "02:30:49 - cmdstanpy - INFO - Chain [1] done processing\n"
     ]
    },
    {
     "name": "stdout",
     "output_type": "stream",
     "text": [
      "Params: (0.01, 0.1, 'multiplicative', 25, 0.9, 12) | MAE: 6581.82, MAPE: 42.14%\n"
     ]
    },
    {
     "name": "stderr",
     "output_type": "stream",
     "text": [
      "02:30:49 - cmdstanpy - INFO - Chain [1] start processing\n",
      "02:30:49 - cmdstanpy - INFO - Chain [1] done processing\n"
     ]
    },
    {
     "name": "stdout",
     "output_type": "stream",
     "text": [
      "Params: (0.01, 0.1, 'multiplicative', 30, 0.85, 8) | MAE: 6958.04, MAPE: 44.60%\n"
     ]
    },
    {
     "name": "stderr",
     "output_type": "stream",
     "text": [
      "02:30:50 - cmdstanpy - INFO - Chain [1] start processing\n",
      "02:30:50 - cmdstanpy - INFO - Chain [1] done processing\n"
     ]
    },
    {
     "name": "stdout",
     "output_type": "stream",
     "text": [
      "Params: (0.01, 0.1, 'multiplicative', 30, 0.85, 12) | MAE: 6466.04, MAPE: 41.41%\n"
     ]
    },
    {
     "name": "stderr",
     "output_type": "stream",
     "text": [
      "02:30:50 - cmdstanpy - INFO - Chain [1] start processing\n",
      "02:30:50 - cmdstanpy - INFO - Chain [1] done processing\n"
     ]
    },
    {
     "name": "stdout",
     "output_type": "stream",
     "text": [
      "Params: (0.01, 0.1, 'multiplicative', 30, 0.9, 8) | MAE: 6839.21, MAPE: 43.82%\n"
     ]
    },
    {
     "name": "stderr",
     "output_type": "stream",
     "text": [
      "02:30:50 - cmdstanpy - INFO - Chain [1] start processing\n",
      "02:30:50 - cmdstanpy - INFO - Chain [1] done processing\n"
     ]
    },
    {
     "name": "stdout",
     "output_type": "stream",
     "text": [
      "Params: (0.01, 0.1, 'multiplicative', 30, 0.9, 12) | MAE: 6616.31, MAPE: 42.39%\n"
     ]
    },
    {
     "name": "stderr",
     "output_type": "stream",
     "text": [
      "02:30:50 - cmdstanpy - INFO - Chain [1] start processing\n",
      "02:30:50 - cmdstanpy - INFO - Chain [1] done processing\n"
     ]
    },
    {
     "name": "stdout",
     "output_type": "stream",
     "text": [
      "Params: (0.01, 0.1, 'multiplicative', 35, 0.85, 8) | MAE: 6832.91, MAPE: 43.79%\n"
     ]
    },
    {
     "name": "stderr",
     "output_type": "stream",
     "text": [
      "02:30:51 - cmdstanpy - INFO - Chain [1] start processing\n",
      "02:30:51 - cmdstanpy - INFO - Chain [1] done processing\n"
     ]
    },
    {
     "name": "stdout",
     "output_type": "stream",
     "text": [
      "Params: (0.01, 0.1, 'multiplicative', 35, 0.85, 12) | MAE: 6595.60, MAPE: 42.24%\n"
     ]
    },
    {
     "name": "stderr",
     "output_type": "stream",
     "text": [
      "02:30:51 - cmdstanpy - INFO - Chain [1] start processing\n",
      "02:30:51 - cmdstanpy - INFO - Chain [1] done processing\n"
     ]
    },
    {
     "name": "stdout",
     "output_type": "stream",
     "text": [
      "Params: (0.01, 0.1, 'multiplicative', 35, 0.9, 8) | MAE: 6830.49, MAPE: 43.77%\n"
     ]
    },
    {
     "name": "stderr",
     "output_type": "stream",
     "text": [
      "02:30:51 - cmdstanpy - INFO - Chain [1] start processing\n",
      "02:30:51 - cmdstanpy - INFO - Chain [1] done processing\n"
     ]
    },
    {
     "name": "stdout",
     "output_type": "stream",
     "text": [
      "Params: (0.01, 0.1, 'multiplicative', 35, 0.9, 12) | MAE: 6417.88, MAPE: 41.10%\n"
     ]
    },
    {
     "name": "stderr",
     "output_type": "stream",
     "text": [
      "02:30:51 - cmdstanpy - INFO - Chain [1] start processing\n",
      "02:30:51 - cmdstanpy - INFO - Chain [1] done processing\n"
     ]
    },
    {
     "name": "stdout",
     "output_type": "stream",
     "text": [
      "Params: (0.01, 1.0, 'additive', 25, 0.85, 8) | MAE: 7839.68, MAPE: 50.16%\n"
     ]
    },
    {
     "name": "stderr",
     "output_type": "stream",
     "text": [
      "02:30:51 - cmdstanpy - INFO - Chain [1] start processing\n",
      "02:30:52 - cmdstanpy - INFO - Chain [1] done processing\n"
     ]
    },
    {
     "name": "stdout",
     "output_type": "stream",
     "text": [
      "Params: (0.01, 1.0, 'additive', 25, 0.85, 12) | MAE: 7549.45, MAPE: 48.28%\n"
     ]
    },
    {
     "name": "stderr",
     "output_type": "stream",
     "text": [
      "02:30:52 - cmdstanpy - INFO - Chain [1] start processing\n",
      "02:30:52 - cmdstanpy - INFO - Chain [1] done processing\n"
     ]
    },
    {
     "name": "stdout",
     "output_type": "stream",
     "text": [
      "Params: (0.01, 1.0, 'additive', 25, 0.9, 8) | MAE: 7854.31, MAPE: 50.23%\n"
     ]
    },
    {
     "name": "stderr",
     "output_type": "stream",
     "text": [
      "02:30:52 - cmdstanpy - INFO - Chain [1] start processing\n",
      "02:30:52 - cmdstanpy - INFO - Chain [1] done processing\n"
     ]
    },
    {
     "name": "stdout",
     "output_type": "stream",
     "text": [
      "Params: (0.01, 1.0, 'additive', 25, 0.9, 12) | MAE: 7508.66, MAPE: 48.00%\n"
     ]
    },
    {
     "name": "stderr",
     "output_type": "stream",
     "text": [
      "02:30:52 - cmdstanpy - INFO - Chain [1] start processing\n",
      "02:30:52 - cmdstanpy - INFO - Chain [1] done processing\n"
     ]
    },
    {
     "name": "stdout",
     "output_type": "stream",
     "text": [
      "Params: (0.01, 1.0, 'additive', 30, 0.85, 8) | MAE: 7599.60, MAPE: 48.58%\n"
     ]
    },
    {
     "name": "stderr",
     "output_type": "stream",
     "text": [
      "02:30:53 - cmdstanpy - INFO - Chain [1] start processing\n",
      "02:30:53 - cmdstanpy - INFO - Chain [1] done processing\n"
     ]
    },
    {
     "name": "stdout",
     "output_type": "stream",
     "text": [
      "Params: (0.01, 1.0, 'additive', 30, 0.85, 12) | MAE: 7370.09, MAPE: 47.10%\n"
     ]
    },
    {
     "name": "stderr",
     "output_type": "stream",
     "text": [
      "02:30:53 - cmdstanpy - INFO - Chain [1] start processing\n",
      "02:30:53 - cmdstanpy - INFO - Chain [1] done processing\n"
     ]
    },
    {
     "name": "stdout",
     "output_type": "stream",
     "text": [
      "Params: (0.01, 1.0, 'additive', 30, 0.9, 8) | MAE: 7555.78, MAPE: 48.30%\n"
     ]
    },
    {
     "name": "stderr",
     "output_type": "stream",
     "text": [
      "02:30:53 - cmdstanpy - INFO - Chain [1] start processing\n",
      "02:30:53 - cmdstanpy - INFO - Chain [1] done processing\n"
     ]
    },
    {
     "name": "stdout",
     "output_type": "stream",
     "text": [
      "Params: (0.01, 1.0, 'additive', 30, 0.9, 12) | MAE: 7450.17, MAPE: 47.62%\n"
     ]
    },
    {
     "name": "stderr",
     "output_type": "stream",
     "text": [
      "02:30:53 - cmdstanpy - INFO - Chain [1] start processing\n",
      "02:30:53 - cmdstanpy - INFO - Chain [1] done processing\n"
     ]
    },
    {
     "name": "stdout",
     "output_type": "stream",
     "text": [
      "Params: (0.01, 1.0, 'additive', 35, 0.85, 8) | MAE: 7557.70, MAPE: 48.33%\n"
     ]
    },
    {
     "name": "stderr",
     "output_type": "stream",
     "text": [
      "02:30:54 - cmdstanpy - INFO - Chain [1] start processing\n",
      "02:30:54 - cmdstanpy - INFO - Chain [1] done processing\n"
     ]
    },
    {
     "name": "stdout",
     "output_type": "stream",
     "text": [
      "Params: (0.01, 1.0, 'additive', 35, 0.85, 12) | MAE: 7473.11, MAPE: 47.78%\n"
     ]
    },
    {
     "name": "stderr",
     "output_type": "stream",
     "text": [
      "02:30:54 - cmdstanpy - INFO - Chain [1] start processing\n",
      "02:30:54 - cmdstanpy - INFO - Chain [1] done processing\n"
     ]
    },
    {
     "name": "stdout",
     "output_type": "stream",
     "text": [
      "Params: (0.01, 1.0, 'additive', 35, 0.9, 8) | MAE: 7256.68, MAPE: 46.36%\n"
     ]
    },
    {
     "name": "stderr",
     "output_type": "stream",
     "text": [
      "02:30:54 - cmdstanpy - INFO - Chain [1] start processing\n",
      "02:30:54 - cmdstanpy - INFO - Chain [1] done processing\n"
     ]
    },
    {
     "name": "stdout",
     "output_type": "stream",
     "text": [
      "Params: (0.01, 1.0, 'additive', 35, 0.9, 12) | MAE: 7097.29, MAPE: 45.31%\n"
     ]
    },
    {
     "name": "stderr",
     "output_type": "stream",
     "text": [
      "02:30:54 - cmdstanpy - INFO - Chain [1] start processing\n",
      "02:30:54 - cmdstanpy - INFO - Chain [1] done processing\n"
     ]
    },
    {
     "name": "stdout",
     "output_type": "stream",
     "text": [
      "Params: (0.01, 1.0, 'multiplicative', 25, 0.85, 8) | MAE: 6776.91, MAPE: 43.42%\n"
     ]
    },
    {
     "name": "stderr",
     "output_type": "stream",
     "text": [
      "02:30:55 - cmdstanpy - INFO - Chain [1] start processing\n"
     ]
    },
    {
     "name": "stdout",
     "output_type": "stream",
     "text": [
      "Params: (0.01, 1.0, 'multiplicative', 25, 0.85, 12) | MAE: 6506.28, MAPE: 41.67%\n"
     ]
    },
    {
     "name": "stderr",
     "output_type": "stream",
     "text": [
      "02:30:55 - cmdstanpy - INFO - Chain [1] done processing\n",
      "02:30:55 - cmdstanpy - INFO - Chain [1] start processing\n",
      "02:30:55 - cmdstanpy - INFO - Chain [1] done processing\n"
     ]
    },
    {
     "name": "stdout",
     "output_type": "stream",
     "text": [
      "Params: (0.01, 1.0, 'multiplicative', 25, 0.9, 8) | MAE: 6687.97, MAPE: 42.85%\n"
     ]
    },
    {
     "name": "stderr",
     "output_type": "stream",
     "text": [
      "02:30:55 - cmdstanpy - INFO - Chain [1] start processing\n",
      "02:30:55 - cmdstanpy - INFO - Chain [1] done processing\n"
     ]
    },
    {
     "name": "stdout",
     "output_type": "stream",
     "text": [
      "Params: (0.01, 1.0, 'multiplicative', 25, 0.9, 12) | MAE: 6543.99, MAPE: 41.90%\n"
     ]
    },
    {
     "name": "stderr",
     "output_type": "stream",
     "text": [
      "02:30:55 - cmdstanpy - INFO - Chain [1] start processing\n",
      "02:30:55 - cmdstanpy - INFO - Chain [1] done processing\n"
     ]
    },
    {
     "name": "stdout",
     "output_type": "stream",
     "text": [
      "Params: (0.01, 1.0, 'multiplicative', 30, 0.85, 8) | MAE: 6937.92, MAPE: 44.45%\n"
     ]
    },
    {
     "name": "stderr",
     "output_type": "stream",
     "text": [
      "02:30:56 - cmdstanpy - INFO - Chain [1] start processing\n",
      "02:30:56 - cmdstanpy - INFO - Chain [1] done processing\n"
     ]
    },
    {
     "name": "stdout",
     "output_type": "stream",
     "text": [
      "Params: (0.01, 1.0, 'multiplicative', 30, 0.85, 12) | MAE: 6720.99, MAPE: 43.06%\n"
     ]
    },
    {
     "name": "stderr",
     "output_type": "stream",
     "text": [
      "02:30:56 - cmdstanpy - INFO - Chain [1] start processing\n",
      "02:30:56 - cmdstanpy - INFO - Chain [1] done processing\n"
     ]
    },
    {
     "name": "stdout",
     "output_type": "stream",
     "text": [
      "Params: (0.01, 1.0, 'multiplicative', 30, 0.9, 8) | MAE: 6747.76, MAPE: 43.23%\n"
     ]
    },
    {
     "name": "stderr",
     "output_type": "stream",
     "text": [
      "02:30:56 - cmdstanpy - INFO - Chain [1] start processing\n",
      "02:30:56 - cmdstanpy - INFO - Chain [1] done processing\n"
     ]
    },
    {
     "name": "stdout",
     "output_type": "stream",
     "text": [
      "Params: (0.01, 1.0, 'multiplicative', 30, 0.9, 12) | MAE: 6694.44, MAPE: 42.88%\n"
     ]
    },
    {
     "name": "stderr",
     "output_type": "stream",
     "text": [
      "02:30:56 - cmdstanpy - INFO - Chain [1] start processing\n",
      "02:30:57 - cmdstanpy - INFO - Chain [1] done processing\n"
     ]
    },
    {
     "name": "stdout",
     "output_type": "stream",
     "text": [
      "Params: (0.01, 1.0, 'multiplicative', 35, 0.85, 8) | MAE: 6778.57, MAPE: 43.43%\n"
     ]
    },
    {
     "name": "stderr",
     "output_type": "stream",
     "text": [
      "02:30:57 - cmdstanpy - INFO - Chain [1] start processing\n",
      "02:30:57 - cmdstanpy - INFO - Chain [1] done processing\n"
     ]
    },
    {
     "name": "stdout",
     "output_type": "stream",
     "text": [
      "Params: (0.01, 1.0, 'multiplicative', 35, 0.85, 12) | MAE: 6790.82, MAPE: 43.50%\n"
     ]
    },
    {
     "name": "stderr",
     "output_type": "stream",
     "text": [
      "02:30:57 - cmdstanpy - INFO - Chain [1] start processing\n"
     ]
    },
    {
     "name": "stdout",
     "output_type": "stream",
     "text": [
      "Params: (0.01, 1.0, 'multiplicative', 35, 0.9, 8) | MAE: 6693.86, MAPE: 42.88%\n"
     ]
    },
    {
     "name": "stderr",
     "output_type": "stream",
     "text": [
      "02:30:57 - cmdstanpy - INFO - Chain [1] done processing\n",
      "02:30:57 - cmdstanpy - INFO - Chain [1] start processing\n"
     ]
    },
    {
     "name": "stdout",
     "output_type": "stream",
     "text": [
      "Params: (0.01, 1.0, 'multiplicative', 35, 0.9, 12) | MAE: 6626.45, MAPE: 42.44%\n"
     ]
    },
    {
     "name": "stderr",
     "output_type": "stream",
     "text": [
      "02:30:57 - cmdstanpy - INFO - Chain [1] done processing\n",
      "02:30:58 - cmdstanpy - INFO - Chain [1] start processing\n"
     ]
    },
    {
     "name": "stdout",
     "output_type": "stream",
     "text": [
      "Params: (0.01, 10.0, 'additive', 25, 0.85, 8) | MAE: 7572.44, MAPE: 48.41%\n"
     ]
    },
    {
     "name": "stderr",
     "output_type": "stream",
     "text": [
      "02:30:58 - cmdstanpy - INFO - Chain [1] done processing\n",
      "02:30:58 - cmdstanpy - INFO - Chain [1] start processing\n",
      "02:30:58 - cmdstanpy - INFO - Chain [1] done processing\n"
     ]
    },
    {
     "name": "stdout",
     "output_type": "stream",
     "text": [
      "Params: (0.01, 10.0, 'additive', 25, 0.85, 12) | MAE: 7512.15, MAPE: 48.01%\n"
     ]
    },
    {
     "name": "stderr",
     "output_type": "stream",
     "text": [
      "02:30:58 - cmdstanpy - INFO - Chain [1] start processing\n"
     ]
    },
    {
     "name": "stdout",
     "output_type": "stream",
     "text": [
      "Params: (0.01, 10.0, 'additive', 25, 0.9, 8) | MAE: 7563.36, MAPE: 48.35%\n"
     ]
    },
    {
     "name": "stderr",
     "output_type": "stream",
     "text": [
      "02:30:58 - cmdstanpy - INFO - Chain [1] done processing\n",
      "02:30:59 - cmdstanpy - INFO - Chain [1] start processing\n"
     ]
    },
    {
     "name": "stdout",
     "output_type": "stream",
     "text": [
      "Params: (0.01, 10.0, 'additive', 25, 0.9, 12) | MAE: 6976.87, MAPE: 44.55%\n"
     ]
    },
    {
     "name": "stderr",
     "output_type": "stream",
     "text": [
      "02:30:59 - cmdstanpy - INFO - Chain [1] done processing\n",
      "02:30:59 - cmdstanpy - INFO - Chain [1] start processing\n"
     ]
    },
    {
     "name": "stdout",
     "output_type": "stream",
     "text": [
      "Params: (0.01, 10.0, 'additive', 30, 0.85, 8) | MAE: 7577.98, MAPE: 48.45%\n"
     ]
    },
    {
     "name": "stderr",
     "output_type": "stream",
     "text": [
      "02:30:59 - cmdstanpy - INFO - Chain [1] done processing\n",
      "02:30:59 - cmdstanpy - INFO - Chain [1] start processing\n",
      "02:30:59 - cmdstanpy - INFO - Chain [1] done processing\n"
     ]
    },
    {
     "name": "stdout",
     "output_type": "stream",
     "text": [
      "Params: (0.01, 10.0, 'additive', 30, 0.85, 12) | MAE: 7408.41, MAPE: 47.35%\n"
     ]
    },
    {
     "name": "stderr",
     "output_type": "stream",
     "text": [
      "02:31:00 - cmdstanpy - INFO - Chain [1] start processing\n",
      "02:31:00 - cmdstanpy - INFO - Chain [1] done processing\n"
     ]
    },
    {
     "name": "stdout",
     "output_type": "stream",
     "text": [
      "Params: (0.01, 10.0, 'additive', 30, 0.9, 8) | MAE: 7666.57, MAPE: 49.03%\n"
     ]
    },
    {
     "name": "stderr",
     "output_type": "stream",
     "text": [
      "02:31:00 - cmdstanpy - INFO - Chain [1] start processing\n",
      "02:31:00 - cmdstanpy - INFO - Chain [1] done processing\n"
     ]
    },
    {
     "name": "stdout",
     "output_type": "stream",
     "text": [
      "Params: (0.01, 10.0, 'additive', 30, 0.9, 12) | MAE: 7314.25, MAPE: 46.74%\n"
     ]
    },
    {
     "name": "stderr",
     "output_type": "stream",
     "text": [
      "02:31:00 - cmdstanpy - INFO - Chain [1] start processing\n",
      "02:31:00 - cmdstanpy - INFO - Chain [1] done processing\n"
     ]
    },
    {
     "name": "stdout",
     "output_type": "stream",
     "text": [
      "Params: (0.01, 10.0, 'additive', 35, 0.85, 8) | MAE: 7584.53, MAPE: 48.50%\n"
     ]
    },
    {
     "name": "stderr",
     "output_type": "stream",
     "text": [
      "02:31:00 - cmdstanpy - INFO - Chain [1] start processing\n",
      "02:31:00 - cmdstanpy - INFO - Chain [1] done processing\n"
     ]
    },
    {
     "name": "stdout",
     "output_type": "stream",
     "text": [
      "Params: (0.01, 10.0, 'additive', 35, 0.85, 12) | MAE: 7533.59, MAPE: 48.17%\n"
     ]
    },
    {
     "name": "stderr",
     "output_type": "stream",
     "text": [
      "02:31:01 - cmdstanpy - INFO - Chain [1] start processing\n"
     ]
    },
    {
     "name": "stdout",
     "output_type": "stream",
     "text": [
      "Params: (0.01, 10.0, 'additive', 35, 0.9, 8) | MAE: 7613.20, MAPE: 48.68%\n"
     ]
    },
    {
     "name": "stderr",
     "output_type": "stream",
     "text": [
      "02:31:01 - cmdstanpy - INFO - Chain [1] done processing\n",
      "02:31:01 - cmdstanpy - INFO - Chain [1] start processing\n",
      "02:31:01 - cmdstanpy - INFO - Chain [1] done processing\n"
     ]
    },
    {
     "name": "stdout",
     "output_type": "stream",
     "text": [
      "Params: (0.01, 10.0, 'additive', 35, 0.9, 12) | MAE: 7044.19, MAPE: 44.97%\n"
     ]
    },
    {
     "name": "stderr",
     "output_type": "stream",
     "text": [
      "02:31:01 - cmdstanpy - INFO - Chain [1] start processing\n",
      "02:31:01 - cmdstanpy - INFO - Chain [1] done processing\n"
     ]
    },
    {
     "name": "stdout",
     "output_type": "stream",
     "text": [
      "Params: (0.01, 10.0, 'multiplicative', 25, 0.85, 8) | MAE: 6681.00, MAPE: 42.80%\n"
     ]
    },
    {
     "name": "stderr",
     "output_type": "stream",
     "text": [
      "02:31:02 - cmdstanpy - INFO - Chain [1] start processing\n",
      "02:31:02 - cmdstanpy - INFO - Chain [1] done processing\n"
     ]
    },
    {
     "name": "stdout",
     "output_type": "stream",
     "text": [
      "Params: (0.01, 10.0, 'multiplicative', 25, 0.85, 12) | MAE: 6773.82, MAPE: 43.39%\n"
     ]
    },
    {
     "name": "stderr",
     "output_type": "stream",
     "text": [
      "02:31:02 - cmdstanpy - INFO - Chain [1] start processing\n",
      "02:31:02 - cmdstanpy - INFO - Chain [1] done processing\n"
     ]
    },
    {
     "name": "stdout",
     "output_type": "stream",
     "text": [
      "Params: (0.01, 10.0, 'multiplicative', 25, 0.9, 8) | MAE: 6895.28, MAPE: 44.18%\n"
     ]
    },
    {
     "name": "stderr",
     "output_type": "stream",
     "text": [
      "02:31:02 - cmdstanpy - INFO - Chain [1] start processing\n"
     ]
    },
    {
     "name": "stdout",
     "output_type": "stream",
     "text": [
      "Params: (0.01, 10.0, 'multiplicative', 25, 0.9, 12) | MAE: 6824.06, MAPE: 43.70%\n"
     ]
    },
    {
     "name": "stderr",
     "output_type": "stream",
     "text": [
      "02:31:02 - cmdstanpy - INFO - Chain [1] done processing\n",
      "02:31:02 - cmdstanpy - INFO - Chain [1] start processing\n",
      "02:31:02 - cmdstanpy - INFO - Chain [1] done processing\n"
     ]
    },
    {
     "name": "stdout",
     "output_type": "stream",
     "text": [
      "Params: (0.01, 10.0, 'multiplicative', 30, 0.85, 8) | MAE: 7003.69, MAPE: 44.88%\n"
     ]
    },
    {
     "name": "stderr",
     "output_type": "stream",
     "text": [
      "02:31:03 - cmdstanpy - INFO - Chain [1] start processing\n",
      "02:31:03 - cmdstanpy - INFO - Chain [1] done processing\n"
     ]
    },
    {
     "name": "stdout",
     "output_type": "stream",
     "text": [
      "Params: (0.01, 10.0, 'multiplicative', 30, 0.85, 12) | MAE: 6720.46, MAPE: 43.06%\n"
     ]
    },
    {
     "name": "stderr",
     "output_type": "stream",
     "text": [
      "02:31:03 - cmdstanpy - INFO - Chain [1] start processing\n",
      "02:31:03 - cmdstanpy - INFO - Chain [1] done processing\n"
     ]
    },
    {
     "name": "stdout",
     "output_type": "stream",
     "text": [
      "Params: (0.01, 10.0, 'multiplicative', 30, 0.9, 8) | MAE: 6785.24, MAPE: 43.47%\n"
     ]
    },
    {
     "name": "stderr",
     "output_type": "stream",
     "text": [
      "02:31:03 - cmdstanpy - INFO - Chain [1] start processing\n",
      "02:31:03 - cmdstanpy - INFO - Chain [1] done processing\n"
     ]
    },
    {
     "name": "stdout",
     "output_type": "stream",
     "text": [
      "Params: (0.01, 10.0, 'multiplicative', 30, 0.9, 12) | MAE: 6799.46, MAPE: 43.56%\n"
     ]
    },
    {
     "name": "stderr",
     "output_type": "stream",
     "text": [
      "02:31:03 - cmdstanpy - INFO - Chain [1] start processing\n",
      "02:31:04 - cmdstanpy - INFO - Chain [1] done processing\n"
     ]
    },
    {
     "name": "stdout",
     "output_type": "stream",
     "text": [
      "Params: (0.01, 10.0, 'multiplicative', 35, 0.85, 8) | MAE: 6763.23, MAPE: 43.34%\n"
     ]
    },
    {
     "name": "stderr",
     "output_type": "stream",
     "text": [
      "02:31:04 - cmdstanpy - INFO - Chain [1] start processing\n",
      "02:31:04 - cmdstanpy - INFO - Chain [1] done processing\n"
     ]
    },
    {
     "name": "stdout",
     "output_type": "stream",
     "text": [
      "Params: (0.01, 10.0, 'multiplicative', 35, 0.85, 12) | MAE: 6697.39, MAPE: 42.91%\n"
     ]
    },
    {
     "name": "stderr",
     "output_type": "stream",
     "text": [
      "02:31:04 - cmdstanpy - INFO - Chain [1] start processing\n"
     ]
    },
    {
     "name": "stdout",
     "output_type": "stream",
     "text": [
      "Params: (0.01, 10.0, 'multiplicative', 35, 0.9, 8) | MAE: 6687.91, MAPE: 42.84%\n"
     ]
    },
    {
     "name": "stderr",
     "output_type": "stream",
     "text": [
      "02:31:04 - cmdstanpy - INFO - Chain [1] done processing\n",
      "02:31:04 - cmdstanpy - INFO - Chain [1] start processing\n"
     ]
    },
    {
     "name": "stdout",
     "output_type": "stream",
     "text": [
      "Params: (0.01, 10.0, 'multiplicative', 35, 0.9, 12) | MAE: 6335.09, MAPE: 40.56%\n"
     ]
    },
    {
     "name": "stderr",
     "output_type": "stream",
     "text": [
      "02:31:05 - cmdstanpy - INFO - Chain [1] done processing\n",
      "02:31:05 - cmdstanpy - INFO - Chain [1] start processing\n"
     ]
    },
    {
     "name": "stdout",
     "output_type": "stream",
     "text": [
      "Params: (0.1, 0.01, 'additive', 25, 0.85, 8) | MAE: 2843.76, MAPE: 18.02%\n"
     ]
    },
    {
     "name": "stderr",
     "output_type": "stream",
     "text": [
      "02:31:05 - cmdstanpy - INFO - Chain [1] done processing\n",
      "02:31:05 - cmdstanpy - INFO - Chain [1] start processing\n"
     ]
    },
    {
     "name": "stdout",
     "output_type": "stream",
     "text": [
      "Params: (0.1, 0.01, 'additive', 25, 0.85, 12) | MAE: 2620.67, MAPE: 16.56%\n"
     ]
    },
    {
     "name": "stderr",
     "output_type": "stream",
     "text": [
      "02:31:05 - cmdstanpy - INFO - Chain [1] done processing\n",
      "02:31:06 - cmdstanpy - INFO - Chain [1] start processing\n"
     ]
    },
    {
     "name": "stdout",
     "output_type": "stream",
     "text": [
      "Params: (0.1, 0.01, 'additive', 25, 0.9, 8) | MAE: 2054.23, MAPE: 13.80%\n"
     ]
    },
    {
     "name": "stderr",
     "output_type": "stream",
     "text": [
      "02:31:06 - cmdstanpy - INFO - Chain [1] done processing\n",
      "02:31:06 - cmdstanpy - INFO - Chain [1] start processing\n"
     ]
    },
    {
     "name": "stdout",
     "output_type": "stream",
     "text": [
      "Params: (0.1, 0.01, 'additive', 25, 0.9, 12) | MAE: 2072.89, MAPE: 13.94%\n"
     ]
    },
    {
     "name": "stderr",
     "output_type": "stream",
     "text": [
      "02:31:06 - cmdstanpy - INFO - Chain [1] done processing\n",
      "02:31:06 - cmdstanpy - INFO - Chain [1] start processing\n"
     ]
    },
    {
     "name": "stdout",
     "output_type": "stream",
     "text": [
      "Params: (0.1, 0.01, 'additive', 30, 0.85, 8) | MAE: 1198.35, MAPE: 7.51%\n"
     ]
    },
    {
     "name": "stderr",
     "output_type": "stream",
     "text": [
      "02:31:07 - cmdstanpy - INFO - Chain [1] done processing\n",
      "02:31:07 - cmdstanpy - INFO - Chain [1] start processing\n"
     ]
    },
    {
     "name": "stdout",
     "output_type": "stream",
     "text": [
      "Params: (0.1, 0.01, 'additive', 30, 0.85, 12) | MAE: 1131.30, MAPE: 7.05%\n"
     ]
    },
    {
     "name": "stderr",
     "output_type": "stream",
     "text": [
      "02:31:07 - cmdstanpy - INFO - Chain [1] done processing\n",
      "02:31:07 - cmdstanpy - INFO - Chain [1] start processing\n"
     ]
    },
    {
     "name": "stdout",
     "output_type": "stream",
     "text": [
      "Params: (0.1, 0.01, 'additive', 30, 0.9, 8) | MAE: 1690.61, MAPE: 11.16%\n"
     ]
    },
    {
     "name": "stderr",
     "output_type": "stream",
     "text": [
      "02:31:08 - cmdstanpy - INFO - Chain [1] done processing\n",
      "02:31:08 - cmdstanpy - INFO - Chain [1] start processing\n"
     ]
    },
    {
     "name": "stdout",
     "output_type": "stream",
     "text": [
      "Params: (0.1, 0.01, 'additive', 30, 0.9, 12) | MAE: 1855.25, MAPE: 12.28%\n"
     ]
    },
    {
     "name": "stderr",
     "output_type": "stream",
     "text": [
      "02:31:08 - cmdstanpy - INFO - Chain [1] done processing\n",
      "02:31:08 - cmdstanpy - INFO - Chain [1] start processing\n"
     ]
    },
    {
     "name": "stdout",
     "output_type": "stream",
     "text": [
      "Params: (0.1, 0.01, 'additive', 35, 0.85, 8) | MAE: 1679.25, MAPE: 10.48%\n"
     ]
    },
    {
     "name": "stderr",
     "output_type": "stream",
     "text": [
      "02:31:08 - cmdstanpy - INFO - Chain [1] done processing\n",
      "02:31:09 - cmdstanpy - INFO - Chain [1] start processing\n"
     ]
    },
    {
     "name": "stdout",
     "output_type": "stream",
     "text": [
      "Params: (0.1, 0.01, 'additive', 35, 0.85, 12) | MAE: 2000.27, MAPE: 12.46%\n"
     ]
    },
    {
     "name": "stderr",
     "output_type": "stream",
     "text": [
      "02:31:09 - cmdstanpy - INFO - Chain [1] done processing\n",
      "02:31:09 - cmdstanpy - INFO - Chain [1] start processing\n"
     ]
    },
    {
     "name": "stdout",
     "output_type": "stream",
     "text": [
      "Params: (0.1, 0.01, 'additive', 35, 0.9, 8) | MAE: 1521.40, MAPE: 10.01%\n"
     ]
    },
    {
     "name": "stderr",
     "output_type": "stream",
     "text": [
      "02:31:09 - cmdstanpy - INFO - Chain [1] done processing\n",
      "02:31:09 - cmdstanpy - INFO - Chain [1] start processing\n"
     ]
    },
    {
     "name": "stdout",
     "output_type": "stream",
     "text": [
      "Params: (0.1, 0.01, 'additive', 35, 0.9, 12) | MAE: 1464.93, MAPE: 9.49%\n"
     ]
    },
    {
     "name": "stderr",
     "output_type": "stream",
     "text": [
      "02:31:10 - cmdstanpy - INFO - Chain [1] done processing\n",
      "02:31:10 - cmdstanpy - INFO - Chain [1] start processing\n"
     ]
    },
    {
     "name": "stdout",
     "output_type": "stream",
     "text": [
      "Params: (0.1, 0.01, 'multiplicative', 25, 0.85, 8) | MAE: 1767.33, MAPE: 11.23%\n"
     ]
    },
    {
     "name": "stderr",
     "output_type": "stream",
     "text": [
      "02:31:10 - cmdstanpy - INFO - Chain [1] done processing\n",
      "02:31:10 - cmdstanpy - INFO - Chain [1] start processing\n"
     ]
    },
    {
     "name": "stdout",
     "output_type": "stream",
     "text": [
      "Params: (0.1, 0.01, 'multiplicative', 25, 0.85, 12) | MAE: 1694.31, MAPE: 10.74%\n"
     ]
    },
    {
     "name": "stderr",
     "output_type": "stream",
     "text": [
      "02:31:10 - cmdstanpy - INFO - Chain [1] done processing\n",
      "02:31:10 - cmdstanpy - INFO - Chain [1] start processing\n"
     ]
    },
    {
     "name": "stdout",
     "output_type": "stream",
     "text": [
      "Params: (0.1, 0.01, 'multiplicative', 25, 0.9, 8) | MAE: 6312.74, MAPE: 41.38%\n"
     ]
    },
    {
     "name": "stderr",
     "output_type": "stream",
     "text": [
      "02:31:11 - cmdstanpy - INFO - Chain [1] done processing\n",
      "02:31:11 - cmdstanpy - INFO - Chain [1] start processing\n"
     ]
    },
    {
     "name": "stdout",
     "output_type": "stream",
     "text": [
      "Params: (0.1, 0.01, 'multiplicative', 25, 0.9, 12) | MAE: 6299.21, MAPE: 41.30%\n"
     ]
    },
    {
     "name": "stderr",
     "output_type": "stream",
     "text": [
      "02:31:11 - cmdstanpy - INFO - Chain [1] done processing\n",
      "02:31:11 - cmdstanpy - INFO - Chain [1] start processing\n"
     ]
    },
    {
     "name": "stdout",
     "output_type": "stream",
     "text": [
      "Params: (0.1, 0.01, 'multiplicative', 30, 0.85, 8) | MAE: 3099.90, MAPE: 19.89%\n"
     ]
    },
    {
     "name": "stderr",
     "output_type": "stream",
     "text": [
      "02:31:12 - cmdstanpy - INFO - Chain [1] done processing\n",
      "02:31:12 - cmdstanpy - INFO - Chain [1] start processing\n"
     ]
    },
    {
     "name": "stdout",
     "output_type": "stream",
     "text": [
      "Params: (0.1, 0.01, 'multiplicative', 30, 0.85, 12) | MAE: 3112.87, MAPE: 19.98%\n"
     ]
    },
    {
     "name": "stderr",
     "output_type": "stream",
     "text": [
      "02:31:12 - cmdstanpy - INFO - Chain [1] done processing\n",
      "02:31:12 - cmdstanpy - INFO - Chain [1] start processing\n"
     ]
    },
    {
     "name": "stdout",
     "output_type": "stream",
     "text": [
      "Params: (0.1, 0.01, 'multiplicative', 30, 0.9, 8) | MAE: 5698.33, MAPE: 37.29%\n"
     ]
    },
    {
     "name": "stderr",
     "output_type": "stream",
     "text": [
      "02:31:12 - cmdstanpy - INFO - Chain [1] done processing\n",
      "02:31:13 - cmdstanpy - INFO - Chain [1] start processing\n"
     ]
    },
    {
     "name": "stdout",
     "output_type": "stream",
     "text": [
      "Params: (0.1, 0.01, 'multiplicative', 30, 0.9, 12) | MAE: 5779.55, MAPE: 37.81%\n"
     ]
    },
    {
     "name": "stderr",
     "output_type": "stream",
     "text": [
      "02:31:13 - cmdstanpy - INFO - Chain [1] done processing\n",
      "02:31:13 - cmdstanpy - INFO - Chain [1] start processing\n"
     ]
    },
    {
     "name": "stdout",
     "output_type": "stream",
     "text": [
      "Params: (0.1, 0.01, 'multiplicative', 35, 0.85, 8) | MAE: 3591.35, MAPE: 23.16%\n"
     ]
    },
    {
     "name": "stderr",
     "output_type": "stream",
     "text": [
      "02:31:13 - cmdstanpy - INFO - Chain [1] done processing\n",
      "02:31:14 - cmdstanpy - INFO - Chain [1] start processing\n"
     ]
    },
    {
     "name": "stdout",
     "output_type": "stream",
     "text": [
      "Params: (0.1, 0.01, 'multiplicative', 35, 0.85, 12) | MAE: 3159.54, MAPE: 20.35%\n"
     ]
    },
    {
     "name": "stderr",
     "output_type": "stream",
     "text": [
      "02:31:14 - cmdstanpy - INFO - Chain [1] done processing\n",
      "02:31:14 - cmdstanpy - INFO - Chain [1] start processing\n"
     ]
    },
    {
     "name": "stdout",
     "output_type": "stream",
     "text": [
      "Params: (0.1, 0.01, 'multiplicative', 35, 0.9, 8) | MAE: 5487.65, MAPE: 35.95%\n"
     ]
    },
    {
     "name": "stderr",
     "output_type": "stream",
     "text": [
      "02:31:14 - cmdstanpy - INFO - Chain [1] done processing\n",
      "02:31:15 - cmdstanpy - INFO - Chain [1] start processing\n"
     ]
    },
    {
     "name": "stdout",
     "output_type": "stream",
     "text": [
      "Params: (0.1, 0.01, 'multiplicative', 35, 0.9, 12) | MAE: 6169.55, MAPE: 40.43%\n"
     ]
    },
    {
     "name": "stderr",
     "output_type": "stream",
     "text": [
      "02:31:15 - cmdstanpy - INFO - Chain [1] done processing\n",
      "02:31:15 - cmdstanpy - INFO - Chain [1] start processing\n"
     ]
    },
    {
     "name": "stdout",
     "output_type": "stream",
     "text": [
      "Params: (0.1, 0.1, 'additive', 25, 0.85, 8) | MAE: 5119.86, MAPE: 32.58%\n"
     ]
    },
    {
     "name": "stderr",
     "output_type": "stream",
     "text": [
      "02:31:15 - cmdstanpy - INFO - Chain [1] done processing\n",
      "02:31:15 - cmdstanpy - INFO - Chain [1] start processing\n"
     ]
    },
    {
     "name": "stdout",
     "output_type": "stream",
     "text": [
      "Params: (0.1, 0.1, 'additive', 25, 0.85, 12) | MAE: 5097.11, MAPE: 32.42%\n"
     ]
    },
    {
     "name": "stderr",
     "output_type": "stream",
     "text": [
      "02:31:16 - cmdstanpy - INFO - Chain [1] done processing\n",
      "02:31:16 - cmdstanpy - INFO - Chain [1] start processing\n"
     ]
    },
    {
     "name": "stdout",
     "output_type": "stream",
     "text": [
      "Params: (0.1, 0.1, 'additive', 25, 0.9, 8) | MAE: 2997.29, MAPE: 18.05%\n"
     ]
    },
    {
     "name": "stderr",
     "output_type": "stream",
     "text": [
      "02:31:16 - cmdstanpy - INFO - Chain [1] done processing\n",
      "02:31:16 - cmdstanpy - INFO - Chain [1] start processing\n"
     ]
    },
    {
     "name": "stdout",
     "output_type": "stream",
     "text": [
      "Params: (0.1, 0.1, 'additive', 25, 0.9, 12) | MAE: 2576.86, MAPE: 15.45%\n"
     ]
    },
    {
     "name": "stderr",
     "output_type": "stream",
     "text": [
      "02:31:16 - cmdstanpy - INFO - Chain [1] done processing\n",
      "02:31:17 - cmdstanpy - INFO - Chain [1] start processing\n"
     ]
    },
    {
     "name": "stdout",
     "output_type": "stream",
     "text": [
      "Params: (0.1, 0.1, 'additive', 30, 0.85, 8) | MAE: 5661.83, MAPE: 36.01%\n"
     ]
    },
    {
     "name": "stderr",
     "output_type": "stream",
     "text": [
      "02:31:17 - cmdstanpy - INFO - Chain [1] done processing\n",
      "02:31:17 - cmdstanpy - INFO - Chain [1] start processing\n"
     ]
    },
    {
     "name": "stdout",
     "output_type": "stream",
     "text": [
      "Params: (0.1, 0.1, 'additive', 30, 0.85, 12) | MAE: 5165.78, MAPE: 32.82%\n"
     ]
    },
    {
     "name": "stderr",
     "output_type": "stream",
     "text": [
      "02:31:17 - cmdstanpy - INFO - Chain [1] done processing\n",
      "02:31:17 - cmdstanpy - INFO - Chain [1] start processing\n"
     ]
    },
    {
     "name": "stdout",
     "output_type": "stream",
     "text": [
      "Params: (0.1, 0.1, 'additive', 30, 0.9, 8) | MAE: 2038.74, MAPE: 12.22%\n"
     ]
    },
    {
     "name": "stderr",
     "output_type": "stream",
     "text": [
      "02:31:17 - cmdstanpy - INFO - Chain [1] done processing\n",
      "02:31:18 - cmdstanpy - INFO - Chain [1] start processing\n"
     ]
    },
    {
     "name": "stdout",
     "output_type": "stream",
     "text": [
      "Params: (0.1, 0.1, 'additive', 30, 0.9, 12) | MAE: 2049.21, MAPE: 12.19%\n"
     ]
    },
    {
     "name": "stderr",
     "output_type": "stream",
     "text": [
      "02:31:18 - cmdstanpy - INFO - Chain [1] done processing\n",
      "02:31:18 - cmdstanpy - INFO - Chain [1] start processing\n"
     ]
    },
    {
     "name": "stdout",
     "output_type": "stream",
     "text": [
      "Params: (0.1, 0.1, 'additive', 35, 0.85, 8) | MAE: 6130.01, MAPE: 39.06%\n"
     ]
    },
    {
     "name": "stderr",
     "output_type": "stream",
     "text": [
      "02:31:18 - cmdstanpy - INFO - Chain [1] done processing\n",
      "02:31:19 - cmdstanpy - INFO - Chain [1] start processing\n"
     ]
    },
    {
     "name": "stdout",
     "output_type": "stream",
     "text": [
      "Params: (0.1, 0.1, 'additive', 35, 0.85, 12) | MAE: 5676.36, MAPE: 36.13%\n"
     ]
    },
    {
     "name": "stderr",
     "output_type": "stream",
     "text": [
      "02:31:19 - cmdstanpy - INFO - Chain [1] done processing\n",
      "02:31:19 - cmdstanpy - INFO - Chain [1] start processing\n"
     ]
    },
    {
     "name": "stdout",
     "output_type": "stream",
     "text": [
      "Params: (0.1, 0.1, 'additive', 35, 0.9, 8) | MAE: 2692.28, MAPE: 16.21%\n"
     ]
    },
    {
     "name": "stderr",
     "output_type": "stream",
     "text": [
      "02:31:19 - cmdstanpy - INFO - Chain [1] done processing\n",
      "02:31:20 - cmdstanpy - INFO - Chain [1] start processing\n"
     ]
    },
    {
     "name": "stdout",
     "output_type": "stream",
     "text": [
      "Params: (0.1, 0.1, 'additive', 35, 0.9, 12) | MAE: 2601.71, MAPE: 15.58%\n"
     ]
    },
    {
     "name": "stderr",
     "output_type": "stream",
     "text": [
      "02:31:20 - cmdstanpy - INFO - Chain [1] done processing\n",
      "02:31:20 - cmdstanpy - INFO - Chain [1] start processing\n"
     ]
    },
    {
     "name": "stdout",
     "output_type": "stream",
     "text": [
      "Params: (0.1, 0.1, 'multiplicative', 25, 0.85, 8) | MAE: 3152.42, MAPE: 20.35%\n"
     ]
    },
    {
     "name": "stderr",
     "output_type": "stream",
     "text": [
      "02:31:20 - cmdstanpy - INFO - Chain [1] done processing\n",
      "02:31:20 - cmdstanpy - INFO - Chain [1] start processing\n"
     ]
    },
    {
     "name": "stdout",
     "output_type": "stream",
     "text": [
      "Params: (0.1, 0.1, 'multiplicative', 25, 0.85, 12) | MAE: 2663.04, MAPE: 17.21%\n"
     ]
    },
    {
     "name": "stderr",
     "output_type": "stream",
     "text": [
      "02:31:21 - cmdstanpy - INFO - Chain [1] done processing\n",
      "02:31:21 - cmdstanpy - INFO - Chain [1] start processing\n"
     ]
    },
    {
     "name": "stdout",
     "output_type": "stream",
     "text": [
      "Params: (0.1, 0.1, 'multiplicative', 25, 0.9, 8) | MAE: 1383.02, MAPE: 9.11%\n"
     ]
    },
    {
     "name": "stderr",
     "output_type": "stream",
     "text": [
      "02:31:21 - cmdstanpy - INFO - Chain [1] done processing\n",
      "02:31:21 - cmdstanpy - INFO - Chain [1] start processing\n"
     ]
    },
    {
     "name": "stdout",
     "output_type": "stream",
     "text": [
      "Params: (0.1, 0.1, 'multiplicative', 25, 0.9, 12) | MAE: 1621.99, MAPE: 10.77%\n"
     ]
    },
    {
     "name": "stderr",
     "output_type": "stream",
     "text": [
      "02:31:21 - cmdstanpy - INFO - Chain [1] done processing\n",
      "02:31:22 - cmdstanpy - INFO - Chain [1] start processing\n"
     ]
    },
    {
     "name": "stdout",
     "output_type": "stream",
     "text": [
      "Params: (0.1, 0.1, 'multiplicative', 30, 0.85, 8) | MAE: 1016.13, MAPE: 6.36%\n"
     ]
    },
    {
     "name": "stderr",
     "output_type": "stream",
     "text": [
      "02:31:22 - cmdstanpy - INFO - Chain [1] done processing\n",
      "02:31:22 - cmdstanpy - INFO - Chain [1] start processing\n"
     ]
    },
    {
     "name": "stdout",
     "output_type": "stream",
     "text": [
      "Params: (0.1, 0.1, 'multiplicative', 30, 0.85, 12) | MAE: 905.89, MAPE: 5.55%\n"
     ]
    },
    {
     "name": "stderr",
     "output_type": "stream",
     "text": [
      "02:31:22 - cmdstanpy - INFO - Chain [1] done processing\n",
      "02:31:22 - cmdstanpy - INFO - Chain [1] start processing\n"
     ]
    },
    {
     "name": "stdout",
     "output_type": "stream",
     "text": [
      "Params: (0.1, 0.1, 'multiplicative', 30, 0.9, 8) | MAE: 2588.40, MAPE: 17.04%\n"
     ]
    },
    {
     "name": "stderr",
     "output_type": "stream",
     "text": [
      "02:31:23 - cmdstanpy - INFO - Chain [1] done processing\n",
      "02:31:23 - cmdstanpy - INFO - Chain [1] start processing\n"
     ]
    },
    {
     "name": "stdout",
     "output_type": "stream",
     "text": [
      "Params: (0.1, 0.1, 'multiplicative', 30, 0.9, 12) | MAE: 2497.56, MAPE: 16.47%\n"
     ]
    },
    {
     "name": "stderr",
     "output_type": "stream",
     "text": [
      "02:31:23 - cmdstanpy - INFO - Chain [1] done processing\n",
      "02:31:23 - cmdstanpy - INFO - Chain [1] start processing\n"
     ]
    },
    {
     "name": "stdout",
     "output_type": "stream",
     "text": [
      "Params: (0.1, 0.1, 'multiplicative', 35, 0.85, 8) | MAE: 2807.57, MAPE: 18.21%\n"
     ]
    },
    {
     "name": "stderr",
     "output_type": "stream",
     "text": [
      "02:31:24 - cmdstanpy - INFO - Chain [1] done processing\n",
      "02:31:24 - cmdstanpy - INFO - Chain [1] start processing\n"
     ]
    },
    {
     "name": "stdout",
     "output_type": "stream",
     "text": [
      "Params: (0.1, 0.1, 'multiplicative', 35, 0.85, 12) | MAE: 2493.54, MAPE: 16.16%\n"
     ]
    },
    {
     "name": "stderr",
     "output_type": "stream",
     "text": [
      "02:31:24 - cmdstanpy - INFO - Chain [1] done processing\n",
      "02:31:24 - cmdstanpy - INFO - Chain [1] start processing\n"
     ]
    },
    {
     "name": "stdout",
     "output_type": "stream",
     "text": [
      "Params: (0.1, 0.1, 'multiplicative', 35, 0.9, 8) | MAE: 1665.83, MAPE: 11.01%\n"
     ]
    },
    {
     "name": "stderr",
     "output_type": "stream",
     "text": [
      "02:31:25 - cmdstanpy - INFO - Chain [1] done processing\n",
      "02:31:25 - cmdstanpy - INFO - Chain [1] start processing\n"
     ]
    },
    {
     "name": "stdout",
     "output_type": "stream",
     "text": [
      "Params: (0.1, 0.1, 'multiplicative', 35, 0.9, 12) | MAE: 2063.57, MAPE: 13.70%\n"
     ]
    },
    {
     "name": "stderr",
     "output_type": "stream",
     "text": [
      "02:31:25 - cmdstanpy - INFO - Chain [1] done processing\n",
      "02:31:25 - cmdstanpy - INFO - Chain [1] start processing\n"
     ]
    },
    {
     "name": "stdout",
     "output_type": "stream",
     "text": [
      "Params: (0.1, 1.0, 'additive', 25, 0.85, 8) | MAE: 5187.47, MAPE: 32.99%\n"
     ]
    },
    {
     "name": "stderr",
     "output_type": "stream",
     "text": [
      "02:31:25 - cmdstanpy - INFO - Chain [1] done processing\n",
      "02:31:25 - cmdstanpy - INFO - Chain [1] start processing\n"
     ]
    },
    {
     "name": "stdout",
     "output_type": "stream",
     "text": [
      "Params: (0.1, 1.0, 'additive', 25, 0.85, 12) | MAE: 5163.23, MAPE: 32.85%\n"
     ]
    },
    {
     "name": "stderr",
     "output_type": "stream",
     "text": [
      "02:31:26 - cmdstanpy - INFO - Chain [1] done processing\n",
      "02:31:26 - cmdstanpy - INFO - Chain [1] start processing\n"
     ]
    },
    {
     "name": "stdout",
     "output_type": "stream",
     "text": [
      "Params: (0.1, 1.0, 'additive', 25, 0.9, 8) | MAE: 2081.87, MAPE: 12.35%\n"
     ]
    },
    {
     "name": "stderr",
     "output_type": "stream",
     "text": [
      "02:31:26 - cmdstanpy - INFO - Chain [1] done processing\n",
      "02:31:26 - cmdstanpy - INFO - Chain [1] start processing\n"
     ]
    },
    {
     "name": "stdout",
     "output_type": "stream",
     "text": [
      "Params: (0.1, 1.0, 'additive', 25, 0.9, 12) | MAE: 2396.70, MAPE: 14.20%\n"
     ]
    },
    {
     "name": "stderr",
     "output_type": "stream",
     "text": [
      "02:31:27 - cmdstanpy - INFO - Chain [1] done processing\n",
      "02:31:27 - cmdstanpy - INFO - Chain [1] start processing\n"
     ]
    },
    {
     "name": "stdout",
     "output_type": "stream",
     "text": [
      "Params: (0.1, 1.0, 'additive', 30, 0.85, 8) | MAE: 5634.79, MAPE: 35.90%\n"
     ]
    },
    {
     "name": "stderr",
     "output_type": "stream",
     "text": [
      "02:31:27 - cmdstanpy - INFO - Chain [1] done processing\n",
      "02:31:27 - cmdstanpy - INFO - Chain [1] start processing\n"
     ]
    },
    {
     "name": "stdout",
     "output_type": "stream",
     "text": [
      "Params: (0.1, 1.0, 'additive', 30, 0.85, 12) | MAE: 5276.18, MAPE: 33.57%\n"
     ]
    },
    {
     "name": "stderr",
     "output_type": "stream",
     "text": [
      "02:31:28 - cmdstanpy - INFO - Chain [1] done processing\n",
      "02:31:28 - cmdstanpy - INFO - Chain [1] start processing\n"
     ]
    },
    {
     "name": "stdout",
     "output_type": "stream",
     "text": [
      "Params: (0.1, 1.0, 'additive', 30, 0.9, 8) | MAE: 2191.79, MAPE: 13.09%\n"
     ]
    },
    {
     "name": "stderr",
     "output_type": "stream",
     "text": [
      "02:31:28 - cmdstanpy - INFO - Chain [1] done processing\n",
      "02:31:28 - cmdstanpy - INFO - Chain [1] start processing\n"
     ]
    },
    {
     "name": "stdout",
     "output_type": "stream",
     "text": [
      "Params: (0.1, 1.0, 'additive', 30, 0.9, 12) | MAE: 1873.14, MAPE: 11.17%\n"
     ]
    },
    {
     "name": "stderr",
     "output_type": "stream",
     "text": [
      "02:31:28 - cmdstanpy - INFO - Chain [1] done processing\n",
      "02:31:29 - cmdstanpy - INFO - Chain [1] start processing\n"
     ]
    },
    {
     "name": "stdout",
     "output_type": "stream",
     "text": [
      "Params: (0.1, 1.0, 'additive', 35, 0.85, 8) | MAE: 5666.35, MAPE: 36.08%\n"
     ]
    },
    {
     "name": "stderr",
     "output_type": "stream",
     "text": [
      "02:31:29 - cmdstanpy - INFO - Chain [1] done processing\n",
      "02:31:29 - cmdstanpy - INFO - Chain [1] start processing\n"
     ]
    },
    {
     "name": "stdout",
     "output_type": "stream",
     "text": [
      "Params: (0.1, 1.0, 'additive', 35, 0.85, 12) | MAE: 5435.09, MAPE: 34.57%\n"
     ]
    },
    {
     "name": "stderr",
     "output_type": "stream",
     "text": [
      "02:31:29 - cmdstanpy - INFO - Chain [1] done processing\n",
      "02:31:29 - cmdstanpy - INFO - Chain [1] start processing\n"
     ]
    },
    {
     "name": "stdout",
     "output_type": "stream",
     "text": [
      "Params: (0.1, 1.0, 'additive', 35, 0.9, 8) | MAE: 2688.37, MAPE: 16.18%\n"
     ]
    },
    {
     "name": "stderr",
     "output_type": "stream",
     "text": [
      "02:31:30 - cmdstanpy - INFO - Chain [1] done processing\n",
      "02:31:30 - cmdstanpy - INFO - Chain [1] start processing\n"
     ]
    },
    {
     "name": "stdout",
     "output_type": "stream",
     "text": [
      "Params: (0.1, 1.0, 'additive', 35, 0.9, 12) | MAE: 2656.88, MAPE: 15.99%\n"
     ]
    },
    {
     "name": "stderr",
     "output_type": "stream",
     "text": [
      "02:31:30 - cmdstanpy - INFO - Chain [1] done processing\n",
      "02:31:30 - cmdstanpy - INFO - Chain [1] start processing\n"
     ]
    },
    {
     "name": "stdout",
     "output_type": "stream",
     "text": [
      "Params: (0.1, 1.0, 'multiplicative', 25, 0.85, 8) | MAE: 3095.52, MAPE: 19.99%\n"
     ]
    },
    {
     "name": "stderr",
     "output_type": "stream",
     "text": [
      "02:31:30 - cmdstanpy - INFO - Chain [1] done processing\n",
      "02:31:31 - cmdstanpy - INFO - Chain [1] start processing\n"
     ]
    },
    {
     "name": "stdout",
     "output_type": "stream",
     "text": [
      "Params: (0.1, 1.0, 'multiplicative', 25, 0.85, 12) | MAE: 2587.35, MAPE: 16.72%\n"
     ]
    },
    {
     "name": "stderr",
     "output_type": "stream",
     "text": [
      "02:31:31 - cmdstanpy - INFO - Chain [1] done processing\n",
      "02:31:31 - cmdstanpy - INFO - Chain [1] start processing\n"
     ]
    },
    {
     "name": "stdout",
     "output_type": "stream",
     "text": [
      "Params: (0.1, 1.0, 'multiplicative', 25, 0.9, 8) | MAE: 1335.84, MAPE: 8.80%\n"
     ]
    },
    {
     "name": "stderr",
     "output_type": "stream",
     "text": [
      "02:31:31 - cmdstanpy - INFO - Chain [1] done processing\n",
      "02:31:31 - cmdstanpy - INFO - Chain [1] start processing\n"
     ]
    },
    {
     "name": "stdout",
     "output_type": "stream",
     "text": [
      "Params: (0.1, 1.0, 'multiplicative', 25, 0.9, 12) | MAE: 1246.82, MAPE: 8.15%\n"
     ]
    },
    {
     "name": "stderr",
     "output_type": "stream",
     "text": [
      "02:31:31 - cmdstanpy - INFO - Chain [1] done processing\n",
      "02:31:32 - cmdstanpy - INFO - Chain [1] start processing\n"
     ]
    },
    {
     "name": "stdout",
     "output_type": "stream",
     "text": [
      "Params: (0.1, 1.0, 'multiplicative', 30, 0.85, 8) | MAE: 1114.89, MAPE: 7.07%\n"
     ]
    },
    {
     "name": "stderr",
     "output_type": "stream",
     "text": [
      "02:31:32 - cmdstanpy - INFO - Chain [1] done processing\n",
      "02:31:32 - cmdstanpy - INFO - Chain [1] start processing\n"
     ]
    },
    {
     "name": "stdout",
     "output_type": "stream",
     "text": [
      "Params: (0.1, 1.0, 'multiplicative', 30, 0.85, 12) | MAE: 927.88, MAPE: 5.70%\n"
     ]
    },
    {
     "name": "stderr",
     "output_type": "stream",
     "text": [
      "02:31:32 - cmdstanpy - INFO - Chain [1] done processing\n",
      "02:31:33 - cmdstanpy - INFO - Chain [1] start processing\n"
     ]
    },
    {
     "name": "stdout",
     "output_type": "stream",
     "text": [
      "Params: (0.1, 1.0, 'multiplicative', 30, 0.9, 8) | MAE: 2804.90, MAPE: 18.49%\n"
     ]
    },
    {
     "name": "stderr",
     "output_type": "stream",
     "text": [
      "02:31:33 - cmdstanpy - INFO - Chain [1] done processing\n",
      "02:31:33 - cmdstanpy - INFO - Chain [1] start processing\n"
     ]
    },
    {
     "name": "stdout",
     "output_type": "stream",
     "text": [
      "Params: (0.1, 1.0, 'multiplicative', 30, 0.9, 12) | MAE: 2844.66, MAPE: 18.78%\n"
     ]
    },
    {
     "name": "stderr",
     "output_type": "stream",
     "text": [
      "02:31:33 - cmdstanpy - INFO - Chain [1] done processing\n",
      "02:31:33 - cmdstanpy - INFO - Chain [1] start processing\n"
     ]
    },
    {
     "name": "stdout",
     "output_type": "stream",
     "text": [
      "Params: (0.1, 1.0, 'multiplicative', 35, 0.85, 8) | MAE: 2354.11, MAPE: 15.27%\n"
     ]
    },
    {
     "name": "stderr",
     "output_type": "stream",
     "text": [
      "02:31:34 - cmdstanpy - INFO - Chain [1] done processing\n",
      "02:31:34 - cmdstanpy - INFO - Chain [1] start processing\n"
     ]
    },
    {
     "name": "stdout",
     "output_type": "stream",
     "text": [
      "Params: (0.1, 1.0, 'multiplicative', 35, 0.85, 12) | MAE: 2745.57, MAPE: 17.79%\n"
     ]
    },
    {
     "name": "stderr",
     "output_type": "stream",
     "text": [
      "02:31:34 - cmdstanpy - INFO - Chain [1] done processing\n",
      "02:31:34 - cmdstanpy - INFO - Chain [1] start processing\n"
     ]
    },
    {
     "name": "stdout",
     "output_type": "stream",
     "text": [
      "Params: (0.1, 1.0, 'multiplicative', 35, 0.9, 8) | MAE: 1524.45, MAPE: 10.06%\n"
     ]
    },
    {
     "name": "stderr",
     "output_type": "stream",
     "text": [
      "02:31:35 - cmdstanpy - INFO - Chain [1] done processing\n",
      "02:31:35 - cmdstanpy - INFO - Chain [1] start processing\n"
     ]
    },
    {
     "name": "stdout",
     "output_type": "stream",
     "text": [
      "Params: (0.1, 1.0, 'multiplicative', 35, 0.9, 12) | MAE: 1749.03, MAPE: 11.59%\n"
     ]
    },
    {
     "name": "stderr",
     "output_type": "stream",
     "text": [
      "02:31:35 - cmdstanpy - INFO - Chain [1] done processing\n",
      "02:31:35 - cmdstanpy - INFO - Chain [1] start processing\n"
     ]
    },
    {
     "name": "stdout",
     "output_type": "stream",
     "text": [
      "Params: (0.1, 10.0, 'additive', 25, 0.85, 8) | MAE: 5288.31, MAPE: 33.69%\n"
     ]
    },
    {
     "name": "stderr",
     "output_type": "stream",
     "text": [
      "02:31:35 - cmdstanpy - INFO - Chain [1] done processing\n",
      "02:31:36 - cmdstanpy - INFO - Chain [1] start processing\n"
     ]
    },
    {
     "name": "stdout",
     "output_type": "stream",
     "text": [
      "Params: (0.1, 10.0, 'additive', 25, 0.85, 12) | MAE: 5000.51, MAPE: 31.83%\n"
     ]
    },
    {
     "name": "stderr",
     "output_type": "stream",
     "text": [
      "02:31:36 - cmdstanpy - INFO - Chain [1] done processing\n",
      "02:31:36 - cmdstanpy - INFO - Chain [1] start processing\n"
     ]
    },
    {
     "name": "stdout",
     "output_type": "stream",
     "text": [
      "Params: (0.1, 10.0, 'additive', 25, 0.9, 8) | MAE: 2398.61, MAPE: 14.28%\n"
     ]
    },
    {
     "name": "stderr",
     "output_type": "stream",
     "text": [
      "02:31:36 - cmdstanpy - INFO - Chain [1] done processing\n",
      "02:31:36 - cmdstanpy - INFO - Chain [1] start processing\n"
     ]
    },
    {
     "name": "stdout",
     "output_type": "stream",
     "text": [
      "Params: (0.1, 10.0, 'additive', 25, 0.9, 12) | MAE: 2644.65, MAPE: 15.74%\n"
     ]
    },
    {
     "name": "stderr",
     "output_type": "stream",
     "text": [
      "02:31:37 - cmdstanpy - INFO - Chain [1] done processing\n",
      "02:31:37 - cmdstanpy - INFO - Chain [1] start processing\n"
     ]
    },
    {
     "name": "stdout",
     "output_type": "stream",
     "text": [
      "Params: (0.1, 10.0, 'additive', 30, 0.85, 8) | MAE: 5742.24, MAPE: 36.53%\n"
     ]
    },
    {
     "name": "stderr",
     "output_type": "stream",
     "text": [
      "02:31:37 - cmdstanpy - INFO - Chain [1] done processing\n",
      "02:31:37 - cmdstanpy - INFO - Chain [1] start processing\n"
     ]
    },
    {
     "name": "stdout",
     "output_type": "stream",
     "text": [
      "Params: (0.1, 10.0, 'additive', 30, 0.85, 12) | MAE: 5245.14, MAPE: 33.37%\n"
     ]
    },
    {
     "name": "stderr",
     "output_type": "stream",
     "text": [
      "02:31:37 - cmdstanpy - INFO - Chain [1] done processing\n",
      "02:31:38 - cmdstanpy - INFO - Chain [1] start processing\n"
     ]
    },
    {
     "name": "stdout",
     "output_type": "stream",
     "text": [
      "Params: (0.1, 10.0, 'additive', 30, 0.9, 8) | MAE: 1853.11, MAPE: 11.08%\n"
     ]
    },
    {
     "name": "stderr",
     "output_type": "stream",
     "text": [
      "02:31:38 - cmdstanpy - INFO - Chain [1] done processing\n",
      "02:31:38 - cmdstanpy - INFO - Chain [1] start processing\n"
     ]
    },
    {
     "name": "stdout",
     "output_type": "stream",
     "text": [
      "Params: (0.1, 10.0, 'additive', 30, 0.9, 12) | MAE: 2008.88, MAPE: 11.91%\n"
     ]
    },
    {
     "name": "stderr",
     "output_type": "stream",
     "text": [
      "02:31:38 - cmdstanpy - INFO - Chain [1] done processing\n",
      "02:31:38 - cmdstanpy - INFO - Chain [1] start processing\n"
     ]
    },
    {
     "name": "stdout",
     "output_type": "stream",
     "text": [
      "Params: (0.1, 10.0, 'additive', 35, 0.85, 8) | MAE: 5541.27, MAPE: 35.28%\n"
     ]
    },
    {
     "name": "stderr",
     "output_type": "stream",
     "text": [
      "02:31:39 - cmdstanpy - INFO - Chain [1] done processing\n",
      "02:31:39 - cmdstanpy - INFO - Chain [1] start processing\n"
     ]
    },
    {
     "name": "stdout",
     "output_type": "stream",
     "text": [
      "Params: (0.1, 10.0, 'additive', 35, 0.85, 12) | MAE: 5696.62, MAPE: 36.28%\n"
     ]
    },
    {
     "name": "stderr",
     "output_type": "stream",
     "text": [
      "02:31:39 - cmdstanpy - INFO - Chain [1] done processing\n",
      "02:31:39 - cmdstanpy - INFO - Chain [1] start processing\n"
     ]
    },
    {
     "name": "stdout",
     "output_type": "stream",
     "text": [
      "Params: (0.1, 10.0, 'additive', 35, 0.9, 8) | MAE: 2717.63, MAPE: 16.40%\n"
     ]
    },
    {
     "name": "stderr",
     "output_type": "stream",
     "text": [
      "02:31:39 - cmdstanpy - INFO - Chain [1] done processing\n",
      "02:31:40 - cmdstanpy - INFO - Chain [1] start processing\n"
     ]
    },
    {
     "name": "stdout",
     "output_type": "stream",
     "text": [
      "Params: (0.1, 10.0, 'additive', 35, 0.9, 12) | MAE: 2661.78, MAPE: 16.00%\n"
     ]
    },
    {
     "name": "stderr",
     "output_type": "stream",
     "text": [
      "02:31:40 - cmdstanpy - INFO - Chain [1] done processing\n",
      "02:31:40 - cmdstanpy - INFO - Chain [1] start processing\n"
     ]
    },
    {
     "name": "stdout",
     "output_type": "stream",
     "text": [
      "Params: (0.1, 10.0, 'multiplicative', 25, 0.85, 8) | MAE: 3003.34, MAPE: 19.41%\n"
     ]
    },
    {
     "name": "stderr",
     "output_type": "stream",
     "text": [
      "02:31:40 - cmdstanpy - INFO - Chain [1] done processing\n",
      "02:31:40 - cmdstanpy - INFO - Chain [1] start processing\n"
     ]
    },
    {
     "name": "stdout",
     "output_type": "stream",
     "text": [
      "Params: (0.1, 10.0, 'multiplicative', 25, 0.85, 12) | MAE: 2909.48, MAPE: 18.78%\n"
     ]
    },
    {
     "name": "stderr",
     "output_type": "stream",
     "text": [
      "02:31:40 - cmdstanpy - INFO - Chain [1] done processing\n",
      "02:31:41 - cmdstanpy - INFO - Chain [1] start processing\n"
     ]
    },
    {
     "name": "stdout",
     "output_type": "stream",
     "text": [
      "Params: (0.1, 10.0, 'multiplicative', 25, 0.9, 8) | MAE: 1483.95, MAPE: 9.83%\n"
     ]
    },
    {
     "name": "stderr",
     "output_type": "stream",
     "text": [
      "02:31:41 - cmdstanpy - INFO - Chain [1] done processing\n",
      "02:31:41 - cmdstanpy - INFO - Chain [1] start processing\n"
     ]
    },
    {
     "name": "stdout",
     "output_type": "stream",
     "text": [
      "Params: (0.1, 10.0, 'multiplicative', 25, 0.9, 12) | MAE: 1293.22, MAPE: 8.49%\n"
     ]
    },
    {
     "name": "stderr",
     "output_type": "stream",
     "text": [
      "02:31:41 - cmdstanpy - INFO - Chain [1] done processing\n",
      "02:31:41 - cmdstanpy - INFO - Chain [1] start processing\n"
     ]
    },
    {
     "name": "stdout",
     "output_type": "stream",
     "text": [
      "Params: (0.1, 10.0, 'multiplicative', 30, 0.85, 8) | MAE: 1171.00, MAPE: 7.47%\n"
     ]
    },
    {
     "name": "stderr",
     "output_type": "stream",
     "text": [
      "02:31:42 - cmdstanpy - INFO - Chain [1] done processing\n",
      "02:31:42 - cmdstanpy - INFO - Chain [1] start processing\n"
     ]
    },
    {
     "name": "stdout",
     "output_type": "stream",
     "text": [
      "Params: (0.1, 10.0, 'multiplicative', 30, 0.85, 12) | MAE: 912.75, MAPE: 5.60%\n"
     ]
    },
    {
     "name": "stderr",
     "output_type": "stream",
     "text": [
      "02:31:42 - cmdstanpy - INFO - Chain [1] done processing\n",
      "02:31:42 - cmdstanpy - INFO - Chain [1] start processing\n"
     ]
    },
    {
     "name": "stdout",
     "output_type": "stream",
     "text": [
      "Params: (0.1, 10.0, 'multiplicative', 30, 0.9, 8) | MAE: 2259.40, MAPE: 14.87%\n"
     ]
    },
    {
     "name": "stderr",
     "output_type": "stream",
     "text": [
      "02:31:43 - cmdstanpy - INFO - Chain [1] done processing\n",
      "02:31:43 - cmdstanpy - INFO - Chain [1] start processing\n"
     ]
    },
    {
     "name": "stdout",
     "output_type": "stream",
     "text": [
      "Params: (0.1, 10.0, 'multiplicative', 30, 0.9, 12) | MAE: 2318.65, MAPE: 15.30%\n"
     ]
    },
    {
     "name": "stderr",
     "output_type": "stream",
     "text": [
      "02:31:43 - cmdstanpy - INFO - Chain [1] done processing\n",
      "02:31:43 - cmdstanpy - INFO - Chain [1] start processing\n"
     ]
    },
    {
     "name": "stdout",
     "output_type": "stream",
     "text": [
      "Params: (0.1, 10.0, 'multiplicative', 35, 0.85, 8) | MAE: 2374.35, MAPE: 15.39%\n"
     ]
    },
    {
     "name": "stderr",
     "output_type": "stream",
     "text": [
      "02:31:43 - cmdstanpy - INFO - Chain [1] done processing\n",
      "02:31:44 - cmdstanpy - INFO - Chain [1] start processing\n"
     ]
    },
    {
     "name": "stdout",
     "output_type": "stream",
     "text": [
      "Params: (0.1, 10.0, 'multiplicative', 35, 0.85, 12) | MAE: 2419.12, MAPE: 15.68%\n"
     ]
    },
    {
     "name": "stderr",
     "output_type": "stream",
     "text": [
      "02:31:44 - cmdstanpy - INFO - Chain [1] done processing\n",
      "02:31:44 - cmdstanpy - INFO - Chain [1] start processing\n"
     ]
    },
    {
     "name": "stdout",
     "output_type": "stream",
     "text": [
      "Params: (0.1, 10.0, 'multiplicative', 35, 0.9, 8) | MAE: 1471.69, MAPE: 9.71%\n"
     ]
    },
    {
     "name": "stderr",
     "output_type": "stream",
     "text": [
      "02:31:44 - cmdstanpy - INFO - Chain [1] done processing\n",
      "02:31:44 - cmdstanpy - INFO - Chain [1] start processing\n"
     ]
    },
    {
     "name": "stdout",
     "output_type": "stream",
     "text": [
      "Params: (0.1, 10.0, 'multiplicative', 35, 0.9, 12) | MAE: 1664.87, MAPE: 11.03%\n"
     ]
    },
    {
     "name": "stderr",
     "output_type": "stream",
     "text": [
      "02:31:45 - cmdstanpy - INFO - Chain [1] done processing\n",
      "02:31:45 - cmdstanpy - INFO - Chain [1] start processing\n"
     ]
    },
    {
     "name": "stdout",
     "output_type": "stream",
     "text": [
      "Params: (0.5, 0.01, 'additive', 25, 0.85, 8) | MAE: 2161.02, MAPE: 14.05%\n"
     ]
    },
    {
     "name": "stderr",
     "output_type": "stream",
     "text": [
      "02:31:45 - cmdstanpy - INFO - Chain [1] done processing\n",
      "02:31:46 - cmdstanpy - INFO - Chain [1] start processing\n"
     ]
    },
    {
     "name": "stdout",
     "output_type": "stream",
     "text": [
      "Params: (0.5, 0.01, 'additive', 25, 0.85, 12) | MAE: 2847.20, MAPE: 18.56%\n"
     ]
    },
    {
     "name": "stderr",
     "output_type": "stream",
     "text": [
      "02:31:46 - cmdstanpy - INFO - Chain [1] done processing\n",
      "02:31:46 - cmdstanpy - INFO - Chain [1] start processing\n"
     ]
    },
    {
     "name": "stdout",
     "output_type": "stream",
     "text": [
      "Params: (0.5, 0.01, 'additive', 25, 0.9, 8) | MAE: 1682.62, MAPE: 11.02%\n"
     ]
    },
    {
     "name": "stderr",
     "output_type": "stream",
     "text": [
      "02:31:47 - cmdstanpy - INFO - Chain [1] done processing\n",
      "02:31:47 - cmdstanpy - INFO - Chain [1] start processing\n"
     ]
    },
    {
     "name": "stdout",
     "output_type": "stream",
     "text": [
      "Params: (0.5, 0.01, 'additive', 25, 0.9, 12) | MAE: 1840.86, MAPE: 12.11%\n"
     ]
    },
    {
     "name": "stderr",
     "output_type": "stream",
     "text": [
      "02:31:48 - cmdstanpy - INFO - Chain [1] done processing\n",
      "02:31:48 - cmdstanpy - INFO - Chain [1] start processing\n"
     ]
    },
    {
     "name": "stdout",
     "output_type": "stream",
     "text": [
      "Params: (0.5, 0.01, 'additive', 30, 0.85, 8) | MAE: 1613.28, MAPE: 10.38%\n"
     ]
    },
    {
     "name": "stderr",
     "output_type": "stream",
     "text": [
      "02:31:48 - cmdstanpy - INFO - Chain [1] done processing\n",
      "02:31:49 - cmdstanpy - INFO - Chain [1] start processing\n"
     ]
    },
    {
     "name": "stdout",
     "output_type": "stream",
     "text": [
      "Params: (0.5, 0.01, 'additive', 30, 0.85, 12) | MAE: 3159.38, MAPE: 20.67%\n"
     ]
    },
    {
     "name": "stderr",
     "output_type": "stream",
     "text": [
      "02:31:49 - cmdstanpy - INFO - Chain [1] done processing\n",
      "02:31:49 - cmdstanpy - INFO - Chain [1] start processing\n"
     ]
    },
    {
     "name": "stdout",
     "output_type": "stream",
     "text": [
      "Params: (0.5, 0.01, 'additive', 30, 0.9, 8) | MAE: 3309.45, MAPE: 21.72%\n"
     ]
    },
    {
     "name": "stderr",
     "output_type": "stream",
     "text": [
      "02:31:50 - cmdstanpy - INFO - Chain [1] done processing\n",
      "02:31:50 - cmdstanpy - INFO - Chain [1] start processing\n"
     ]
    },
    {
     "name": "stdout",
     "output_type": "stream",
     "text": [
      "Params: (0.5, 0.01, 'additive', 30, 0.9, 12) | MAE: 3550.28, MAPE: 23.29%\n"
     ]
    },
    {
     "name": "stderr",
     "output_type": "stream",
     "text": [
      "02:31:51 - cmdstanpy - INFO - Chain [1] done processing\n",
      "02:31:51 - cmdstanpy - INFO - Chain [1] start processing\n"
     ]
    },
    {
     "name": "stdout",
     "output_type": "stream",
     "text": [
      "Params: (0.5, 0.01, 'additive', 35, 0.85, 8) | MAE: 2193.30, MAPE: 14.39%\n"
     ]
    },
    {
     "name": "stderr",
     "output_type": "stream",
     "text": [
      "02:31:52 - cmdstanpy - INFO - Chain [1] done processing\n",
      "02:31:52 - cmdstanpy - INFO - Chain [1] start processing\n"
     ]
    },
    {
     "name": "stdout",
     "output_type": "stream",
     "text": [
      "Params: (0.5, 0.01, 'additive', 35, 0.85, 12) | MAE: 3121.39, MAPE: 20.45%\n"
     ]
    },
    {
     "name": "stderr",
     "output_type": "stream",
     "text": [
      "02:31:53 - cmdstanpy - INFO - Chain [1] done processing\n",
      "02:31:53 - cmdstanpy - INFO - Chain [1] start processing\n"
     ]
    },
    {
     "name": "stdout",
     "output_type": "stream",
     "text": [
      "Params: (0.5, 0.01, 'additive', 35, 0.9, 8) | MAE: 4536.64, MAPE: 29.85%\n"
     ]
    },
    {
     "name": "stderr",
     "output_type": "stream",
     "text": [
      "02:31:54 - cmdstanpy - INFO - Chain [1] done processing\n",
      "02:31:54 - cmdstanpy - INFO - Chain [1] start processing\n"
     ]
    },
    {
     "name": "stdout",
     "output_type": "stream",
     "text": [
      "Params: (0.5, 0.01, 'additive', 35, 0.9, 12) | MAE: 4610.43, MAPE: 30.32%\n"
     ]
    },
    {
     "name": "stderr",
     "output_type": "stream",
     "text": [
      "02:31:55 - cmdstanpy - INFO - Chain [1] done processing\n",
      "02:31:55 - cmdstanpy - INFO - Chain [1] start processing\n"
     ]
    },
    {
     "name": "stdout",
     "output_type": "stream",
     "text": [
      "Params: (0.5, 0.01, 'multiplicative', 25, 0.85, 8) | MAE: 3186.36, MAPE: 20.70%\n"
     ]
    },
    {
     "name": "stderr",
     "output_type": "stream",
     "text": [
      "02:31:55 - cmdstanpy - INFO - Chain [1] done processing\n",
      "02:31:56 - cmdstanpy - INFO - Chain [1] start processing\n"
     ]
    },
    {
     "name": "stdout",
     "output_type": "stream",
     "text": [
      "Params: (0.5, 0.01, 'multiplicative', 25, 0.85, 12) | MAE: 3454.80, MAPE: 22.45%\n"
     ]
    },
    {
     "name": "stderr",
     "output_type": "stream",
     "text": [
      "02:31:56 - cmdstanpy - INFO - Chain [1] done processing\n",
      "02:31:56 - cmdstanpy - INFO - Chain [1] start processing\n"
     ]
    },
    {
     "name": "stdout",
     "output_type": "stream",
     "text": [
      "Params: (0.5, 0.01, 'multiplicative', 25, 0.9, 8) | MAE: 4744.81, MAPE: 31.18%\n"
     ]
    },
    {
     "name": "stderr",
     "output_type": "stream",
     "text": [
      "02:31:57 - cmdstanpy - INFO - Chain [1] done processing\n",
      "02:31:57 - cmdstanpy - INFO - Chain [1] start processing\n"
     ]
    },
    {
     "name": "stdout",
     "output_type": "stream",
     "text": [
      "Params: (0.5, 0.01, 'multiplicative', 25, 0.9, 12) | MAE: 4534.38, MAPE: 29.82%\n"
     ]
    },
    {
     "name": "stderr",
     "output_type": "stream",
     "text": [
      "02:31:58 - cmdstanpy - INFO - Chain [1] done processing\n",
      "02:31:58 - cmdstanpy - INFO - Chain [1] start processing\n"
     ]
    },
    {
     "name": "stdout",
     "output_type": "stream",
     "text": [
      "Params: (0.5, 0.01, 'multiplicative', 30, 0.85, 8) | MAE: 3854.48, MAPE: 25.18%\n"
     ]
    },
    {
     "name": "stderr",
     "output_type": "stream",
     "text": [
      "02:31:59 - cmdstanpy - INFO - Chain [1] done processing\n",
      "02:31:59 - cmdstanpy - INFO - Chain [1] start processing\n"
     ]
    },
    {
     "name": "stdout",
     "output_type": "stream",
     "text": [
      "Params: (0.5, 0.01, 'multiplicative', 30, 0.85, 12) | MAE: 4366.88, MAPE: 28.58%\n"
     ]
    },
    {
     "name": "stderr",
     "output_type": "stream",
     "text": [
      "02:31:59 - cmdstanpy - INFO - Chain [1] done processing\n",
      "02:31:59 - cmdstanpy - INFO - Chain [1] start processing\n"
     ]
    },
    {
     "name": "stdout",
     "output_type": "stream",
     "text": [
      "Params: (0.5, 0.01, 'multiplicative', 30, 0.9, 8) | MAE: 6319.30, MAPE: 41.44%\n"
     ]
    },
    {
     "name": "stderr",
     "output_type": "stream",
     "text": [
      "02:32:00 - cmdstanpy - INFO - Chain [1] done processing\n",
      "02:32:00 - cmdstanpy - INFO - Chain [1] start processing\n"
     ]
    },
    {
     "name": "stdout",
     "output_type": "stream",
     "text": [
      "Params: (0.5, 0.01, 'multiplicative', 30, 0.9, 12) | MAE: 5841.22, MAPE: 38.26%\n"
     ]
    },
    {
     "name": "stderr",
     "output_type": "stream",
     "text": [
      "02:32:01 - cmdstanpy - INFO - Chain [1] done processing\n",
      "02:32:01 - cmdstanpy - INFO - Chain [1] start processing\n"
     ]
    },
    {
     "name": "stdout",
     "output_type": "stream",
     "text": [
      "Params: (0.5, 0.01, 'multiplicative', 35, 0.85, 8) | MAE: 4325.95, MAPE: 28.39%\n"
     ]
    },
    {
     "name": "stderr",
     "output_type": "stream",
     "text": [
      "02:32:02 - cmdstanpy - INFO - Chain [1] done processing\n",
      "02:32:02 - cmdstanpy - INFO - Chain [1] start processing\n"
     ]
    },
    {
     "name": "stdout",
     "output_type": "stream",
     "text": [
      "Params: (0.5, 0.01, 'multiplicative', 35, 0.85, 12) | MAE: 4595.84, MAPE: 30.14%\n"
     ]
    },
    {
     "name": "stderr",
     "output_type": "stream",
     "text": [
      "02:32:03 - cmdstanpy - INFO - Chain [1] done processing\n",
      "02:32:03 - cmdstanpy - INFO - Chain [1] start processing\n"
     ]
    },
    {
     "name": "stdout",
     "output_type": "stream",
     "text": [
      "Params: (0.5, 0.01, 'multiplicative', 35, 0.9, 8) | MAE: 6325.00, MAPE: 41.52%\n"
     ]
    },
    {
     "name": "stderr",
     "output_type": "stream",
     "text": [
      "02:32:04 - cmdstanpy - INFO - Chain [1] done processing\n",
      "02:32:04 - cmdstanpy - INFO - Chain [1] start processing\n"
     ]
    },
    {
     "name": "stdout",
     "output_type": "stream",
     "text": [
      "Params: (0.5, 0.01, 'multiplicative', 35, 0.9, 12) | MAE: 6763.74, MAPE: 44.40%\n"
     ]
    },
    {
     "name": "stderr",
     "output_type": "stream",
     "text": [
      "02:32:04 - cmdstanpy - INFO - Chain [1] done processing\n",
      "02:32:04 - cmdstanpy - INFO - Chain [1] start processing\n"
     ]
    },
    {
     "name": "stdout",
     "output_type": "stream",
     "text": [
      "Params: (0.5, 0.1, 'additive', 25, 0.85, 8) | MAE: 5041.64, MAPE: 31.45%\n"
     ]
    },
    {
     "name": "stderr",
     "output_type": "stream",
     "text": [
      "02:32:05 - cmdstanpy - INFO - Chain [1] done processing\n",
      "02:32:05 - cmdstanpy - INFO - Chain [1] start processing\n"
     ]
    },
    {
     "name": "stdout",
     "output_type": "stream",
     "text": [
      "Params: (0.5, 0.1, 'additive', 25, 0.85, 12) | MAE: 3716.81, MAPE: 23.22%\n"
     ]
    },
    {
     "name": "stderr",
     "output_type": "stream",
     "text": [
      "02:32:06 - cmdstanpy - INFO - Chain [1] done processing\n",
      "02:32:06 - cmdstanpy - INFO - Chain [1] start processing\n"
     ]
    },
    {
     "name": "stdout",
     "output_type": "stream",
     "text": [
      "Params: (0.5, 0.1, 'additive', 25, 0.9, 8) | MAE: 19718.53, MAPE: 125.42%\n"
     ]
    },
    {
     "name": "stderr",
     "output_type": "stream",
     "text": [
      "02:32:07 - cmdstanpy - INFO - Chain [1] done processing\n",
      "02:32:07 - cmdstanpy - INFO - Chain [1] start processing\n"
     ]
    },
    {
     "name": "stdout",
     "output_type": "stream",
     "text": [
      "Params: (0.5, 0.1, 'additive', 25, 0.9, 12) | MAE: 21721.42, MAPE: 137.98%\n"
     ]
    },
    {
     "name": "stderr",
     "output_type": "stream",
     "text": [
      "02:32:07 - cmdstanpy - INFO - Chain [1] done processing\n",
      "02:32:08 - cmdstanpy - INFO - Chain [1] start processing\n"
     ]
    },
    {
     "name": "stdout",
     "output_type": "stream",
     "text": [
      "Params: (0.5, 0.1, 'additive', 30, 0.85, 8) | MAE: 10222.06, MAPE: 65.14%\n"
     ]
    },
    {
     "name": "stderr",
     "output_type": "stream",
     "text": [
      "02:32:08 - cmdstanpy - INFO - Chain [1] done processing\n",
      "02:32:09 - cmdstanpy - INFO - Chain [1] start processing\n"
     ]
    },
    {
     "name": "stdout",
     "output_type": "stream",
     "text": [
      "Params: (0.5, 0.1, 'additive', 30, 0.85, 12) | MAE: 6419.72, MAPE: 40.63%\n"
     ]
    },
    {
     "name": "stderr",
     "output_type": "stream",
     "text": [
      "02:32:09 - cmdstanpy - INFO - Chain [1] done processing\n",
      "02:32:09 - cmdstanpy - INFO - Chain [1] start processing\n"
     ]
    },
    {
     "name": "stdout",
     "output_type": "stream",
     "text": [
      "Params: (0.5, 0.1, 'additive', 30, 0.9, 8) | MAE: 6980.94, MAPE: 44.94%\n"
     ]
    },
    {
     "name": "stderr",
     "output_type": "stream",
     "text": [
      "02:32:10 - cmdstanpy - INFO - Chain [1] done processing\n",
      "02:32:10 - cmdstanpy - INFO - Chain [1] start processing\n"
     ]
    },
    {
     "name": "stdout",
     "output_type": "stream",
     "text": [
      "Params: (0.5, 0.1, 'additive', 30, 0.9, 12) | MAE: 9028.43, MAPE: 58.33%\n"
     ]
    },
    {
     "name": "stderr",
     "output_type": "stream",
     "text": [
      "02:32:11 - cmdstanpy - INFO - Chain [1] done processing\n",
      "02:32:11 - cmdstanpy - INFO - Chain [1] start processing\n"
     ]
    },
    {
     "name": "stdout",
     "output_type": "stream",
     "text": [
      "Params: (0.5, 0.1, 'additive', 35, 0.85, 8) | MAE: 16674.95, MAPE: 107.35%\n"
     ]
    },
    {
     "name": "stderr",
     "output_type": "stream",
     "text": [
      "02:32:12 - cmdstanpy - INFO - Chain [1] done processing\n",
      "02:32:12 - cmdstanpy - INFO - Chain [1] start processing\n"
     ]
    },
    {
     "name": "stdout",
     "output_type": "stream",
     "text": [
      "Params: (0.5, 0.1, 'additive', 35, 0.85, 12) | MAE: 12860.56, MAPE: 82.91%\n"
     ]
    },
    {
     "name": "stderr",
     "output_type": "stream",
     "text": [
      "02:32:13 - cmdstanpy - INFO - Chain [1] done processing\n",
      "02:32:13 - cmdstanpy - INFO - Chain [1] start processing\n"
     ]
    },
    {
     "name": "stdout",
     "output_type": "stream",
     "text": [
      "Params: (0.5, 0.1, 'additive', 35, 0.9, 8) | MAE: 6633.60, MAPE: 42.85%\n"
     ]
    },
    {
     "name": "stderr",
     "output_type": "stream",
     "text": [
      "02:32:14 - cmdstanpy - INFO - Chain [1] done processing\n",
      "02:32:14 - cmdstanpy - INFO - Chain [1] start processing\n"
     ]
    },
    {
     "name": "stdout",
     "output_type": "stream",
     "text": [
      "Params: (0.5, 0.1, 'additive', 35, 0.9, 12) | MAE: 7485.55, MAPE: 48.44%\n"
     ]
    },
    {
     "name": "stderr",
     "output_type": "stream",
     "text": [
      "02:32:15 - cmdstanpy - INFO - Chain [1] done processing\n",
      "02:32:15 - cmdstanpy - INFO - Chain [1] start processing\n"
     ]
    },
    {
     "name": "stdout",
     "output_type": "stream",
     "text": [
      "Params: (0.5, 0.1, 'multiplicative', 25, 0.85, 8) | MAE: 5430.10, MAPE: 35.19%\n"
     ]
    },
    {
     "name": "stderr",
     "output_type": "stream",
     "text": [
      "02:32:16 - cmdstanpy - INFO - Chain [1] done processing\n",
      "02:32:16 - cmdstanpy - INFO - Chain [1] start processing\n"
     ]
    },
    {
     "name": "stdout",
     "output_type": "stream",
     "text": [
      "Params: (0.5, 0.1, 'multiplicative', 25, 0.85, 12) | MAE: 8495.56, MAPE: 55.82%\n"
     ]
    },
    {
     "name": "stderr",
     "output_type": "stream",
     "text": [
      "02:32:16 - cmdstanpy - INFO - Chain [1] done processing\n",
      "02:32:17 - cmdstanpy - INFO - Chain [1] start processing\n"
     ]
    },
    {
     "name": "stdout",
     "output_type": "stream",
     "text": [
      "Params: (0.5, 0.1, 'multiplicative', 25, 0.9, 8) | MAE: 8057.47, MAPE: 49.93%\n"
     ]
    },
    {
     "name": "stderr",
     "output_type": "stream",
     "text": [
      "02:32:17 - cmdstanpy - INFO - Chain [1] done processing\n",
      "02:32:17 - cmdstanpy - INFO - Chain [1] start processing\n"
     ]
    },
    {
     "name": "stdout",
     "output_type": "stream",
     "text": [
      "Params: (0.5, 0.1, 'multiplicative', 25, 0.9, 12) | MAE: 7633.70, MAPE: 46.81%\n"
     ]
    },
    {
     "name": "stderr",
     "output_type": "stream",
     "text": [
      "02:32:18 - cmdstanpy - INFO - Chain [1] done processing\n",
      "02:32:18 - cmdstanpy - INFO - Chain [1] start processing\n"
     ]
    },
    {
     "name": "stdout",
     "output_type": "stream",
     "text": [
      "Params: (0.5, 0.1, 'multiplicative', 30, 0.85, 8) | MAE: 1633.80, MAPE: 9.86%\n"
     ]
    },
    {
     "name": "stderr",
     "output_type": "stream",
     "text": [
      "02:32:19 - cmdstanpy - INFO - Chain [1] done processing\n",
      "02:32:20 - cmdstanpy - INFO - Chain [1] start processing\n"
     ]
    },
    {
     "name": "stdout",
     "output_type": "stream",
     "text": [
      "Params: (0.5, 0.1, 'multiplicative', 30, 0.85, 12) | MAE: 1978.15, MAPE: 12.82%\n"
     ]
    },
    {
     "name": "stderr",
     "output_type": "stream",
     "text": [
      "02:32:20 - cmdstanpy - INFO - Chain [1] done processing\n",
      "02:32:20 - cmdstanpy - INFO - Chain [1] start processing\n"
     ]
    },
    {
     "name": "stdout",
     "output_type": "stream",
     "text": [
      "Params: (0.5, 0.1, 'multiplicative', 30, 0.9, 8) | MAE: 1003.06, MAPE: 6.10%\n"
     ]
    },
    {
     "name": "stderr",
     "output_type": "stream",
     "text": [
      "02:32:21 - cmdstanpy - INFO - Chain [1] done processing\n",
      "02:32:21 - cmdstanpy - INFO - Chain [1] start processing\n"
     ]
    },
    {
     "name": "stdout",
     "output_type": "stream",
     "text": [
      "Params: (0.5, 0.1, 'multiplicative', 30, 0.9, 12) | MAE: 1680.33, MAPE: 10.44%\n"
     ]
    },
    {
     "name": "stderr",
     "output_type": "stream",
     "text": [
      "02:32:22 - cmdstanpy - INFO - Chain [1] done processing\n",
      "02:32:22 - cmdstanpy - INFO - Chain [1] start processing\n"
     ]
    },
    {
     "name": "stdout",
     "output_type": "stream",
     "text": [
      "Params: (0.5, 0.1, 'multiplicative', 35, 0.85, 8) | MAE: 8479.04, MAPE: 54.00%\n"
     ]
    },
    {
     "name": "stderr",
     "output_type": "stream",
     "text": [
      "02:32:23 - cmdstanpy - INFO - Chain [1] done processing\n",
      "02:32:24 - cmdstanpy - INFO - Chain [1] start processing\n"
     ]
    },
    {
     "name": "stdout",
     "output_type": "stream",
     "text": [
      "Params: (0.5, 0.1, 'multiplicative', 35, 0.85, 12) | MAE: 5151.57, MAPE: 32.78%\n"
     ]
    },
    {
     "name": "stderr",
     "output_type": "stream",
     "text": [
      "02:32:24 - cmdstanpy - INFO - Chain [1] done processing\n",
      "02:32:24 - cmdstanpy - INFO - Chain [1] start processing\n"
     ]
    },
    {
     "name": "stdout",
     "output_type": "stream",
     "text": [
      "Params: (0.5, 0.1, 'multiplicative', 35, 0.9, 8) | MAE: 1260.45, MAPE: 7.61%\n"
     ]
    },
    {
     "name": "stderr",
     "output_type": "stream",
     "text": [
      "02:32:25 - cmdstanpy - INFO - Chain [1] done processing\n",
      "02:32:25 - cmdstanpy - INFO - Chain [1] start processing\n"
     ]
    },
    {
     "name": "stdout",
     "output_type": "stream",
     "text": [
      "Params: (0.5, 0.1, 'multiplicative', 35, 0.9, 12) | MAE: 1109.02, MAPE: 6.90%\n"
     ]
    },
    {
     "name": "stderr",
     "output_type": "stream",
     "text": [
      "02:32:26 - cmdstanpy - INFO - Chain [1] done processing\n",
      "02:32:26 - cmdstanpy - INFO - Chain [1] start processing\n"
     ]
    },
    {
     "name": "stdout",
     "output_type": "stream",
     "text": [
      "Params: (0.5, 1.0, 'additive', 25, 0.85, 8) | MAE: 5951.99, MAPE: 37.21%\n"
     ]
    },
    {
     "name": "stderr",
     "output_type": "stream",
     "text": [
      "02:32:27 - cmdstanpy - INFO - Chain [1] done processing\n",
      "02:32:27 - cmdstanpy - INFO - Chain [1] start processing\n"
     ]
    },
    {
     "name": "stdout",
     "output_type": "stream",
     "text": [
      "Params: (0.5, 1.0, 'additive', 25, 0.85, 12) | MAE: 3145.34, MAPE: 19.45%\n"
     ]
    },
    {
     "name": "stderr",
     "output_type": "stream",
     "text": [
      "02:32:28 - cmdstanpy - INFO - Chain [1] done processing\n",
      "02:32:28 - cmdstanpy - INFO - Chain [1] start processing\n"
     ]
    },
    {
     "name": "stdout",
     "output_type": "stream",
     "text": [
      "Params: (0.5, 1.0, 'additive', 25, 0.9, 8) | MAE: 22346.59, MAPE: 142.09%\n"
     ]
    },
    {
     "name": "stderr",
     "output_type": "stream",
     "text": [
      "02:32:28 - cmdstanpy - INFO - Chain [1] done processing\n",
      "02:32:28 - cmdstanpy - INFO - Chain [1] start processing\n"
     ]
    },
    {
     "name": "stdout",
     "output_type": "stream",
     "text": [
      "Params: (0.5, 1.0, 'additive', 25, 0.9, 12) | MAE: 20661.90, MAPE: 131.43%\n"
     ]
    },
    {
     "name": "stderr",
     "output_type": "stream",
     "text": [
      "02:32:29 - cmdstanpy - INFO - Chain [1] done processing\n",
      "02:32:29 - cmdstanpy - INFO - Chain [1] start processing\n"
     ]
    },
    {
     "name": "stdout",
     "output_type": "stream",
     "text": [
      "Params: (0.5, 1.0, 'additive', 30, 0.85, 8) | MAE: 10687.15, MAPE: 68.04%\n"
     ]
    },
    {
     "name": "stderr",
     "output_type": "stream",
     "text": [
      "02:32:30 - cmdstanpy - INFO - Chain [1] done processing\n",
      "02:32:30 - cmdstanpy - INFO - Chain [1] start processing\n"
     ]
    },
    {
     "name": "stdout",
     "output_type": "stream",
     "text": [
      "Params: (0.5, 1.0, 'additive', 30, 0.85, 12) | MAE: 8180.19, MAPE: 52.07%\n"
     ]
    },
    {
     "name": "stderr",
     "output_type": "stream",
     "text": [
      "02:32:31 - cmdstanpy - INFO - Chain [1] done processing\n",
      "02:32:31 - cmdstanpy - INFO - Chain [1] start processing\n"
     ]
    },
    {
     "name": "stdout",
     "output_type": "stream",
     "text": [
      "Params: (0.5, 1.0, 'additive', 30, 0.9, 8) | MAE: 7460.00, MAPE: 48.04%\n"
     ]
    },
    {
     "name": "stderr",
     "output_type": "stream",
     "text": [
      "02:32:32 - cmdstanpy - INFO - Chain [1] done processing\n",
      "02:32:32 - cmdstanpy - INFO - Chain [1] start processing\n"
     ]
    },
    {
     "name": "stdout",
     "output_type": "stream",
     "text": [
      "Params: (0.5, 1.0, 'additive', 30, 0.9, 12) | MAE: 10584.48, MAPE: 68.53%\n"
     ]
    },
    {
     "name": "stderr",
     "output_type": "stream",
     "text": [
      "02:32:32 - cmdstanpy - INFO - Chain [1] done processing\n",
      "02:32:33 - cmdstanpy - INFO - Chain [1] start processing\n"
     ]
    },
    {
     "name": "stdout",
     "output_type": "stream",
     "text": [
      "Params: (0.5, 1.0, 'additive', 35, 0.85, 8) | MAE: 18629.11, MAPE: 120.12%\n"
     ]
    },
    {
     "name": "stderr",
     "output_type": "stream",
     "text": [
      "02:32:34 - cmdstanpy - INFO - Chain [1] done processing\n",
      "02:32:34 - cmdstanpy - INFO - Chain [1] start processing\n"
     ]
    },
    {
     "name": "stdout",
     "output_type": "stream",
     "text": [
      "Params: (0.5, 1.0, 'additive', 35, 0.85, 12) | MAE: 15317.83, MAPE: 98.91%\n"
     ]
    },
    {
     "name": "stderr",
     "output_type": "stream",
     "text": [
      "02:32:34 - cmdstanpy - INFO - Chain [1] done processing\n",
      "02:32:35 - cmdstanpy - INFO - Chain [1] start processing\n"
     ]
    },
    {
     "name": "stdout",
     "output_type": "stream",
     "text": [
      "Params: (0.5, 1.0, 'additive', 35, 0.9, 8) | MAE: 7763.81, MAPE: 50.26%\n"
     ]
    },
    {
     "name": "stderr",
     "output_type": "stream",
     "text": [
      "02:32:35 - cmdstanpy - INFO - Chain [1] done processing\n",
      "02:32:36 - cmdstanpy - INFO - Chain [1] start processing\n"
     ]
    },
    {
     "name": "stdout",
     "output_type": "stream",
     "text": [
      "Params: (0.5, 1.0, 'additive', 35, 0.9, 12) | MAE: 9020.40, MAPE: 58.57%\n"
     ]
    },
    {
     "name": "stderr",
     "output_type": "stream",
     "text": [
      "02:32:36 - cmdstanpy - INFO - Chain [1] done processing\n",
      "02:32:37 - cmdstanpy - INFO - Chain [1] start processing\n"
     ]
    },
    {
     "name": "stdout",
     "output_type": "stream",
     "text": [
      "Params: (0.5, 1.0, 'multiplicative', 25, 0.85, 8) | MAE: 5225.40, MAPE: 33.82%\n"
     ]
    },
    {
     "name": "stderr",
     "output_type": "stream",
     "text": [
      "02:32:37 - cmdstanpy - INFO - Chain [1] done processing\n",
      "02:32:38 - cmdstanpy - INFO - Chain [1] start processing\n"
     ]
    },
    {
     "name": "stdout",
     "output_type": "stream",
     "text": [
      "Params: (0.5, 1.0, 'multiplicative', 25, 0.85, 12) | MAE: 9337.26, MAPE: 61.51%\n"
     ]
    },
    {
     "name": "stderr",
     "output_type": "stream",
     "text": [
      "02:32:38 - cmdstanpy - INFO - Chain [1] done processing\n",
      "02:32:38 - cmdstanpy - INFO - Chain [1] start processing\n"
     ]
    },
    {
     "name": "stdout",
     "output_type": "stream",
     "text": [
      "Params: (0.5, 1.0, 'multiplicative', 25, 0.9, 8) | MAE: 9106.07, MAPE: 56.66%\n"
     ]
    },
    {
     "name": "stderr",
     "output_type": "stream",
     "text": [
      "02:32:39 - cmdstanpy - INFO - Chain [1] done processing\n",
      "02:32:39 - cmdstanpy - INFO - Chain [1] start processing\n"
     ]
    },
    {
     "name": "stdout",
     "output_type": "stream",
     "text": [
      "Params: (0.5, 1.0, 'multiplicative', 25, 0.9, 12) | MAE: 8414.70, MAPE: 51.86%\n"
     ]
    },
    {
     "name": "stderr",
     "output_type": "stream",
     "text": [
      "02:32:40 - cmdstanpy - INFO - Chain [1] done processing\n",
      "02:32:40 - cmdstanpy - INFO - Chain [1] start processing\n"
     ]
    },
    {
     "name": "stdout",
     "output_type": "stream",
     "text": [
      "Params: (0.5, 1.0, 'multiplicative', 30, 0.85, 8) | MAE: 1538.08, MAPE: 9.08%\n"
     ]
    },
    {
     "name": "stderr",
     "output_type": "stream",
     "text": [
      "02:32:41 - cmdstanpy - INFO - Chain [1] done processing\n",
      "02:32:41 - cmdstanpy - INFO - Chain [1] start processing\n"
     ]
    },
    {
     "name": "stdout",
     "output_type": "stream",
     "text": [
      "Params: (0.5, 1.0, 'multiplicative', 30, 0.85, 12) | MAE: 1683.12, MAPE: 10.38%\n"
     ]
    },
    {
     "name": "stderr",
     "output_type": "stream",
     "text": [
      "02:32:41 - cmdstanpy - INFO - Chain [1] done processing\n",
      "02:32:41 - cmdstanpy - INFO - Chain [1] start processing\n"
     ]
    },
    {
     "name": "stdout",
     "output_type": "stream",
     "text": [
      "Params: (0.5, 1.0, 'multiplicative', 30, 0.9, 8) | MAE: 1030.68, MAPE: 6.29%\n"
     ]
    },
    {
     "name": "stderr",
     "output_type": "stream",
     "text": [
      "02:32:42 - cmdstanpy - INFO - Chain [1] done processing\n",
      "02:32:42 - cmdstanpy - INFO - Chain [1] start processing\n"
     ]
    },
    {
     "name": "stdout",
     "output_type": "stream",
     "text": [
      "Params: (0.5, 1.0, 'multiplicative', 30, 0.9, 12) | MAE: 2654.90, MAPE: 16.77%\n"
     ]
    },
    {
     "name": "stderr",
     "output_type": "stream",
     "text": [
      "02:32:43 - cmdstanpy - INFO - Chain [1] done processing\n",
      "02:32:43 - cmdstanpy - INFO - Chain [1] start processing\n"
     ]
    },
    {
     "name": "stdout",
     "output_type": "stream",
     "text": [
      "Params: (0.5, 1.0, 'multiplicative', 35, 0.85, 8) | MAE: 11661.67, MAPE: 74.34%\n"
     ]
    },
    {
     "name": "stderr",
     "output_type": "stream",
     "text": [
      "02:32:44 - cmdstanpy - INFO - Chain [1] done processing\n",
      "02:32:44 - cmdstanpy - INFO - Chain [1] start processing\n"
     ]
    },
    {
     "name": "stdout",
     "output_type": "stream",
     "text": [
      "Params: (0.5, 1.0, 'multiplicative', 35, 0.85, 12) | MAE: 6977.52, MAPE: 44.73%\n"
     ]
    },
    {
     "name": "stderr",
     "output_type": "stream",
     "text": [
      "02:32:45 - cmdstanpy - INFO - Chain [1] done processing\n",
      "02:32:45 - cmdstanpy - INFO - Chain [1] start processing\n"
     ]
    },
    {
     "name": "stdout",
     "output_type": "stream",
     "text": [
      "Params: (0.5, 1.0, 'multiplicative', 35, 0.9, 8) | MAE: 1427.53, MAPE: 8.50%\n"
     ]
    },
    {
     "name": "stderr",
     "output_type": "stream",
     "text": [
      "02:32:46 - cmdstanpy - INFO - Chain [1] done processing\n",
      "02:32:46 - cmdstanpy - INFO - Chain [1] start processing\n"
     ]
    },
    {
     "name": "stdout",
     "output_type": "stream",
     "text": [
      "Params: (0.5, 1.0, 'multiplicative', 35, 0.9, 12) | MAE: 1137.01, MAPE: 7.06%\n"
     ]
    },
    {
     "name": "stderr",
     "output_type": "stream",
     "text": [
      "02:32:47 - cmdstanpy - INFO - Chain [1] done processing\n",
      "02:32:47 - cmdstanpy - INFO - Chain [1] start processing\n"
     ]
    },
    {
     "name": "stdout",
     "output_type": "stream",
     "text": [
      "Params: (0.5, 10.0, 'additive', 25, 0.85, 8) | MAE: 5805.62, MAPE: 36.24%\n"
     ]
    },
    {
     "name": "stderr",
     "output_type": "stream",
     "text": [
      "02:32:47 - cmdstanpy - INFO - Chain [1] done processing\n",
      "02:32:47 - cmdstanpy - INFO - Chain [1] start processing\n"
     ]
    },
    {
     "name": "stdout",
     "output_type": "stream",
     "text": [
      "Params: (0.5, 10.0, 'additive', 25, 0.85, 12) | MAE: 4258.89, MAPE: 26.82%\n"
     ]
    },
    {
     "name": "stderr",
     "output_type": "stream",
     "text": [
      "02:32:48 - cmdstanpy - INFO - Chain [1] done processing\n",
      "02:32:48 - cmdstanpy - INFO - Chain [1] start processing\n"
     ]
    },
    {
     "name": "stdout",
     "output_type": "stream",
     "text": [
      "Params: (0.5, 10.0, 'additive', 25, 0.9, 8) | MAE: 22965.68, MAPE: 146.13%\n"
     ]
    },
    {
     "name": "stderr",
     "output_type": "stream",
     "text": [
      "02:32:49 - cmdstanpy - INFO - Chain [1] done processing\n",
      "02:32:49 - cmdstanpy - INFO - Chain [1] start processing\n"
     ]
    },
    {
     "name": "stdout",
     "output_type": "stream",
     "text": [
      "Params: (0.5, 10.0, 'additive', 25, 0.9, 12) | MAE: 22627.37, MAPE: 143.85%\n"
     ]
    },
    {
     "name": "stderr",
     "output_type": "stream",
     "text": [
      "02:32:50 - cmdstanpy - INFO - Chain [1] done processing\n",
      "02:32:50 - cmdstanpy - INFO - Chain [1] start processing\n"
     ]
    },
    {
     "name": "stdout",
     "output_type": "stream",
     "text": [
      "Params: (0.5, 10.0, 'additive', 30, 0.85, 8) | MAE: 10506.57, MAPE: 66.97%\n"
     ]
    },
    {
     "name": "stderr",
     "output_type": "stream",
     "text": [
      "02:32:51 - cmdstanpy - INFO - Chain [1] done processing\n",
      "02:32:51 - cmdstanpy - INFO - Chain [1] start processing\n"
     ]
    },
    {
     "name": "stdout",
     "output_type": "stream",
     "text": [
      "Params: (0.5, 10.0, 'additive', 30, 0.85, 12) | MAE: 8305.55, MAPE: 52.79%\n"
     ]
    },
    {
     "name": "stderr",
     "output_type": "stream",
     "text": [
      "02:32:52 - cmdstanpy - INFO - Chain [1] done processing\n",
      "02:32:52 - cmdstanpy - INFO - Chain [1] start processing\n"
     ]
    },
    {
     "name": "stdout",
     "output_type": "stream",
     "text": [
      "Params: (0.5, 10.0, 'additive', 30, 0.9, 8) | MAE: 9412.41, MAPE: 60.82%\n"
     ]
    },
    {
     "name": "stderr",
     "output_type": "stream",
     "text": [
      "02:32:53 - cmdstanpy - INFO - Chain [1] done processing\n",
      "02:32:53 - cmdstanpy - INFO - Chain [1] start processing\n"
     ]
    },
    {
     "name": "stdout",
     "output_type": "stream",
     "text": [
      "Params: (0.5, 10.0, 'additive', 30, 0.9, 12) | MAE: 10274.94, MAPE: 66.46%\n"
     ]
    },
    {
     "name": "stderr",
     "output_type": "stream",
     "text": [
      "02:32:54 - cmdstanpy - INFO - Chain [1] done processing\n",
      "02:32:54 - cmdstanpy - INFO - Chain [1] start processing\n"
     ]
    },
    {
     "name": "stdout",
     "output_type": "stream",
     "text": [
      "Params: (0.5, 10.0, 'additive', 35, 0.85, 8) | MAE: 18890.77, MAPE: 121.80%\n"
     ]
    },
    {
     "name": "stderr",
     "output_type": "stream",
     "text": [
      "02:32:55 - cmdstanpy - INFO - Chain [1] done processing\n",
      "02:32:55 - cmdstanpy - INFO - Chain [1] start processing\n"
     ]
    },
    {
     "name": "stdout",
     "output_type": "stream",
     "text": [
      "Params: (0.5, 10.0, 'additive', 35, 0.85, 12) | MAE: 14021.09, MAPE: 90.47%\n"
     ]
    },
    {
     "name": "stderr",
     "output_type": "stream",
     "text": [
      "02:32:56 - cmdstanpy - INFO - Chain [1] done processing\n",
      "02:32:56 - cmdstanpy - INFO - Chain [1] start processing\n"
     ]
    },
    {
     "name": "stdout",
     "output_type": "stream",
     "text": [
      "Params: (0.5, 10.0, 'additive', 35, 0.9, 8) | MAE: 7677.00, MAPE: 49.69%\n"
     ]
    },
    {
     "name": "stderr",
     "output_type": "stream",
     "text": [
      "02:32:56 - cmdstanpy - INFO - Chain [1] done processing\n",
      "02:32:57 - cmdstanpy - INFO - Chain [1] start processing\n"
     ]
    },
    {
     "name": "stdout",
     "output_type": "stream",
     "text": [
      "Params: (0.5, 10.0, 'additive', 35, 0.9, 12) | MAE: 8976.49, MAPE: 58.25%\n"
     ]
    },
    {
     "name": "stderr",
     "output_type": "stream",
     "text": [
      "02:32:57 - cmdstanpy - INFO - Chain [1] done processing\n",
      "02:32:57 - cmdstanpy - INFO - Chain [1] start processing\n"
     ]
    },
    {
     "name": "stdout",
     "output_type": "stream",
     "text": [
      "Params: (0.5, 10.0, 'multiplicative', 25, 0.85, 8) | MAE: 3220.16, MAPE: 20.47%\n"
     ]
    },
    {
     "name": "stderr",
     "output_type": "stream",
     "text": [
      "02:32:58 - cmdstanpy - INFO - Chain [1] done processing\n",
      "02:32:59 - cmdstanpy - INFO - Chain [1] start processing\n"
     ]
    },
    {
     "name": "stdout",
     "output_type": "stream",
     "text": [
      "Params: (0.5, 10.0, 'multiplicative', 25, 0.85, 12) | MAE: 10459.74, MAPE: 69.16%\n"
     ]
    },
    {
     "name": "stderr",
     "output_type": "stream",
     "text": [
      "02:32:59 - cmdstanpy - INFO - Chain [1] done processing\n",
      "02:32:59 - cmdstanpy - INFO - Chain [1] start processing\n"
     ]
    },
    {
     "name": "stdout",
     "output_type": "stream",
     "text": [
      "Params: (0.5, 10.0, 'multiplicative', 25, 0.9, 8) | MAE: 9095.36, MAPE: 56.55%\n"
     ]
    },
    {
     "name": "stderr",
     "output_type": "stream",
     "text": [
      "02:32:59 - cmdstanpy - INFO - Chain [1] done processing\n",
      "02:32:59 - cmdstanpy - INFO - Chain [1] start processing\n"
     ]
    },
    {
     "name": "stdout",
     "output_type": "stream",
     "text": [
      "Params: (0.5, 10.0, 'multiplicative', 25, 0.9, 12) | MAE: 2944.97, MAPE: 17.74%\n"
     ]
    },
    {
     "name": "stderr",
     "output_type": "stream",
     "text": [
      "02:33:00 - cmdstanpy - INFO - Chain [1] done processing\n",
      "02:33:00 - cmdstanpy - INFO - Chain [1] start processing\n"
     ]
    },
    {
     "name": "stdout",
     "output_type": "stream",
     "text": [
      "Params: (0.5, 10.0, 'multiplicative', 30, 0.85, 8) | MAE: 1922.17, MAPE: 11.78%\n"
     ]
    },
    {
     "name": "stderr",
     "output_type": "stream",
     "text": [
      "02:33:01 - cmdstanpy - INFO - Chain [1] done processing\n",
      "02:33:01 - cmdstanpy - INFO - Chain [1] start processing\n"
     ]
    },
    {
     "name": "stdout",
     "output_type": "stream",
     "text": [
      "Params: (0.5, 10.0, 'multiplicative', 30, 0.85, 12) | MAE: 2255.62, MAPE: 14.60%\n"
     ]
    },
    {
     "name": "stderr",
     "output_type": "stream",
     "text": [
      "02:33:02 - cmdstanpy - INFO - Chain [1] done processing\n",
      "02:33:02 - cmdstanpy - INFO - Chain [1] start processing\n"
     ]
    },
    {
     "name": "stdout",
     "output_type": "stream",
     "text": [
      "Params: (0.5, 10.0, 'multiplicative', 30, 0.9, 8) | MAE: 1844.45, MAPE: 11.45%\n"
     ]
    },
    {
     "name": "stderr",
     "output_type": "stream",
     "text": [
      "02:33:03 - cmdstanpy - INFO - Chain [1] done processing\n",
      "02:33:03 - cmdstanpy - INFO - Chain [1] start processing\n"
     ]
    },
    {
     "name": "stdout",
     "output_type": "stream",
     "text": [
      "Params: (0.5, 10.0, 'multiplicative', 30, 0.9, 12) | MAE: 3030.26, MAPE: 19.32%\n"
     ]
    },
    {
     "name": "stderr",
     "output_type": "stream",
     "text": [
      "02:33:03 - cmdstanpy - INFO - Chain [1] done processing\n",
      "02:33:04 - cmdstanpy - INFO - Chain [1] start processing\n"
     ]
    },
    {
     "name": "stdout",
     "output_type": "stream",
     "text": [
      "Params: (0.5, 10.0, 'multiplicative', 35, 0.85, 8) | MAE: 7507.71, MAPE: 48.26%\n"
     ]
    },
    {
     "name": "stderr",
     "output_type": "stream",
     "text": [
      "02:33:05 - cmdstanpy - INFO - Chain [1] done processing\n",
      "02:33:05 - cmdstanpy - INFO - Chain [1] start processing\n"
     ]
    },
    {
     "name": "stdout",
     "output_type": "stream",
     "text": [
      "Params: (0.5, 10.0, 'multiplicative', 35, 0.85, 12) | MAE: 8084.36, MAPE: 51.44%\n"
     ]
    },
    {
     "name": "stderr",
     "output_type": "stream",
     "text": [
      "02:33:05 - cmdstanpy - INFO - Chain [1] done processing\n",
      "02:33:06 - cmdstanpy - INFO - Chain [1] start processing\n"
     ]
    },
    {
     "name": "stdout",
     "output_type": "stream",
     "text": [
      "Params: (0.5, 10.0, 'multiplicative', 35, 0.9, 8) | MAE: 1498.56, MAPE: 8.92%\n"
     ]
    },
    {
     "name": "stderr",
     "output_type": "stream",
     "text": [
      "02:33:06 - cmdstanpy - INFO - Chain [1] done processing\n",
      "02:33:06 - cmdstanpy - INFO - Chain [1] start processing\n"
     ]
    },
    {
     "name": "stdout",
     "output_type": "stream",
     "text": [
      "Params: (0.5, 10.0, 'multiplicative', 35, 0.9, 12) | MAE: 1384.49, MAPE: 9.27%\n",
      "\n",
      "Best Params: (0.1, 0.1, 'multiplicative', 30, 0.85, 12)\n",
      "Best MAE: 905.89, MAPE: 5.55%\n"
     ]
    },
    {
     "name": "stderr",
     "output_type": "stream",
     "text": [
      "02:33:07 - cmdstanpy - INFO - Chain [1] done processing\n"
     ]
    }
   ],
   "source": [
    "import pandas as pd\n",
    "import numpy as np\n",
    "from prophet import Prophet\n",
    "from sklearn.metrics import mean_absolute_error\n",
    "from itertools import product\n",
    "import matplotlib.pyplot as plt\n",
    "\n",
    "# Load data\n",
    "df = pd.read_csv('cast.csv').drop(columns=['Unnamed: 0'])\n",
    "df['ds'] = pd.to_datetime(df['ds'], format='%Y-%m-%d')\n",
    "\n",
    "# Generate synthetic regressors\n",
    "np.random.seed(42)\n",
    "df['holiday_index'] = np.random.uniform(0, 1, len(df))\n",
    "df['macro_factor'] = np.random.uniform(0, 1, len(df))\n",
    "\n",
    "# Train-test split\n",
    "df_train = df[(df['ds'] >= '2021-02-05') & (df['ds'] <= '2023-12-31')]\n",
    "df_test = df[(df['ds'] >= '2024-01-01') & (df['ds'] <= '2025-02-04')]\n",
    "\n",
    "# Enhanced parameter grid\n",
    "param_grid = {\n",
    "    'changepoint_prior_scale': [0.001, 0.01, 0.1, 0.5],\n",
    "    'seasonality_prior_scale': [0.01, 0.1, 1.0, 10.0],\n",
    "    'seasonality_mode': ['additive', 'multiplicative'],\n",
    "    'n_changepoints': [25, 30, 35],\n",
    "    'changepoint_range': [0.85, 0.9],\n",
    "    'yearly_fourier_order': [8, 12]  # New parameter for custom seasonality    \n",
    "}\n",
    "\n",
    "# Performance metric calculation\n",
    "def mean_absolute_percentage_error(y_true, y_pred):\n",
    "    return np.mean(np.abs((y_true - y_pred) / y_true)) * 100\n",
    "\n",
    "best_mae = float(\"inf\")\n",
    "best_params = None\n",
    "best_model = None\n",
    "\n",
    "# Grid search implementation\n",
    "for params in product(*param_grid.values()):\n",
    "    try:\n",
    "        # Unpack parameters\n",
    "        (cps, sps, smode, ncp, crange, yfourier) = params\n",
    "        \n",
    "        # Initialize model with current parameters\n",
    "        model = Prophet(\n",
    "            changepoint_prior_scale=cps,\n",
    "            seasonality_prior_scale=sps,\n",
    "            seasonality_mode=smode,\n",
    "            n_changepoints=ncp,\n",
    "            changepoint_range=crange,\n",
    "            yearly_seasonality=False  # Disable default yearly seasonality\n",
    "        )\n",
    "        \n",
    "        # Add custom seasonality with specified Fourier order\n",
    "        model.add_seasonality(\n",
    "            name='yearly',\n",
    "            period=365.25,\n",
    "            fourier_order=yfourier\n",
    "        )\n",
    "        \n",
    "        # Add regressors\n",
    "        model.add_regressor('holiday_index')\n",
    "        model.add_regressor('macro_factor')\n",
    "        \n",
    "        # Fit model\n",
    "        model.fit(df_train)\n",
    "        \n",
    "        # Create future dataframe\n",
    "        future = model.make_future_dataframe(periods=len(df_test), include_history=False)\n",
    "        future['holiday_index'] = df_test['holiday_index'].values\n",
    "        future['macro_factor'] = df_test['macro_factor'].values\n",
    "        \n",
    "        # Generate predictions\n",
    "        forecast = model.predict(future)\n",
    "        results = pd.merge(df_test, forecast[['ds', 'yhat']], on='ds')\n",
    "        \n",
    "        # Calculate metrics\n",
    "        mae = mean_absolute_error(results['y'], results['yhat'])\n",
    "        mape = mean_absolute_percentage_error(results['y'], results['yhat'])\n",
    "        \n",
    "        print(f\"Params: {params} | MAE: {mae:.2f}, MAPE: {mape:.2f}%\")\n",
    "        \n",
    "        if mae < best_mae:\n",
    "            best_mae = mae\n",
    "            best_mape = mape\n",
    "            best_params = params\n",
    "            best_model = model\n",
    "            \n",
    "    except Exception as e:\n",
    "        print(f\"Error with params {params}: {str(e)}\")\n",
    "        continue\n",
    "\n",
    "print(f\"\\nBest Params: {best_params}\")\n",
    "print(f\"Best MAE: {best_mae:.2f}, MAPE: {best_mape:.2f}%\")\n",
    "\n",
    "# Final model training and forecasting\n",
    "full_model = Prophet(\n",
    "    changepoint_prior_scale=best_params[0],\n",
    "    seasonality_prior_scale=best_params[1],\n",
    "    seasonality_mode=best_params[2],\n",
    "    n_changepoints=best_params[3],\n",
    "    changepoint_range=best_params[4],\n",
    "    yearly_seasonality=False\n",
    ").add_seasonality(\n",
    "    name='yearly',\n",
    "    period=365.25,\n",
    "    fourier_order=best_params[5]\n",
    ").add_regressor('holiday_index').add_regressor('macro_factor')\n",
    "\n",
    "full_model.fit(df)\n",
    "\n",
    "# Create 1-year future dataframe\n",
    "future = full_model.make_future_dataframe(periods=365, freq='D')\n",
    "future['holiday_index'] = np.random.uniform(0, 1, len(future))  # Replace with actual data\n",
    "future['macro_factor'] = np.random.uniform(0, 1, len(future))   # Replace with actual data\n",
    "\n",
    "# Generate forecast\n",
    "forecast = full_model.predict(future)"
   ]
  },
  {
   "cell_type": "markdown",
   "id": "8a886ff4-16f3-4ec5-9868-b855b57cb333",
   "metadata": {},
   "source": [
    "## Prophet"
   ]
  },
  {
   "cell_type": "code",
   "execution_count": 33,
   "id": "a93053dd-b36f-4d02-8157-5e6b099b6b50",
   "metadata": {},
   "outputs": [
    {
     "data": {
      "image/png": "[encoded data removed]",
      "text/plain": [
       "<Figure size 1400x800 with 1 Axes>"
      ]
     },
     "metadata": {},
     "output_type": "display_data"
    }
   ],
   "source": [
    "import matplotlib.pyplot as plt\n",
    "\n",
    "# Find the last point of historical data\n",
    "last_historical_date = df['ds'].max()\n",
    "last_historical_value = df.loc[df['ds'] == last_historical_date, 'y'].values[0]\n",
    "\n",
    "# Add the last historical point to the forecast for smooth transition\n",
    "one_year_forecast = forecast[forecast['ds'] > last_historical_date]\n",
    "smooth_forecast = pd.concat([\n",
    "    pd.DataFrame({'ds': [last_historical_date], 'yhat': [last_historical_value]}),\n",
    "    one_year_forecast[['ds', 'yhat']]\n",
    "])\n",
    "\n",
    "# Visualization: Historical and Forecasted Data\n",
    "plt.figure(figsize=(14, 8))\n",
    "\n",
    "# Plot historical data\n",
    "plt.plot(df['ds'], df['y'], label='Historical Data', color='blue')\n",
    "\n",
    "# Plot 1-year forecast with a smooth transition\n",
    "plt.plot(smooth_forecast['ds'], smooth_forecast['yhat'], label='1-Year Forecast', color='red')\n",
    "\n",
    "# # Add confidence intervals for the forecast\n",
    "# plt.fill_between(\n",
    "#     one_year_forecast['ds'], \n",
    "#     one_year_forecast['yhat_lower'], \n",
    "#     one_year_forecast['yhat_upper'], \n",
    "#     color='pink', alpha=0.3, label='Uncertainty Interval'\n",
    "# )\n",
    "\n",
    "# Add title, labels, and legend\n",
    "plt.title('1-Year Stock Price Forecast with Smooth Transition', fontsize=16)\n",
    "plt.xlabel('Date', fontsize=12)\n",
    "plt.ylabel('Stock Price', fontsize=12)\n",
    "plt.legend()\n",
    "plt.grid(True, linestyle='--', alpha=0.6)\n",
    "plt.tight_layout()\n",
    "plt.show()\n"
   ]
  },
  {
   "cell_type": "code",
   "execution_count": 34,
   "id": "f924e539-e9d0-415d-8fdb-108973d7b096",
   "metadata": {},
   "outputs": [
    {
     "data": {
      "image/png": "[encoded data removed]",
      "text/plain": [
       "<Figure size 1400x800 with 1 Axes>"
      ]
     },
     "metadata": {},
     "output_type": "display_data"
    }
   ],
   "source": [
    "import matplotlib.pyplot as plt\n",
    "import matplotlib.dates as mdates\n",
    "\n",
    "# Visualization of 1-Year Ahead Prediction with Monthly X-Ticks\n",
    "plt.figure(figsize=(14, 8))\n",
    "\n",
    "# Plot 1-year forecast\n",
    "plt.plot(one_year_forecast['ds'], one_year_forecast['yhat'], label='1-Year Forecast', color='red')\n",
    "\n",
    "# Add title and labels\n",
    "plt.title('1-Year Stock Price Forecast', fontsize=16)\n",
    "plt.xlabel('Date', fontsize=12)\n",
    "plt.ylabel('Stock Price', fontsize=12)\n",
    "\n",
    "# Add x-ticks for every month\n",
    "plt.gca().xaxis.set_major_locator(mdates.MonthLocator())  # Major ticks: every month\n",
    "plt.gca().xaxis.set_major_formatter(mdates.DateFormatter('%b %Y'))  # Format as \"Month Year\"\n",
    "plt.xticks(rotation=45, fontsize=10)\n",
    "\n",
    "# Add legend and grid\n",
    "plt.legend()\n",
    "plt.grid(True, linestyle='--', alpha=0.6)\n",
    "plt.tight_layout()\n",
    "\n",
    "# Show the plot\n",
    "plt.show()"
   ]
  },
  {
   "cell_type": "code",
   "execution_count": 35,
   "id": "127fb26b-d0cf-4c61-9f3f-eea2a875a2b6",
   "metadata": {},
   "outputs": [
    {
     "data": {
      "text/html": [
       "<div>\n",
       "<style scoped>\n",
       "    .dataframe tbody tr th:only-of-type {\n",
       "        vertical-align: middle;\n",
       "    }\n",
       "\n",
       "    .dataframe tbody tr th {\n",
       "        vertical-align: top;\n",
       "    }\n",
       "\n",
       "    .dataframe thead th {\n",
       "        text-align: right;\n",
       "    }\n",
       "</style>\n",
       "<table border=\"1\" class=\"dataframe\">\n",
       "  <thead>\n",
       "    <tr style=\"text-align: right;\">\n",
       "      <th></th>\n",
       "      <th>ds</th>\n",
       "      <th>yhat</th>\n",
       "    </tr>\n",
       "  </thead>\n",
       "  <tbody>\n",
       "    <tr>\n",
       "      <th>1816</th>\n",
       "      <td>2026-01-26</td>\n",
       "      <td>6204.675373</td>\n",
       "    </tr>\n",
       "    <tr>\n",
       "      <th>1817</th>\n",
       "      <td>2026-01-27</td>\n",
       "      <td>6226.418532</td>\n",
       "    </tr>\n",
       "    <tr>\n",
       "      <th>1818</th>\n",
       "      <td>2026-01-28</td>\n",
       "      <td>6216.996258</td>\n",
       "    </tr>\n",
       "    <tr>\n",
       "      <th>1819</th>\n",
       "      <td>2026-01-29</td>\n",
       "      <td>6232.167606</td>\n",
       "    </tr>\n",
       "    <tr>\n",
       "      <th>1820</th>\n",
       "      <td>2026-01-30</td>\n",
       "      <td>6239.288655</td>\n",
       "    </tr>\n",
       "    <tr>\n",
       "      <th>1821</th>\n",
       "      <td>2026-01-31</td>\n",
       "      <td>6260.820668</td>\n",
       "    </tr>\n",
       "    <tr>\n",
       "      <th>1822</th>\n",
       "      <td>2026-02-01</td>\n",
       "      <td>6276.314657</td>\n",
       "    </tr>\n",
       "    <tr>\n",
       "      <th>1823</th>\n",
       "      <td>2026-02-02</td>\n",
       "      <td>6274.031550</td>\n",
       "    </tr>\n",
       "    <tr>\n",
       "      <th>1824</th>\n",
       "      <td>2026-02-03</td>\n",
       "      <td>6256.956033</td>\n",
       "    </tr>\n",
       "    <tr>\n",
       "      <th>1825</th>\n",
       "      <td>2026-02-04</td>\n",
       "      <td>6251.587907</td>\n",
       "    </tr>\n",
       "  </tbody>\n",
       "</table>\n",
       "</div>"
      ],
      "text/plain": [
       "             ds         yhat\n",
       "1816 2026-01-26  6204.675373\n",
       "1817 2026-01-27  6226.418532\n",
       "1818 2026-01-28  6216.996258\n",
       "1819 2026-01-29  6232.167606\n",
       "1820 2026-01-30  6239.288655\n",
       "1821 2026-01-31  6260.820668\n",
       "1822 2026-02-01  6276.314657\n",
       "1823 2026-02-02  6274.031550\n",
       "1824 2026-02-03  6256.956033\n",
       "1825 2026-02-04  6251.587907"
      ]
     },
     "execution_count": 35,
     "metadata": {},
     "output_type": "execute_result"
    }
   ],
   "source": [
    "forecast[['ds', 'yhat']].tail(10)"
   ]
  },
  {
   "cell_type": "markdown",
   "id": "27894540-8192-48f8-a9ef-32a076ed0388",
   "metadata": {},
   "source": [
    "`Insight`"
   ]
  },
  {
   "attachments": {},
   "cell_type": "markdown",
   "id": "6cfd2edb-bd22-4e60-9933-8612f58ec039",
   "metadata": {},
   "source": [
    "Added MAPE calculation for comprehensive error evaluation\n",
    "\n",
    "Enhanced parameter grid with:\n",
    "\n",
    "Changepoint range adjustment\n",
    "\n",
    "Custom yearly seasonality with Fourier order tuning\n",
    "\n",
    "More granular parameter options\n",
    "\n",
    "Implemented proper future forecasting with:\n",
    "\n",
    "Full dataset training for final model\n",
    "\n",
    "365-day forecast period\n",
    "\n",
    "Synthetic regressor generation (replace with real data in practice)"
   ]
  },
  {
   "cell_type": "markdown",
   "id": "cf997fdc-7d5f-4394-87fa-8478d4bf8922",
   "metadata": {},
   "source": [
    "## **Model Comparison: Prophet vs. LSTM**\n",
    "\n",
    "**Prophet**  \n",
    "- Developed by Facebook/Meta to forecast user growth by demographics.  \n",
    "- Handles seasonality effectively.  \n",
    "- Limitations: Requires sufficient historical data for accuracy.\n",
    "\n",
    "**LSTM (Long Short-Term Memory)**  \n",
    "- Effective for sequential data and time-series forecasting.  \n",
    "- Handles long-term dependencies.  \n",
    "- Limitations: High computational cost and slow training times.\n",
    "\n",
    "---\n",
    "\n",
    "## **Forecasting Accuracy**\n",
    "\n",
    "**LSTM Model Performance:**  \n",
    "- **MAPE:** 19.5%  \n",
    "- **MAE:** 3,106.18  \n",
    "\n",
    "**Prophet Model Performance:**  \n",
    "- **MAPE:** 5.5%  \n",
    "- **MAE:** 833.37  \n",
    "\n",
    "---\n",
    "\n",
    "## **Insights and Interpretation**\n",
    "\n",
    "1. **Downtrend:** GGRM stock prices have been consistently declining, and the model expects this trend to continue for the next year.  \n",
    "2. **Seasonality:** Prices tend to be higher in the early months and lower towards the end of the year.\n",
    "\n",
    "---\n",
    "\n",
    "## **Conclusion**\n",
    "\n",
    "1. **Long-Term Downtrend:** Both historical trends and the forecast model indicate a continued decline in GGRM stock prices.  \n",
    "2. **Seasonality:** Prices are expected to be higher in Q1 and lower by year-end, suggesting potential for short-term trading strategies.  \n",
    "3. **Bearish Outlook:** Unless there is a fundamental change, the stock is likely to continue its decline through 2025-2026.\n",
    "\n",
    "---\n",
    "\n",
    "## **Recommendations**\n",
    "\n",
    "1. **Short GGRM for Long-Term Gains:**  \n",
    "   - **Entry Point:** After the seasonal peak in Q1.  \n",
    "   - **Exit Point:** Hold through the year-end dip, and potentially extend into 2025-2026 if the downtrend persists.\n",
    "\n",
    "2. **Monitor Fundamental Changes:**  \n",
    "   - Be vigilant for catalysts that may reverse the downtrend.  \n",
    "   - Consider hedging volatility with put options if holding other investments in the same sector.\n",
    "\n",
    "---\n",
    "\n",
    "## **Thank You**  \n",
    "Clove Investment Indonesia"
   ]
  }
 ],
 "metadata": {
  "kernelspec": {
   "display_name": "Python 3 (ipykernel)",
   "language": "python",
   "name": "python3"
  },
  "language_info": {
   "codemirror_mode": {
    "name": "ipython",
    "version": 3
   },
   "file_extension": ".py",
   "mimetype": "text/x-python",
   "name": "python",
   "nbconvert_exporter": "python",
   "pygments_lexer": "ipython3",
   "version": "3.12.7"
  }
 },
 "nbformat": 4,
 "nbformat_minor": 5
}
